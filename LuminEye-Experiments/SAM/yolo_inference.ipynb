{
 "cells": [
  {
   "cell_type": "code",
   "execution_count": null,
   "metadata": {},
   "outputs": [],
   "source": [
    "import torch\n",
    "import torch.nn as nn \n",
    "import cv2\n",
    "import pandas as pd\n",
    "import numpy as np\n",
    "import matplotlib.pyplot as plt\n",
    "%matplotlib inline"
   ]
  },
  {
   "cell_type": "code",
   "execution_count": 17,
   "metadata": {},
   "outputs": [],
   "source": [
    "yolo_model_path = \"/home/nipun/Music/yolov5/runs/train/exp8/weights/best.pt\""
   ]
  },
  {
   "cell_type": "code",
   "execution_count": 18,
   "metadata": {},
   "outputs": [
    {
     "name": "stderr",
     "output_type": "stream",
     "text": [
      "Downloading: \"https://github.com/ultralytics/yolov5/zipball/master\" to /home/nipun/.cache/torch/hub/master.zip\n",
      "YOLOv5 🚀 2023-8-15 Python-3.10.10 torch-1.12.1+cu102 CUDA:0 (NVIDIA GeForce GTX 1660 Ti, 5945MiB)\n",
      "\n",
      "Fusing layers... \n",
      "YOLOv5m summary: 212 layers, 20856975 parameters, 0 gradients, 47.9 GFLOPs\n",
      "Adding AutoShape... \n"
     ]
    }
   ],
   "source": [
    "model = torch.hub.load('ultralytics/yolov5', 'custom', path=yolo_model_path ,force_reload=True)"
   ]
  },
  {
   "cell_type": "code",
   "execution_count": 20,
   "metadata": {},
   "outputs": [
    {
     "name": "stdout",
     "output_type": "stream",
     "text": [
      "(27, 47, 3)\n"
     ]
    }
   ],
   "source": [
    "img_path = \"/home/nipun/Documents/Uni_Malta/Datasets/Center_Regression/G4_BIO_EYES/Images/002_04_right.png\"\n",
    "img = cv2.imread(img_path)\n",
    "img = cv2.cvtColor(img,cv2.COLOR_BGR2RGB)\n",
    "\n",
    "\n",
    "print(img.shape)"
   ]
  },
  {
   "cell_type": "code",
   "execution_count": 29,
   "metadata": {},
   "outputs": [
    {
     "data": {
      "text/plain": [
       "<matplotlib.image.AxesImage at 0x7f23be396560>"
      ]
     },
     "execution_count": 29,
     "metadata": {},
     "output_type": "execute_result"
    },
    {
     "data": {
      "image/png": "[encoded data removed]",
      "text/plain": [
       "<Figure size 640x480 with 1 Axes>"
      ]
     },
     "metadata": {},
     "output_type": "display_data"
    }
   ],
   "source": [
    "\n",
    "# plt.figure()\n",
    "plt.imshow(img)\n",
    "# plt.show()"
   ]
  },
  {
   "cell_type": "code",
   "execution_count": 26,
   "metadata": {},
   "outputs": [],
   "source": [
    "results = model(img,size=640)"
   ]
  },
  {
   "cell_type": "code",
   "execution_count": 27,
   "metadata": {},
   "outputs": [
    {
     "data": {
      "text/plain": [
       "tensor([[16.9330,  3.4460, 32.0132, 18.7874,  0.8555,  0.0000],\n",
       "        [21.8752,  9.4102, 26.4069, 13.8648,  0.5746,  1.0000]], device='cuda:0')"
      ]
     },
     "execution_count": 27,
     "metadata": {},
     "output_type": "execute_result"
    }
   ],
   "source": [
    "results.xyxy[0]"
   ]
  },
  {
   "cell_type": "code",
   "execution_count": 30,
   "metadata": {},
   "outputs": [
    {
     "data": {
      "text/plain": [
       "array([[[150,  90,  81],\n",
       "        [143,  83,  76],\n",
       "        [140,  82,  75],\n",
       "        ...,\n",
       "        [169,  99,  86],\n",
       "        [172, 101,  89],\n",
       "        [172, 101,  86]],\n",
       "\n",
       "       [[151,  91,  81],\n",
       "        [148,  88,  80],\n",
       "        [150,  91,  82],\n",
       "        ...,\n",
       "        [162,  94,  79],\n",
       "        [166,  97,  82],\n",
       "        [170, 100,  84]],\n",
       "\n",
       "       [[152,  92,  83],\n",
       "        [152,  91,  83],\n",
       "        [150,  90,  81],\n",
       "        ...,\n",
       "        [159,  92,  74],\n",
       "        [162,  93,  75],\n",
       "        [164,  95,  77]],\n",
       "\n",
       "       ...,\n",
       "\n",
       "       [[148,  80,  66],\n",
       "        [144,  80,  68],\n",
       "        [134,  74,  63],\n",
       "        ...,\n",
       "        [188, 124, 100],\n",
       "        [184, 118,  94],\n",
       "        [186, 118,  96]],\n",
       "\n",
       "       [[154,  81,  67],\n",
       "        [153,  83,  71],\n",
       "        [145,  81,  71],\n",
       "        ...,\n",
       "        [195, 131, 107],\n",
       "        [193, 128, 103],\n",
       "        [193, 126, 101]],\n",
       "\n",
       "       [[166,  89,  73],\n",
       "        [160,  88,  73],\n",
       "        [152,  83,  70],\n",
       "        ...,\n",
       "        [199, 134, 110],\n",
       "        [198, 133, 107],\n",
       "        [197, 131, 104]]], dtype=uint8)"
      ]
     },
     "execution_count": 30,
     "metadata": {},
     "output_type": "execute_result"
    }
   ],
   "source": [
    "\n",
    "\n",
    "cv2.rectangle(img,(17,3),(32,18),(0,255,0),1)\n"
   ]
  },
  {
   "cell_type": "code",
   "execution_count": null,
   "metadata": {},
   "outputs": [],
   "source": []
  },
  {
   "cell_type": "code",
   "execution_count": 31,
   "metadata": {},
   "outputs": [
    {
     "data": {
      "image/png": "[encoded data removed]",
      "text/plain": [
       "<Figure size 640x480 with 1 Axes>"
      ]
     },
     "metadata": {},
     "output_type": "display_data"
    }
   ],
   "source": [
    "plt.imshow(img)\n",
    "plt.show()"
   ]
  },
  {
   "cell_type": "code",
   "execution_count": null,
   "metadata": {},
   "outputs": [],
   "source": []
  }
 ],
 "metadata": {
  "kernelspec": {
   "display_name": "LuminEye",
   "language": "python",
   "name": "python3"
  },
  "language_info": {
   "codemirror_mode": {
    "name": "ipython",
    "version": 3
   },
   "file_extension": ".py",
   "mimetype": "text/x-python",
   "name": "python",
   "nbconvert_exporter": "python",
   "pygments_lexer": "ipython3",
   "version": "3.10.6"
  },
  "orig_nbformat": 4
 },
 "nbformat": 4,
 "nbformat_minor": 2
}
