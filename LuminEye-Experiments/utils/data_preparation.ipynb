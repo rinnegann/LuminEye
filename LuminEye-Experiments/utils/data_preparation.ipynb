{
 "cells": [
  {
   "cell_type": "code",
   "execution_count": null,
   "metadata": {},
   "outputs": [],
   "source": [
    "import os\n",
    "import numpy as np\n",
    "import cv2\n",
    "import matplotlib.pyplot as plt"
   ]
  },
  {
   "cell_type": "code",
   "execution_count": null,
   "metadata": {},
   "outputs": [],
   "source": [
    "img_path = \"/home/nipun/Documents/Uni_Malta/Datasets/gi4e_database/images\"\n",
    "label_dir = \"/home/nipun/Documents/Uni_Malta/Datasets/gi4e_database/labels\"\n",
    "saved_location = \"/home/nipun/Documents/Uni_Malta/Datasets/gi4e_database/Visualization\"\n",
    "\n",
    "\n",
    "if not os.path.exists(saved_location):\n",
    "    os.makedirs(saved_location)"
   ]
  },
  {
   "cell_type": "code",
   "execution_count": null,
   "metadata": {},
   "outputs": [],
   "source": []
  },
  {
   "cell_type": "code",
   "execution_count": null,
   "metadata": {},
   "outputs": [],
   "source": [
    "# Data Visualization\n",
    "\n",
    "for text_path in os.scandir(label_dir):\n",
    "    \n",
    "    with open(text_path.path,\"r\") as d:\n",
    "        \n",
    "        info = d.readlines()\n",
    "        \n",
    "        \n",
    "    for line in info:\n",
    "        data = line.strip().split(\"\\t\")\n",
    "        \n",
    "        img_name = data[0]\n",
    "\n",
    "        bbox_array = np.array_split(np.array(data[1:]),6)\n",
    "        \n",
    "        \n",
    "        img = cv2.imread(os.path.join(img_path, img_name))\n",
    "        \n",
    "        \n",
    "        for bbox in bbox_array:\n",
    "            cv2.circle(img,(int(float(bbox[0])),int(float(bbox[1]))),1,(255,0,0),-1)\n",
    "            \n",
    "        cv2.imwrite(os.path.join(saved_location,img_name),img)\n",
    "        \n",
    "    # break\n",
    "        "
   ]
  },
  {
   "cell_type": "code",
   "execution_count": null,
   "metadata": {},
   "outputs": [],
   "source": []
  },
  {
   "attachments": {},
   "cell_type": "markdown",
   "metadata": {},
   "source": [
    "# Eye Cropping"
   ]
  },
  {
   "cell_type": "code",
   "execution_count": null,
   "metadata": {},
   "outputs": [],
   "source": [
    "import mediapipe \n",
    "import pandas as pd\n"
   ]
  },
  {
   "cell_type": "code",
   "execution_count": null,
   "metadata": {},
   "outputs": [],
   "source": [
    "text_file = \"/home/nipun/Documents/Uni_Malta/Datasets/gi4e_database/labels/067_image_labels.txt\"\n",
    "img_path = \"/home/nipun/Documents/Uni_Malta/Datasets/gi4e_database/images/067_08.png\""
   ]
  },
  {
   "cell_type": "code",
   "execution_count": null,
   "metadata": {},
   "outputs": [],
   "source": [
    "mp_face_mesh = mediapipe.solutions.face_mesh\n",
    "\n",
    "face_mesh = mp_face_mesh.FaceMesh(static_image_mode=True)"
   ]
  },
  {
   "cell_type": "code",
   "execution_count": null,
   "metadata": {},
   "outputs": [],
   "source": [
    "img_base= cv2.imread(img_path)\n",
    "results = face_mesh.process(img_base)\n",
    "\n",
    "landmarks = results.multi_face_landmarks[0]"
   ]
  },
  {
   "cell_type": "code",
   "execution_count": null,
   "metadata": {},
   "outputs": [],
   "source": [
    "\n",
    "if results.multi_face_landmarks is not None:\n",
    "    print(\"Mediapipe Detected the Face\")\n",
    "else:\n",
    "    print(\"MediaPipe Couln't be able to detect the face\")"
   ]
  },
  {
   "cell_type": "code",
   "execution_count": null,
   "metadata": {},
   "outputs": [],
   "source": [
    "img_1 = img_base.copy()\n",
    "xs = [];ys = [];zs = [];\n",
    "for landmark in landmarks.landmark:\n",
    "    x = landmark.x\n",
    "    y = landmark.y\n",
    "    # z = landmark.z\n",
    "    \n",
    "    relative_x = int(x * img_base.shape[1])\n",
    "    relative_y = int(y * img_base.shape[0])\n",
    "    \n",
    "    cv2.circle(img_1,(relative_x,relative_y),radius = 2,color=(0,255,0),thickness=-1)\n",
    "\n",
    "plt.figure(figsize=(15,15))\n",
    "plt.imshow(img_1[:,:,::-1])"
   ]
  },
  {
   "cell_type": "code",
   "execution_count": null,
   "metadata": {},
   "outputs": [],
   "source": [
    "# Convert MediaPipe Array to Numpy Array:\n",
    "shape_arr = []\n",
    "\n",
    "\n",
    "for landmark in landmarks.landmark:\n",
    "    x = landmark.x\n",
    "    y = landmark.y\n",
    "    \n",
    "    relative_x = int(x * img_base.shape[1])\n",
    "    relative_y = int(y * img_base.shape[0])\n",
    "    \n",
    "    \n",
    "    shape_arr.append([relative_x, relative_y])\n",
    "\n",
    "\n",
    "shape_arr = np.array(shape_arr) #( 468 ,2)"
   ]
  },
  {
   "cell_type": "code",
   "execution_count": null,
   "metadata": {},
   "outputs": [],
   "source": [
    "img_landmark = img_base.copy()\n",
    "\n",
    "lEyeTopLeftCorner = shape_arr[70]\n",
    "rEyeTopLeftCorner = shape_arr[285]\n",
    "\n",
    "\n",
    "\n",
    "\n",
    "\n",
    "lEyeBottomRight = shape_arr[133] \n",
    "\n",
    "rEyeBottomRight  = shape_arr[263]"
   ]
  },
  {
   "cell_type": "code",
   "execution_count": null,
   "metadata": {},
   "outputs": [],
   "source": [
    "cv2.circle(img_landmark,lEyeTopLeftCorner,2,(0,0,255),-1)\n",
    "cv2.circle(img_landmark,rEyeTopLeftCorner,2,(0,0,255),-1)\n",
    "\n",
    "cv2.circle(img_landmark,lEyeBottomRight,2,(0,0,255),-1)\n",
    "cv2.circle(img_landmark,rEyeBottomRight,2,(0,0,255),-1)\n",
    "\n",
    "fig = plt.figure(figsize=(15,15))\n",
    "plt.imshow(img_landmark[:,:,::-1])\n",
    "plt.show()"
   ]
  },
  {
   "cell_type": "code",
   "execution_count": null,
   "metadata": {},
   "outputs": [],
   "source": [
    "def cropped_image(img, shape_array, padded_amt=15):\n",
    "    \"\"\"Cropped eye region \n",
    "\n",
    "    Args:\n",
    "        img (__numpy__): _Original Image_\n",
    "        shape_array (_numpy_): _FaceLandMark locations_\n",
    "        padded_amt (int, optional): _padding size_. Defaults to 20.\n",
    "        \n",
    "    \"\"\"\n",
    "\n",
    "    Leye = {\"top_left\": shape_array[70], \"bottom_right\": shape_array[133]}\n",
    "\n",
    "    Reye = {\"top_left\": shape_array[285] ,\n",
    "            \"bottom_right\": shape_array[446]}\n",
    "\n",
    "    left_eye = img[Leye[\"top_left\"][1]:Leye[\"bottom_right\"][1] +\n",
    "                   padded_amt, Leye[\"top_left\"][0]:Leye[\"bottom_right\"][0]]\n",
    "\n",
    "    right_eye = img[Reye[\"top_left\"][1]:Reye[\"bottom_right\"][1] +\n",
    "                    padded_amt, Reye[\"top_left\"][0]:Reye[\"bottom_right\"][0]]\n",
    "    \n",
    "    \n",
    "    return left_eye, right_eye,Leye,Reye"
   ]
  },
  {
   "cell_type": "code",
   "execution_count": null,
   "metadata": {},
   "outputs": [],
   "source": [
    "left_eye, right_eye,Leye,Reye = cropped_image(img_base,shape_arr)"
   ]
  },
  {
   "cell_type": "code",
   "execution_count": null,
   "metadata": {},
   "outputs": [],
   "source": [
    "plt.imshow(left_eye[:,:,::-1])"
   ]
  },
  {
   "cell_type": "code",
   "execution_count": null,
   "metadata": {},
   "outputs": [],
   "source": [
    "plt.imshow(right_eye[:,:,::-1])"
   ]
  },
  {
   "cell_type": "code",
   "execution_count": null,
   "metadata": {},
   "outputs": [],
   "source": [
    "with open(text_file,\"r\") as data:\n",
    "    \n",
    "    info = data.readlines()"
   ]
  },
  {
   "cell_type": "code",
   "execution_count": null,
   "metadata": {},
   "outputs": [],
   "source": [
    "bbox = info[0]"
   ]
  },
  {
   "cell_type": "code",
   "execution_count": null,
   "metadata": {},
   "outputs": [],
   "source": [
    "print(bbox)\n",
    "\n",
    "coor = [490.63,338.28,471.22\t,338.41\t,452.86,\t341.93,\t401.95\t,342.45,\t383.33,\t339.84,\t362.63,\t338.41]"
   ]
  },
  {
   "cell_type": "code",
   "execution_count": null,
   "metadata": {},
   "outputs": [],
   "source": [
    "left_center = coor[8:10]\n",
    "\n",
    "print(left_center)"
   ]
  },
  {
   "cell_type": "code",
   "execution_count": null,
   "metadata": {},
   "outputs": [],
   "source": [
    "rcoord = [490.63,338.28,471.22,338.41,452.86,341.93]\n",
    "\n",
    "lcoord = [401.95,342.45,383.33,339.84,362.63,338.41]"
   ]
  },
  {
   "cell_type": "code",
   "execution_count": null,
   "metadata": {},
   "outputs": [],
   "source": [
    "def getCenterofEye(coord,leye,reye):\n",
    "    \n",
    "    left_center = coord[8:10]\n",
    "    right_center = coord[2:4]\n",
    "    \n",
    "    \n",
    "    left_center = [float(left_center[0])-leye[\"top_left\"][0],float(left_center[1])-leye[\"top_left\"][1]]\n",
    "    \n",
    "    right_center = [float(right_center[0])-reye[\"top_left\"][0],float(right_center[1])-reye[\"top_left\"][1]]\n",
    "    \n",
    "    \n",
    "    return left_center,right_center\n",
    "    \n",
    "    \n",
    "        "
   ]
  },
  {
   "cell_type": "code",
   "execution_count": null,
   "metadata": {},
   "outputs": [],
   "source": [
    "print(Leye[\"top_left\"][0])\n",
    "\n",
    "print(Reye)"
   ]
  },
  {
   "cell_type": "code",
   "execution_count": null,
   "metadata": {},
   "outputs": [],
   "source": [
    "cv2.circle(left_eye,(int(lcoord[2])-350,int(lcoord[3])-322),2,(0,0,255),-1)\n",
    "cv2.circle(right_eye,(int(rcoord[2])-444,int(rcoord[3])-335),2,(0,0,255),-1)"
   ]
  },
  {
   "cell_type": "code",
   "execution_count": null,
   "metadata": {},
   "outputs": [],
   "source": [
    "plt.imshow(left_eye[:,:,::-1])"
   ]
  },
  {
   "cell_type": "code",
   "execution_count": null,
   "metadata": {},
   "outputs": [],
   "source": []
  },
  {
   "cell_type": "code",
   "execution_count": null,
   "metadata": {},
   "outputs": [],
   "source": []
  }
 ],
 "metadata": {
  "kernelspec": {
   "display_name": "LuminEye",
   "language": "python",
   "name": "python3"
  },
  "language_info": {
   "codemirror_mode": {
    "name": "ipython",
    "version": 3
   },
   "file_extension": ".py",
   "mimetype": "text/x-python",
   "name": "python",
   "nbconvert_exporter": "python",
   "pygments_lexer": "ipython3",
   "version": "3.10.6"
  },
  "orig_nbformat": 4
 },
 "nbformat": 4,
 "nbformat_minor": 2
}
