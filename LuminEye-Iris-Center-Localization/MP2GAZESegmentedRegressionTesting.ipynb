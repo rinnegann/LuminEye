{
 "cells": [
  {
   "cell_type": "code",
   "execution_count": 1,
   "metadata": {},
   "outputs": [],
   "source": [
    "import os\n",
    "import cv2\n",
    "import numpy as np\n",
    "import torch\n",
    "import dlib\n",
    "from imutils import face_utils\n",
    "from basicsr.archs.rrdbnet_arch import RRDBNet\n",
    "from basicsr.utils.download_util import load_file_from_url\n",
    "from torchvision import transforms  \n",
    "import torch.nn as nn\n",
    "from torch.utils.data import Dataset\n",
    "from albumentations.pytorch import ToTensorV2\n",
    "import albumentations as A\n",
    "import torch.nn.functional as F\n",
    "import math\n",
    "import time\n",
    "from imutils import face_utils\n",
    "from scipy.spatial import distance as dist\n",
    "import matplotlib.pyplot as plt\n",
    "import mediapipe\n",
    "from BaseModels.resnetModels import BB_model\n",
    "from BaseModels.efficientnetModels import BB_model\n",
    "import pandas as pd\n",
    "device = torch.device(\"cuda\" if torch.cuda.is_available() else \"cpu\")\n",
    "from scipy.spatial import distance\n",
    "import sys\n",
    "sys.path.append(\"../LuminEye-MainPipeLine/\")\n",
    "# device = \"cpu\"\n",
    "\n",
    "\n",
    "    \n"
   ]
  },
  {
   "cell_type": "code",
   "execution_count": 2,
   "metadata": {},
   "outputs": [],
   "source": [
    "# # Load Model 256\n",
    "model_U = torch.load(\n",
    "    \"/home/nipun/Documents/Uni_Malta/LuminEye/LuminEye-Experiments/U2net/U2NET_MULTICLASS_IMG_256_DIC_batch_8/Miche_model_2023_04_11_22:14:26_val_iou0.900.pt\", map_location=device)\n",
    "\n",
    "\n",
    "model_U.eval()\n",
    "\n",
    "RESIZE_AMT = 256"
   ]
  },
  {
   "cell_type": "code",
   "execution_count": 3,
   "metadata": {},
   "outputs": [],
   "source": [
    "# MP2GAZE\n",
    "val_csv_path = \"/home/nipun/Documents/Uni_Malta/Datasets/CenterRegression/MP2GAZE/AllCoordinatesMp2GazeTest.csv\"\n",
    "\n",
    "\n",
    "val_df = pd.read_csv(val_csv_path)\n",
    "\n"
   ]
  },
  {
   "cell_type": "code",
   "execution_count": 4,
   "metadata": {},
   "outputs": [
    {
     "data": {
      "text/html": [
       "<div>\n",
       "<style scoped>\n",
       "    .dataframe tbody tr th:only-of-type {\n",
       "        vertical-align: middle;\n",
       "    }\n",
       "\n",
       "    .dataframe tbody tr th {\n",
       "        vertical-align: top;\n",
       "    }\n",
       "\n",
       "    .dataframe thead th {\n",
       "        text-align: right;\n",
       "    }\n",
       "</style>\n",
       "<table border=\"1\" class=\"dataframe\">\n",
       "  <thead>\n",
       "    <tr style=\"text-align: right;\">\n",
       "      <th></th>\n",
       "      <th>ImageName</th>\n",
       "      <th>Coordinates</th>\n",
       "      <th>DataSet Type</th>\n",
       "    </tr>\n",
       "  </thead>\n",
       "  <tbody>\n",
       "    <tr>\n",
       "      <th>0</th>\n",
       "      <td>MPIIGaze/Data/Original/p00/day02/0350.jpg\"</td>\n",
       "      <td>[576.75131084363, 446.9430824441167, 595.62107...</td>\n",
       "      <td>MP2GAZE</td>\n",
       "    </tr>\n",
       "    <tr>\n",
       "      <th>1</th>\n",
       "      <td>MPIIGaze/Data/Original/p00/day23/0201.jpg\"</td>\n",
       "      <td>[629.1027244977723, 418.5422721626321, 649.159...</td>\n",
       "      <td>MP2GAZE</td>\n",
       "    </tr>\n",
       "    <tr>\n",
       "      <th>2</th>\n",
       "      <td>MPIIGaze/Data/Original/p00/day22/0437.jpg\"</td>\n",
       "      <td>[519.3837103984533, 379.3424773235636, 551.963...</td>\n",
       "      <td>MP2GAZE</td>\n",
       "    </tr>\n",
       "    <tr>\n",
       "      <th>3</th>\n",
       "      <td>MPIIGaze/Data/Original/p00/day34/0296.jpg\"</td>\n",
       "      <td>[563.4499942709884, 374.6517620194357, 591.877...</td>\n",
       "      <td>MP2GAZE</td>\n",
       "    </tr>\n",
       "    <tr>\n",
       "      <th>4</th>\n",
       "      <td>MPIIGaze/Data/Original/p00/day10/0198.jpg\"</td>\n",
       "      <td>[659.4630047049818, 463.58724173032533, 685.19...</td>\n",
       "      <td>MP2GAZE</td>\n",
       "    </tr>\n",
       "  </tbody>\n",
       "</table>\n",
       "</div>"
      ],
      "text/plain": [
       "                                    ImageName  \\\n",
       "0  MPIIGaze/Data/Original/p00/day02/0350.jpg\"   \n",
       "1  MPIIGaze/Data/Original/p00/day23/0201.jpg\"   \n",
       "2  MPIIGaze/Data/Original/p00/day22/0437.jpg\"   \n",
       "3  MPIIGaze/Data/Original/p00/day34/0296.jpg\"   \n",
       "4  MPIIGaze/Data/Original/p00/day10/0198.jpg\"   \n",
       "\n",
       "                                         Coordinates DataSet Type  \n",
       "0  [576.75131084363, 446.9430824441167, 595.62107...      MP2GAZE  \n",
       "1  [629.1027244977723, 418.5422721626321, 649.159...      MP2GAZE  \n",
       "2  [519.3837103984533, 379.3424773235636, 551.963...      MP2GAZE  \n",
       "3  [563.4499942709884, 374.6517620194357, 591.877...      MP2GAZE  \n",
       "4  [659.4630047049818, 463.58724173032533, 685.19...      MP2GAZE  "
      ]
     },
     "execution_count": 4,
     "metadata": {},
     "output_type": "execute_result"
    }
   ],
   "source": [
    "val_df.head()"
   ]
  },
  {
   "cell_type": "code",
   "execution_count": 5,
   "metadata": {},
   "outputs": [],
   "source": [
    "def selectImgDir(datasetType:str):\n",
    "    \n",
    "    \n",
    "    \n",
    "    \n",
    "    \n",
    "    if datasetType == \"MP2GAZE\":\n",
    "        return \"/home/nipun/Documents/Uni_Malta/Datasets/\"\n",
    "        \n",
    "        \n",
    "        \n",
    "    elif datasetType ==\"i2head\":\n",
    "        return \"/home/nipun/Documents/Uni_Malta/Datasets/\"\n",
    "        \n",
    "    elif datasetType == \"GI4E\":\n",
    "        \n",
    "        return \"/home/nipun/Documents/Uni_Malta/Datasets/gi4e_database/images/\"\n",
    "        \n",
    "        \n",
    "        \n",
    "        \n",
    "    \n",
    "    \n",
    "    "
   ]
  },
  {
   "cell_type": "code",
   "execution_count": 6,
   "metadata": {},
   "outputs": [],
   "source": [
    "def predict_image_masku2net(model, image):\n",
    "\n",
    "    image = imgTransform(image[:, :, ::-1])\n",
    "\n",
    "    image = image.to(device)\n",
    "\n",
    "    with torch.no_grad():\n",
    "\n",
    "        softmax = nn.Softmax(dim=1)\n",
    "        image = image.unsqueeze(0)\n",
    "\n",
    "        model_output, _, _, _, _, _, _ = model(image)\n",
    "\n",
    "        output = softmax(model_output)\n",
    "\n",
    "        masked = torch.argmax(output, dim=1)\n",
    "        masked = masked.cpu().squeeze(0)\n",
    "    return masked"
   ]
  },
  {
   "cell_type": "code",
   "execution_count": 7,
   "metadata": {},
   "outputs": [],
   "source": [
    "def decode_segmap(temp, n_classes=3):\n",
    "\n",
    "    colors = [[0,   0,   0], [0, 255, 0], [0, 0, 255]]\n",
    "    label_colours = dict(zip(range(n_classes), colors))\n",
    "    # convert gray scale to color\n",
    "    temp = temp.numpy()\n",
    "    r = temp.copy()\n",
    "    g = temp.copy()\n",
    "    b = temp.copy()\n",
    "    for l in range(n_classes):\n",
    "        r[temp == l] = label_colours[l][0]\n",
    "        g[temp == l] = label_colours[l][1]\n",
    "        b[temp == l] = label_colours[l][2]\n",
    "\n",
    "    rgb = np.zeros((temp.shape[0], temp.shape[1], 3))\n",
    "    rgb[:, :, 0] = r / 255.0\n",
    "    rgb[:, :, 1] = g / 255.0\n",
    "    rgb[:, :, 2] = b / 255.0\n",
    "    return rgb"
   ]
  },
  {
   "cell_type": "code",
   "execution_count": 8,
   "metadata": {},
   "outputs": [],
   "source": [
    "def imageCenterFromConnectedComponent(img, connectivity=4):\n",
    "\n",
    "    pred_image = decode_segmap(img) * 255\n",
    "\n",
    "    grayscale_mask = np.argmax(pred_image, axis=-1).astype(np.uint8)\n",
    "\n",
    "    analysis = cv2.connectedComponentsWithStats(grayscale_mask,\n",
    "                                                connectivity,\n",
    "                                                cv2.CV_32S)\n",
    "    (totalLabels, label_ids, values, centroid) = analysis\n",
    "\n",
    "    return centroid"
   ]
  },
  {
   "cell_type": "code",
   "execution_count": 9,
   "metadata": {},
   "outputs": [],
   "source": [
    "def imgTransform(image):\n",
    "    \"\"\" Transform numpy images to Torch tensors\n",
    "\n",
    "    Args:\n",
    "        image (_numpy_): _cropped_eye_region_\n",
    "        resize_amt (_int_): _Input Resize for the image_\n",
    "\n",
    "    Returns:\n",
    "        _torch.float32_: _Transformed image tensor_\n",
    "    \"\"\"\n",
    "\n",
    "    transform = A.Compose([\n",
    "        A.Resize(RESIZE_AMT, RESIZE_AMT),\n",
    "        A.augmentations.transforms.Normalize(\n",
    "            mean=(0.5, 0.5, 0.5), std=(0.5, 0.5, 0.5)),\n",
    "        ToTensorV2()\n",
    "    ])\n",
    "\n",
    "    return transform(image=image)[\"image\"]"
   ]
  },
  {
   "cell_type": "code",
   "execution_count": 10,
   "metadata": {},
   "outputs": [],
   "source": [
    "def cropeyes(image, inner_array, outer_array):\n",
    "\n",
    "    arr = {\"top_left\": [inner_array[0]-5, inner_array[1]-20],\n",
    "           \"bottom_right\": [outer_array[0]+5, outer_array[1]+20]}\n",
    "\n",
    "    return image[arr[\"top_left\"][1]:arr[\"bottom_right\"][1], arr[\"top_left\"][0]:arr[\"bottom_right\"][0]], arr"
   ]
  },
  {
   "cell_type": "code",
   "execution_count": 11,
   "metadata": {},
   "outputs": [],
   "source": [
    "\n",
    "\n",
    "\n",
    "def rescale_coordinate(coord,original_image,resize_amt):\n",
    "    \n",
    "    h,w = original_image.shape[:2]\n",
    "    coord[0] = int((coord[0]/resize_amt) * w)\n",
    "    coord[1] = int((coord[1]/resize_amt) * h)\n",
    "    \n",
    "    return coord"
   ]
  },
  {
   "cell_type": "code",
   "execution_count": 12,
   "metadata": {},
   "outputs": [],
   "source": [
    "def scaleCoorinatesToOriginalImage(pred_coords,eye_margin):\n",
    "    \n",
    "    # {'top_left': array([385, 214]), 'bottom_right': array([426, 226])}\n",
    "    \n",
    "    x1 = eye_margin[\"top_left\"][0] + pred_coords[0]\n",
    "    y1 = eye_margin[\"top_left\"][1] + pred_coords[1]\n",
    "    \n",
    "    return [x1,y1]\n",
    "    "
   ]
  },
  {
   "cell_type": "code",
   "execution_count": 13,
   "metadata": {},
   "outputs": [],
   "source": [
    "def calculateEuclideanDistance(coord1,coord2):\n",
    "    return (((coord1[0])-float(coord2[0]))^2  + (float(coord1[0])-float(coord2[0]))^2) ^ 0.5"
   ]
  },
  {
   "cell_type": "code",
   "execution_count": 14,
   "metadata": {},
   "outputs": [],
   "source": [
    "IMG_DIR = \"/home/nipun/Documents/Uni_Malta/Datasets/\""
   ]
  },
  {
   "cell_type": "code",
   "execution_count": 15,
   "metadata": {},
   "outputs": [
    {
     "name": "stderr",
     "output_type": "stream",
     "text": [
      "/home/nipun/.local/lib/python3.10/site-packages/torch/nn/functional.py:3722: UserWarning: nn.functional.upsample is deprecated. Use nn.functional.interpolate instead.\n",
      "  warnings.warn(\"nn.functional.upsample is deprecated. Use nn.functional.interpolate instead.\")\n"
     ]
    },
    {
     "name": "stdout",
     "output_type": "stream",
     "text": [
      "0.0075179470267321075\n",
      "0.0\n",
      "0.006321016541654178\n",
      "0.0072461865655470544\n",
      "0.011036425130401262\n",
      "0.006991468622042873\n",
      "0.0055828472590842525\n",
      "0.011528191356837568\n",
      "0.005772540681943417\n",
      "0.018789823781967165\n",
      "0.014474144679084316\n",
      "0.014492753623188406\n",
      "0.006112464870141717\n",
      "0.01845917933256439\n",
      "0.02194122358732865\n",
      "0.014468462378586958\n",
      "0.008996058340958934\n",
      "0.014596984793312546\n",
      "0.018362925952195547\n",
      "0.034816772452925485\n",
      "0.009233567043002652\n",
      "0.011145218132094787\n",
      "0.01642569885854426\n",
      "0.008894249014548118\n",
      "0.007461855486748755\n",
      "0.01817280910462035\n",
      "0.017991752671666816\n",
      "0.009037292514618133\n",
      "0.02343312028655591\n",
      "0.009820690716414294\n",
      "0.011974115989261225\n",
      "0.010712509552549888\n",
      "0.009998700253445089\n",
      "0.012623284572736844\n",
      "0.007770286898858114\n",
      "0.01208244186660354\n",
      "0.00752390284808123\n",
      "0.011807272449596909\n",
      "0.009686167061350202\n",
      "0.016685216106649997\n",
      "0.013153113483567893\n",
      "0.018773922658852197\n",
      "0.015037168948034583\n",
      "0.008770580193070292\n",
      "0.010959932487023821\n",
      "0.011497671238805652\n",
      "0.01552824984374854\n",
      "0.018469811292500967\n",
      "0.02099571206367178\n",
      "0.013964178950619672\n",
      "0.029552706228277086\n",
      "0.01960407493444558\n",
      "0.024558833620630077\n",
      "0.008333043996551019\n",
      "0.00978091590241809\n",
      "0.01959936773459516\n",
      "0.03789945724575915\n",
      "0.017192386421410154\n",
      "0.0\n",
      "0.016552117772047358\n",
      "0.016939422832878557\n",
      "0.008766535033261112\n",
      "0.016687074458953656\n",
      "0.012403473458920847\n",
      "0.011869070423210748\n",
      "0.02129202335170726\n",
      "0.019595792529594556\n",
      "0.01883568202116761\n",
      "0.011484016042492577\n",
      "0.019788212190263627\n",
      "0.01729182742737207\n",
      "0.01778744271809958\n",
      "0.08409371869893736\n",
      "0.028484364594794254\n",
      "0.042063747664828025\n",
      "0.012514674237101318\n",
      "0.02900073952828708\n",
      "0.020894181926626287\n",
      "0.011686119145208073\n",
      "0.016939422832878557\n",
      "0.01886037249131995\n",
      "0.018949048189527844\n",
      "0.02727272727272727\n",
      "0.03325766584008638\n",
      "0.031207700513923405\n",
      "0.019760376304381096\n",
      "0.01499526786525223\n",
      "0.0\n",
      "0.014504945216194559\n",
      "0.017979026215339495\n",
      "0.12430275254090709\n",
      "0.03075467578697396\n",
      "0.025400935844162628\n",
      "0.014149778568310347\n",
      "0.048526891115214174\n",
      "0.02585822587626718\n",
      "0.022441474262531368\n",
      "0.009803450441422362\n",
      "0.02243653128423514\n",
      "0.026299402984029215\n",
      "0.027179332431065885\n",
      "0.03190077402537654\n",
      "0.010846522890932807\n",
      "0.024038183731915342\n",
      "0.025099022738377084\n",
      "0.016004609991611997\n",
      "0.016666666666666666\n",
      "0.04235995386834096\n",
      "0.008807923649020928\n",
      "0.011761450567990028\n",
      "0.018027531034590396\n",
      "0.027025930306713835\n",
      "0.026824018894244708\n",
      "0.0085442002641836\n",
      "0.018518518518518517\n",
      "0.039560579203985306\n",
      "0.017117165741551164\n",
      "0.016992163322172512\n",
      "0.012615597664022225\n",
      "0.020672455764868078\n",
      "0.023802777946288958\n",
      "0.05801062779540808\n",
      "0.012740662724081938\n",
      "0.014865882924943325\n",
      "0.013962069110799129\n",
      "0.010027613959936447\n",
      "0.012059138312498212\n",
      "0.008827806894330608\n"
     ]
    }
   ],
   "source": [
    "maximizedNormalizedError = []\n",
    "\n",
    "count = 0\n",
    "for i, (_, rows) in enumerate(val_df.iterrows()):\n",
    "\n",
    "        bbox = [int(float(x)) for x in rows[\"Coordinates\"][1:-1].split(',')]\n",
    "\n",
    "        left_inner = bbox[0:2]\n",
    "        left_center = bbox[2:4]\n",
    "        left_outer = bbox[4:6]\n",
    "\n",
    "        right_inner = bbox[6:8]\n",
    "        right_center = bbox[8:10]\n",
    "        right_outer = bbox[10:12]\n",
    "\n",
    "        img_path = os.path.join(IMG_DIR, rows[\"ImageName\"][:-1])\n",
    "        # #\n",
    "        img = cv2.imread(img_path)\n",
    "\n",
    "\n",
    "        IPD = distance.euclidean(left_center, right_center)\n",
    "        \n",
    "\n",
    "       \n",
    "\n",
    "        left_eye, Leye = cropeyes(img, left_inner, left_outer)\n",
    "        right_eye, Reye = cropeyes(img, right_inner, right_outer)\n",
    "        \n",
    "        \n",
    "        pred_l_eye, pred_r_eye = predict_image_masku2net(\n",
    "            model_U, left_eye), predict_image_masku2net(model_U, right_eye)\n",
    "        \n",
    "        \n",
    "        left_centroid = imageCenterFromConnectedComponent(pred_l_eye)[-1]\n",
    "        right_centroid = imageCenterFromConnectedComponent(pred_r_eye)[-1]\n",
    "        \n",
    "        \n",
    "        \n",
    "        \n",
    "        \n",
    "\n",
    "        pred_l_eye_center = rescale_coordinate(left_centroid, left_eye, RESIZE_AMT)\n",
    "\n",
    "        pred_r_eye_center = rescale_coordinate(right_centroid, right_eye, RESIZE_AMT)\n",
    "\n",
    "        \n",
    "        \n",
    "        \n",
    "        \n",
    "        \n",
    "        \n",
    "        \n",
    "        \n",
    "        # cv2.circle(left_eye, (int(pred_l_eye_center[0]), int(\n",
    "        #     pred_l_eye_center[1])), 1, (0, 255, 0), -1)\n",
    "\n",
    "        # cv2.circle(right_eye, (int(pred_r_eye_center[0]), int(\n",
    "        #     pred_r_eye_center[1])), 1, (0, 255, 0), -1)\n",
    "        \n",
    "\n",
    "        # fig, axes = plt.subplots(2, 2)\n",
    "\n",
    "        # fig.set_figheight(8)\n",
    "        # fig.set_figwidth(8)\n",
    "\n",
    "        # axes[0][0].imshow(left_eye)\n",
    "        # axes[0][1].imshow(pred_l_eye)\n",
    "\n",
    "        # axes[1][0].imshow(right_eye)\n",
    "        # axes[1][1].imshow(pred_r_eye)\n",
    "\n",
    "        count += 1\n",
    "        \n",
    "\n",
    "        \n",
    "        pred_l_eye_toOriginaImage = scaleCoorinatesToOriginalImage(\n",
    "            pred_l_eye_center, Leye)\n",
    "        pred_r_eye_toOriginaImage = scaleCoorinatesToOriginalImage(\n",
    "            pred_r_eye_center, Reye)\n",
    "        \n",
    "        \n",
    "\n",
    "        # # print(pred_l_eye_toOriginaImage)\n",
    "        # # print(coords[2:4])\n",
    "\n",
    "        cv2.circle(img, (int(pred_l_eye_toOriginaImage[0]), int(\n",
    "            pred_l_eye_toOriginaImage[1])), 1, (0, 255, 0), -1)\n",
    "\n",
    "        cv2.circle(img, (int(pred_r_eye_toOriginaImage[0]), int(\n",
    "            pred_r_eye_toOriginaImage[1])), 1, (0, 255, 0), -1)\n",
    "        \n",
    "        \n",
    "        \n",
    "        cv2.circle(img, (int(left_center[0]), int(\n",
    "            left_center[1])), 1, (0, 0, 255), -1)\n",
    "\n",
    "        cv2.circle(img, (int(right_center[0]), int(\n",
    "            right_center[1])), 1, (0, 0, 255), -1)\n",
    "        \n",
    "        \n",
    "        # plt.figure(figsize=(10,10))\n",
    "        # plt.imshow(img[:,:,::-1])\n",
    "        # plt.show()\n",
    "\n",
    "        left_eye_euclidea_distance = distance.euclidean(\n",
    "            pred_l_eye_toOriginaImage, left_center)\n",
    "\n",
    "        right_eye_euclidea_distance = distance.euclidean(\n",
    "            pred_r_eye_toOriginaImage, right_center)\n",
    "\n",
    "        eMax = max(left_eye_euclidea_distance, right_eye_euclidea_distance)/IPD\n",
    "\n",
    "        print(eMax)\n",
    "\n",
    "        maximizedNormalizedError.append(eMax)\n",
    "        # break\n",
    "        # if count ==10:\n",
    "        #     break"
   ]
  },
  {
   "cell_type": "code",
   "execution_count": 16,
   "metadata": {},
   "outputs": [],
   "source": [
    "def CheckForLess(list1, val):\n",
    "    \n",
    "    l1 = []\n",
    "    for x in list1:\n",
    "        \n",
    "        if x <= val:\n",
    "            l1.append(x)\n",
    "    return l1"
   ]
  },
  {
   "cell_type": "code",
   "execution_count": 17,
   "metadata": {},
   "outputs": [],
   "source": [
    "e_0_25 = CheckForLess(maximizedNormalizedError,0.25)\n",
    "\n",
    "e_0_05 = CheckForLess(maximizedNormalizedError,0.05)\n",
    "\n",
    "e_0_1 = CheckForLess(maximizedNormalizedError,0.1)"
   ]
  },
  {
   "cell_type": "code",
   "execution_count": 18,
   "metadata": {},
   "outputs": [
    {
     "data": {
      "text/plain": [
       "100.0"
      ]
     },
     "execution_count": 18,
     "metadata": {},
     "output_type": "execute_result"
    }
   ],
   "source": [
    "(len(e_0_25)/len(maximizedNormalizedError)) *100"
   ]
  },
  {
   "cell_type": "code",
   "execution_count": 19,
   "metadata": {},
   "outputs": [
    {
     "data": {
      "text/plain": [
       "97.65625"
      ]
     },
     "execution_count": 19,
     "metadata": {},
     "output_type": "execute_result"
    }
   ],
   "source": [
    "(len(e_0_05)/len(maximizedNormalizedError)) * 100"
   ]
  },
  {
   "cell_type": "code",
   "execution_count": 20,
   "metadata": {},
   "outputs": [
    {
     "data": {
      "text/plain": [
       "99.21875"
      ]
     },
     "execution_count": 20,
     "metadata": {},
     "output_type": "execute_result"
    }
   ],
   "source": [
    "len(e_0_1)/len((maximizedNormalizedError)) * 100"
   ]
  },
  {
   "cell_type": "code",
   "execution_count": 21,
   "metadata": {},
   "outputs": [
    {
     "data": {
      "text/plain": [
       "<matplotlib.image.AxesImage at 0x7fb5fc172e30>"
      ]
     },
     "execution_count": 21,
     "metadata": {},
     "output_type": "execute_result"
    },
    {
     "data": {
      "image/png": "[encoded data removed]",
      "text/plain": [
       "<Figure size 1500x1500 with 1 Axes>"
      ]
     },
     "metadata": {},
     "output_type": "display_data"
    }
   ],
   "source": [
    "plt.figure(figsize=(15,15))\n",
    "plt.imshow(img[:,:,::-1])\n"
   ]
  },
  {
   "cell_type": "code",
   "execution_count": 22,
   "metadata": {},
   "outputs": [
    {
     "data": {
      "text/plain": [
       "<matplotlib.image.AxesImage at 0x7fb5f455a020>"
      ]
     },
     "execution_count": 22,
     "metadata": {},
     "output_type": "execute_result"
    },
    {
     "data": {
      "image/png": "[encoded data removed]",
      "text/plain": [
       "<Figure size 640x480 with 1 Axes>"
      ]
     },
     "metadata": {},
     "output_type": "display_data"
    }
   ],
   "source": [
    "plt.imshow(right_eye)"
   ]
  },
  {
   "cell_type": "code",
   "execution_count": null,
   "metadata": {},
   "outputs": [],
   "source": []
  },
  {
   "cell_type": "code",
   "execution_count": null,
   "metadata": {},
   "outputs": [],
   "source": []
  },
  {
   "cell_type": "code",
   "execution_count": null,
   "metadata": {},
   "outputs": [],
   "source": []
  },
  {
   "cell_type": "code",
   "execution_count": null,
   "metadata": {},
   "outputs": [],
   "source": []
  },
  {
   "cell_type": "code",
   "execution_count": null,
   "metadata": {},
   "outputs": [],
   "source": []
  },
  {
   "cell_type": "code",
   "execution_count": null,
   "metadata": {},
   "outputs": [],
   "source": []
  },
  {
   "cell_type": "code",
   "execution_count": null,
   "metadata": {},
   "outputs": [],
   "source": []
  },
  {
   "cell_type": "code",
   "execution_count": null,
   "metadata": {},
   "outputs": [],
   "source": []
  },
  {
   "cell_type": "code",
   "execution_count": null,
   "metadata": {},
   "outputs": [],
   "source": []
  },
  {
   "cell_type": "code",
   "execution_count": null,
   "metadata": {},
   "outputs": [],
   "source": [
    "img_path =  \"/home/nipun/Documents/Uni_Malta/Datasets/columbia_gaze_data_set/Columbia Gaze Data Set/0039/0039_2m_0P_10V_5H.jpg\"\n",
    "\n",
    "frame = cv2.imread(img_path)\n",
    "\n",
    "plt.imshow(frame[:,:,::-1])"
   ]
  },
  {
   "cell_type": "code",
   "execution_count": null,
   "metadata": {},
   "outputs": [],
   "source": [
    "  # MediaPipe\n",
    "shape_array = captureFaceLandmarks(frame)\n",
    "        "
   ]
  },
  {
   "cell_type": "code",
   "execution_count": null,
   "metadata": {},
   "outputs": [],
   "source": [
    "left_eye, right_eye,Leye,Reye = cropped_image(frame, shape_array)\n",
    "        "
   ]
  },
  {
   "cell_type": "code",
   "execution_count": null,
   "metadata": {},
   "outputs": [],
   "source": [
    "plt.imshow(left_eye[:,:,::-1])"
   ]
  },
  {
   "cell_type": "code",
   "execution_count": null,
   "metadata": {},
   "outputs": [],
   "source": [
    "plt.imshow(right_eye[:,:,::-1])"
   ]
  },
  {
   "cell_type": "code",
   "execution_count": null,
   "metadata": {},
   "outputs": [],
   "source": [
    "# left = \"/home/nipun/Documents/Uni_Malta/Datasets/Center_Regression/MP2GAZE/Images/417_left.png\"\n",
    "\n",
    "# left_eye = cv2.imread(left)"
   ]
  },
  {
   "cell_type": "code",
   "execution_count": null,
   "metadata": {},
   "outputs": [],
   "source": [
    "_,pred_l_eye = prediction_image(model=REGRESSION_MODEL,image=left_eye)\n",
    "        \n",
    "        \n",
    "_,pred_r_eye = prediction_image(model=REGRESSION_MODEL,image=right_eye)\n",
    "\n",
    "\n",
    "pred_l_eye = rescale_coordinate(pred_l_eye,left_eye,RESIZE_AMT)\n",
    "\n",
    "pred_r_eye = rescale_coordinate(pred_r_eye,right_eye,RESIZE_AMT)"
   ]
  },
  {
   "cell_type": "code",
   "execution_count": null,
   "metadata": {},
   "outputs": [],
   "source": [
    "cv2.circle(left_eye,(int(pred_l_eye[0]),int(pred_l_eye[1])),1,(0,255,0),-1)\n",
    "cv2.circle(right_eye,(int(pred_r_eye[0]),int(pred_r_eye[1])),1,(0,255,0),-1)"
   ]
  },
  {
   "cell_type": "code",
   "execution_count": null,
   "metadata": {},
   "outputs": [],
   "source": [
    "plt.imshow(left_eye[:,:,::-1])"
   ]
  },
  {
   "cell_type": "code",
   "execution_count": null,
   "metadata": {},
   "outputs": [],
   "source": [
    "plt.imshow(right_eye[:,:,::-1])\n",
    "    "
   ]
  },
  {
   "cell_type": "code",
   "execution_count": null,
   "metadata": {},
   "outputs": [],
   "source": []
  },
  {
   "cell_type": "markdown",
   "metadata": {},
   "source": [
    "# CoordConv"
   ]
  },
  {
   "cell_type": "code",
   "execution_count": null,
   "metadata": {},
   "outputs": [],
   "source": [
    "import numpy as np\n"
   ]
  },
  {
   "cell_type": "code",
   "execution_count": null,
   "metadata": {},
   "outputs": [],
   "source": [
    "import numpy as np\n",
    "import torch\n",
    "import torch.nn as nn\n",
    "import torch.optim as optim\n",
    "import torch.nn.functional as F\n",
    "import matplotlib.pyplot as plt\n",
    "\n",
    "plt.ion()\n",
    "seed = 123\n",
    "np.random.seed(seed)\n",
    "torch.manual_seed(seed)"
   ]
  },
  {
   "cell_type": "code",
   "execution_count": null,
   "metadata": {},
   "outputs": [],
   "source": [
    "def generate_data():\n",
    "    # generate all of the input images\n",
    "    n_samples = 56 ** 2\n",
    "    onehots = np.pad(np.eye(n_samples).reshape((n_samples, 1, 56, 56)), ((0,0), (0, 0), (4,4), (4,4)), \"constant\")\n",
    "    onehots = torch.from_numpy(onehots).float()\n",
    "    with torch.no_grad():\n",
    "        conv = nn.Conv2d(1, 1, kernel_size=9, padding=4, stride=1)\n",
    "        conv.weight.data.fill_(1)\n",
    "        conv.bias.data.fill_(0)\n",
    "        dataset_x = conv(onehots)\n",
    "    y_i = torch.arange(56).view(56, 1).repeat(1, 56).view(-1, 1)\n",
    "    y_j = torch.arange(56).repeat(56, 1).view(-1, 1)\n",
    "    dataset_y = torch.cat((y_i, y_j), dim=1)\n",
    "\n",
    "    # split the dataset tensor into train, test sets\n",
    "    sample_order = np.arange(n_samples)\n",
    "    \n",
    "    np.random.shuffle(sample_order)\n",
    "    train_idxes = sample_order[:2352]\n",
    "    test_idxes = sample_order[2352:]\n",
    "\n",
    "    train_x = dataset_x[train_idxes]\n",
    "    train_y = dataset_y[train_idxes] \n",
    "    test_x = dataset_x[test_idxes]\n",
    "    test_y = dataset_y[test_idxes]\n",
    "\n",
    "    return train_x, train_y, test_x, test_y"
   ]
  },
  {
   "cell_type": "code",
   "execution_count": null,
   "metadata": {},
   "outputs": [],
   "source": [
    "train_x, train_y, test_x, test_y = generate_data()"
   ]
  },
  {
   "cell_type": "code",
   "execution_count": null,
   "metadata": {},
   "outputs": [],
   "source": [
    "train_x.shape"
   ]
  },
  {
   "cell_type": "code",
   "execution_count": null,
   "metadata": {},
   "outputs": [],
   "source": []
  },
  {
   "cell_type": "code",
   "execution_count": null,
   "metadata": {},
   "outputs": [],
   "source": [
    "samples = 8**2\n",
    "x = np.pad(np.ones((64,64)).reshape(samples,1,8,8), ((2,2), (0, 0), (4,4), (4,4)),\"constant\")"
   ]
  },
  {
   "cell_type": "code",
   "execution_count": null,
   "metadata": {},
   "outputs": [],
   "source": [
    "x[63]\n",
    "\n",
    "\n",
    "# array([[[0., 0., 0., 0., 0., 0., 0., 0.],\n",
    "#         [0., 0., 0., 0., 0., 0., 0., 0.],\n",
    "#         [0., 0., 0., 0., 0., 0., 0., 0.],\n",
    "#         [0., 0., 0., 0., 0., 0., 0., 0.],\n",
    "#         [0., 0., 0., 0., 0., 0., 0., 0.],\n",
    "#         [0., 0., 0., 0., 0., 0., 0., 0.],\n",
    "#         [0., 0., 0., 0., 0., 0., 0., 0.],\n",
    "#         [0., 0., 0., 0., 0., 0., 0., 1.]]])\n",
    "#"
   ]
  },
  {
   "cell_type": "code",
   "execution_count": null,
   "metadata": {},
   "outputs": [],
   "source": [
    "x = np.eye(4)"
   ]
  },
  {
   "cell_type": "code",
   "execution_count": null,
   "metadata": {},
   "outputs": [],
   "source": [
    "x.shape"
   ]
  },
  {
   "cell_type": "code",
   "execution_count": null,
   "metadata": {},
   "outputs": [],
   "source": [
    "x"
   ]
  },
  {
   "cell_type": "code",
   "execution_count": null,
   "metadata": {},
   "outputs": [],
   "source": [
    "torch.arange(8)."
   ]
  },
  {
   "cell_type": "code",
   "execution_count": null,
   "metadata": {},
   "outputs": [],
   "source": [
    "torch.arange(8).view(8,1)"
   ]
  },
  {
   "cell_type": "code",
   "execution_count": null,
   "metadata": {},
   "outputs": [],
   "source": [
    "torch.arange(8).view(8,1).repeat(1,56)"
   ]
  },
  {
   "cell_type": "code",
   "execution_count": null,
   "metadata": {},
   "outputs": [],
   "source": [
    "torch.arange(8).view(8,1)"
   ]
  },
  {
   "cell_type": "code",
   "execution_count": null,
   "metadata": {},
   "outputs": [],
   "source": [
    "torch.arange(8).view(8,1).repeat(1,8)"
   ]
  },
  {
   "cell_type": "code",
   "execution_count": null,
   "metadata": {},
   "outputs": [],
   "source": [
    "train_x, train_y, test_x, test_y = generate_data()"
   ]
  },
  {
   "cell_type": "code",
   "execution_count": null,
   "metadata": {},
   "outputs": [],
   "source": [
    "import numpy as np\n",
    "import torch\n",
    "import torch.nn as nn\n",
    "import torch.optim as optim\n",
    "import torch.nn.functional as F\n",
    "import matplotlib.pyplot as plt\n",
    "\n",
    "plt.ion()\n",
    "seed = 123\n",
    "np.random.seed(seed)\n",
    "torch.manual_seed(seed)\n",
    "\n",
    "\n",
    "\n",
    "def generate_data():\n",
    "    # generate all of the input images\n",
    "    n_samples = 56 ** 2\n",
    "    onehots = np.pad(np.eye(n_samples).reshape((n_samples, 1, 56, 56)), ((0,0), (0, 0), (4,4), (4,4)), \"constant\")\n",
    "    onehots = torch.from_numpy(onehots).float()\n",
    "    with torch.no_grad():\n",
    "        conv = nn.Conv2d(1, 1, kernel_size=9, padding=4, stride=1)\n",
    "        conv.weight.data.fill_(1)\n",
    "        conv.bias.data.fill_(0)\n",
    "        dataset_x = conv(onehots)\n",
    "    y_i = torch.arange(56).view(56, 1).repeat(1, 56).view(-1, 1)\n",
    "    y_j = torch.arange(56).repeat(56, 1).view(-1, 1)\n",
    "    dataset_y = torch.cat((y_i, y_j), dim=1)\n",
    "\n",
    "    # split the dataset tensor into train, test sets\n",
    "    sample_order = np.arange(n_samples)\n",
    "    \n",
    "    np.random.shuffle(sample_order)\n",
    "    train_idxes = sample_order[:2352]\n",
    "    test_idxes = sample_order[2352:]\n",
    "\n",
    "    train_x = dataset_x[train_idxes]\n",
    "    train_y = dataset_y[train_idxes] \n",
    "    test_x = dataset_x[test_idxes]\n",
    "    test_y = dataset_y[test_idxes]\n",
    "\n",
    "    return train_x, train_y, test_x, test_y\n",
    "\n",
    "\n",
    "class CoordConv2d(nn.Module):\n",
    "    \n",
    "    def __init__(self, device, in_channels, out_channels, kernel_size, padding, stride, input_size):\n",
    "        super(CoordConv2d, self).__init__()\n",
    "        self.device = device\n",
    "        self.cc_xy = self.make_channels(input_size)\n",
    "        self.conv = nn.Conv2d(in_channels+2, out_channels, kernel_size=kernel_size, padding=padding, stride=stride)\n",
    "\n",
    "    def make_channels(self, input_size):\n",
    "        coord_vals = (2 * torch.arange(input_size) / input_size) - 1\n",
    "        xchannel = coord_vals.repeat((input_size, 1)).unsqueeze(dim=0)\n",
    "        ychannel = xchannel.permute(0, 2, 1)\n",
    "        return torch.cat((xchannel.unsqueeze(dim=0), ychannel.unsqueeze(dim=0)), dim=1)\n",
    "\n",
    "    def forward(self, x):\n",
    "        n = x.shape[0]\n",
    "        x = torch.cat((x, self.cc_xy.repeat(n, 1, 1, 1).to(self.device)), dim=1)\n",
    "        return self.conv(x)\n",
    "\n",
    "\n",
    "\n",
    "class CNN(nn.Module):\n",
    "\n",
    "    def __init__(self, device, coordconv=True):\n",
    "        super(CNN, self).__init__()\n",
    "        self.relu = nn.ReLU()\n",
    "        self.pool = nn.MaxPool2d(kernel_size=5, padding=2, stride=2)\n",
    "        self.bn1 = nn.BatchNorm2d(num_features=1)\n",
    "        self.bn2 = nn.BatchNorm2d(2)\n",
    "        self.bn3 = nn.BatchNorm2d(2)\n",
    "        # input (N, C, H, W) is (N, 1, 64, 64)\n",
    "        if coordconv:\n",
    "            self.conv1 = CoordConv2d(device, 1, 1, kernel_size=1, padding=0, stride=1, input_size=64)\n",
    "        else:\n",
    "            self.conv1 = nn.Conv2d(1, 1, kernel_size=1, padding=0, stride=1)\n",
    "        self.conv2 = nn.Conv2d(1, 2, kernel_size=3, padding=1, stride=2)\n",
    "        self.conv3 = nn.Conv2d(2, 2, kernel_size=3, padding=1, stride=2)\n",
    "        self.fc1 = nn.Linear(2 * 4 * 4, 2)\n",
    "        \n",
    "    def forward(self, x):\n",
    "        x = self.bn1(self.conv1(x))\n",
    "        x = self.relu(self.pool(self.bn2(self.conv2(x))))\n",
    "        x = self.relu(self.pool(self.bn3(self.conv3(x))))\n",
    "        x = self.relu(self.fc1(x.view(x.size(0), -1)))\n",
    "        return x\n",
    "\n",
    "\n",
    "device = 'cuda' if torch.cuda.is_available() else 'cpu'\n",
    "train_x, train_y, test_x, test_y = generate_data()\n",
    "train_x, train_y, test_x, test_y = train_x.to(device), train_y.to(device), test_x.to(device), test_y.to(device)\n",
    "models = [CNN(device=device, coordconv=False).to(device), CNN(device=device, coordconv=True).to(device)]\n",
    "model_names = [\"Standard\", \"CoordConv\"]\n",
    "n_epochs = 5000\n",
    "batch_size = 32\n",
    "\n",
    "loss_history = [[],[]]  # append validation losses as the models train for eventual plotting.\n",
    "\n",
    "for model_idx, model in enumerate(models):\n",
    "    optimizer = optim.Adam(model.parameters(), lr=5e-4)\n",
    "    criterion = nn.L1Loss()\n",
    "    for epoch_i in range(n_epochs):\n",
    "        model.train()\n",
    "        # sample a batch\n",
    "        sample_idxes = np.random.randint(2352, size=(batch_size))\n",
    "        pred_y = model(train_x[sample_idxes])\n",
    "        loss = criterion(pred_y, train_y[sample_idxes])\n",
    "        optimizer.zero_grad()\n",
    "        loss.backward()\n",
    "        optimizer.step()\n",
    "\n",
    "        if (epoch_i + 1) % 50 == 0:\n",
    "            # evaluate the model\n",
    "            with torch.no_grad():\n",
    "                model.eval()\n",
    "                test_loss = criterion(model(test_x), test_y)\n",
    "            print(\"Epoch: {}/{}, Model: {}, Train Loss: {:.3f}, Test Loss: {:.3f}\".format(epoch_i + 1, n_epochs, model_names[model_idx], loss.item(), test_loss.item()))\n",
    "            loss_history[model_idx].append(test_loss.item())\n",
    "\n",
    "    print(\"---\" * 10, \"\\n\")\n",
    "\n",
    "\n",
    "# plot the validation loss histories\n",
    "plt.ion()\n",
    "epoch_x = np.arange(50, n_epochs+1, 50)\n",
    "plt.plot(epoch_x, loss_history[0], label=\"Standard\", lw=3)\n",
    "plt.plot(epoch_x, loss_history[1], label=\"CoordConv\", lw=3)\n",
    "plt.legend()\n",
    "plt.title(\"Supervised Regression Error\")\n",
    "plt.xlabel(\"Epoch\")\n",
    "plt.ylabel(\"Error\")\n",
    "\n",
    "\n",
    "# Functions to show the CoordConv predictions on input images after training, if desired.\n",
    "def test_show(sample_idx):\n",
    "    plt.imshow(test_x[sample_idx, 0].detach().cpu().numpy(), cmap='Reds')\n",
    "    with torch.no_grad():\n",
    "        pred_y = model(test_x)[sample_idx]\n",
    "    print(\"Predicted: {}, Target: {}\".format(pred_y.detach().cpu().numpy(), test_y[sample_idx].detach().cpu().numpy()))\n",
    "\n",
    "def train_show(sample_idx):\n",
    "    plt.imshow(train_x[sample_idx, 0].detach().cpu().numpy(), cmap='Reds')\n",
    "    with torch.no_grad():\n",
    "        model.eval()\n",
    "        pred_y = model(train_x)[sample_idx]\n",
    "    print(\"Predicted: {}, Target: {}\".format(pred_y.detach().cpu().numpy(), train_y[sample_idx].detach().cpu().numpy()))"
   ]
  },
  {
   "cell_type": "code",
   "execution_count": null,
   "metadata": {},
   "outputs": [],
   "source": [
    "x1 = torch.randn(1,2)\n",
    "y1 = torch.randn(1,2)\n",
    "gt = torch.randn(1,2)\n",
    "catX = torch.cat([x1,y1])\n",
    "catY = torch.cat([gt,gt])"
   ]
  },
  {
   "cell_type": "code",
   "execution_count": null,
   "metadata": {},
   "outputs": [],
   "source": [
    "x1"
   ]
  },
  {
   "cell_type": "code",
   "execution_count": null,
   "metadata": {},
   "outputs": [],
   "source": [
    "import torch.nn as nn"
   ]
  },
  {
   "cell_type": "code",
   "execution_count": null,
   "metadata": {},
   "outputs": [],
   "source": [
    "loss = nn.L1Loss(reduction='mean')"
   ]
  },
  {
   "cell_type": "code",
   "execution_count": null,
   "metadata": {},
   "outputs": [],
   "source": [
    "loss_1 = loss(x1,gt)\n",
    "loss_2 = loss(y1,gt)\n",
    "\n",
    "print(loss_1)\n",
    "print(loss_2)\n",
    "\n",
    "# tensor([[0.5266, 0.1171]])\n",
    "# tensor([[0.6186, 0.3922]])"
   ]
  },
  {
   "cell_type": "code",
   "execution_count": null,
   "metadata": {},
   "outputs": [],
   "source": [
    "loss_3 = loss(catX,catY)\n",
    "\n",
    "print(loss_3)"
   ]
  },
  {
   "cell_type": "code",
   "execution_count": null,
   "metadata": {},
   "outputs": [],
   "source": [
    "import numpy as np\n",
    "import matplotlib.pyplot as plt"
   ]
  },
  {
   "cell_type": "code",
   "execution_count": null,
   "metadata": {},
   "outputs": [],
   "source": [
    "x = np.arange(5)\n",
    "y = np.arange(5)"
   ]
  },
  {
   "cell_type": "code",
   "execution_count": null,
   "metadata": {},
   "outputs": [],
   "source": [
    "xx,yy = np.meshgrid(x,y)"
   ]
  },
  {
   "cell_type": "code",
   "execution_count": null,
   "metadata": {},
   "outputs": [],
   "source": [
    "xx"
   ]
  },
  {
   "cell_type": "code",
   "execution_count": null,
   "metadata": {},
   "outputs": [],
   "source": [
    "yy"
   ]
  },
  {
   "cell_type": "code",
   "execution_count": null,
   "metadata": {},
   "outputs": [],
   "source": [
    "plt.plot(xx,yy,marker=\".\",color=\"b\",linestyle=\"none\")\n",
    "plt.show()"
   ]
  },
  {
   "cell_type": "code",
   "execution_count": null,
   "metadata": {},
   "outputs": [],
   "source": [
    "np.arange(3)*3"
   ]
  },
  {
   "cell_type": "code",
   "execution_count": null,
   "metadata": {},
   "outputs": [],
   "source": [
    "np.arange(3)*2"
   ]
  },
  {
   "cell_type": "code",
   "execution_count": null,
   "metadata": {},
   "outputs": [],
   "source": [
    "h,v = np.meshgrid(np.arange(3)*3,np.arange(3)*2)"
   ]
  },
  {
   "cell_type": "code",
   "execution_count": null,
   "metadata": {},
   "outputs": [],
   "source": [
    "h"
   ]
  },
  {
   "cell_type": "code",
   "execution_count": null,
   "metadata": {},
   "outputs": [],
   "source": [
    "v"
   ]
  },
  {
   "cell_type": "code",
   "execution_count": null,
   "metadata": {},
   "outputs": [],
   "source": [
    "id1 = 0\n",
    "id2 = 2"
   ]
  },
  {
   "cell_type": "code",
   "execution_count": null,
   "metadata": {},
   "outputs": [],
   "source": [
    "data = np.array([[1,2,3],\n",
    "                [2,5,2],\n",
    "                [1,2,1]])"
   ]
  },
  {
   "cell_type": "code",
   "execution_count": null,
   "metadata": {},
   "outputs": [],
   "source": [
    "data[id1,id2]"
   ]
  },
  {
   "cell_type": "code",
   "execution_count": null,
   "metadata": {},
   "outputs": [],
   "source": [
    "h[id1,id2]"
   ]
  },
  {
   "cell_type": "code",
   "execution_count": null,
   "metadata": {},
   "outputs": [],
   "source": [
    "img = np.array([[0,0,0],\n",
    "       [0,1,0],\n",
    "       [0,0,0],])\n",
    "\n",
    "\n",
    "plt.imshow(img)\n",
    "\n",
    "#y [1,1]"
   ]
  },
  {
   "cell_type": "code",
   "execution_count": null,
   "metadata": {},
   "outputs": [],
   "source": [
    "import torch\n",
    "tensor = torch.from_numpy(img)\n",
    "\n",
    "tensor = tensor.unsqueeze(0).unsqueeze(0)"
   ]
  },
  {
   "cell_type": "code",
   "execution_count": null,
   "metadata": {},
   "outputs": [],
   "source": []
  },
  {
   "cell_type": "code",
   "execution_count": null,
   "metadata": {},
   "outputs": [],
   "source": [
    "import torch.nn as nn"
   ]
  },
  {
   "cell_type": "code",
   "execution_count": null,
   "metadata": {},
   "outputs": [],
   "source": [
    "\n",
    "\n"
   ]
  },
  {
   "cell_type": "code",
   "execution_count": null,
   "metadata": {},
   "outputs": [],
   "source": [
    "conv1 = CoordConv2d(\"cpu\", 1, 1, kernel_size=1, padding=0, stride=1, input_size=3)"
   ]
  },
  {
   "cell_type": "code",
   "execution_count": null,
   "metadata": {},
   "outputs": [],
   "source": [
    "conv1(tensor)"
   ]
  },
  {
   "cell_type": "code",
   "execution_count": null,
   "metadata": {},
   "outputs": [],
   "source": [
    "conv1(tensor).shape"
   ]
  },
  {
   "cell_type": "code",
   "execution_count": null,
   "metadata": {},
   "outputs": [],
   "source": [
    "# Image Regression with CoordConv\n",
    "\n"
   ]
  },
  {
   "cell_type": "code",
   "execution_count": null,
   "metadata": {},
   "outputs": [],
   "source": [
    "class CoordConv2d(nn.Module):\n",
    "    \n",
    "    def __init__(self, device, in_channels, out_channels, kernel_size, padding, stride, input_size):\n",
    "        super(CoordConv2d, self).__init__()\n",
    "        self.device = device\n",
    "        self.cc_xy = self.make_channels(input_size)\n",
    "        self.conv = nn.Conv2d(in_channels+2, out_channels, kernel_size=kernel_size, padding=padding, stride=stride)\n",
    "\n",
    "    def make_channels(self, input_size):\n",
    "        coord_vals = (2 * torch.arange(input_size) / input_size) - 1\n",
    "        \n",
    "       \n",
    "        xchannel = coord_vals.repeat((input_size, 1)).unsqueeze(dim=0)\n",
    "        ychannel = xchannel.permute(0, 2, 1)\n",
    "        return torch.cat((xchannel.unsqueeze(dim=0), ychannel.unsqueeze(dim=0)), dim=1)\n",
    "\n",
    "    def forward(self, x):\n",
    "        n = x.shape[0]\n",
    "        x = torch.cat((x, self.cc_xy.repeat(n, 1, 1, 1).to(self.device)), dim=1)\n",
    "        return self.conv(x)"
   ]
  },
  {
   "cell_type": "code",
   "execution_count": null,
   "metadata": {},
   "outputs": [],
   "source": [
    "conv1 = CoordConv2d(\"cpu\", 3, 3, kernel_size=1, padding=0, stride=1, input_size=64)\n",
    "   \n",
    "            # self.conv1 = nn.Conv2d(1, 1, kernel_size=1, padding=0, stride=1)"
   ]
  },
  {
   "cell_type": "code",
   "execution_count": null,
   "metadata": {},
   "outputs": [],
   "source": [
    "input_tensor = torch.randn(4,3,64,64).to(device)\n",
    "\n",
    "# conv1(input_tensor).shape"
   ]
  },
  {
   "cell_type": "code",
   "execution_count": null,
   "metadata": {},
   "outputs": [],
   "source": []
  },
  {
   "cell_type": "code",
   "execution_count": null,
   "metadata": {},
   "outputs": [],
   "source": [
    "device = 'cuda' if torch.cuda.is_available() else 'cpu'\n",
    "\n",
    "# models = [CNN(device=device, coordconv=False).to(device), CNN(device=device, coordconv=True).to(device)]"
   ]
  },
  {
   "cell_type": "code",
   "execution_count": null,
   "metadata": {},
   "outputs": [],
   "source": [
    "regression_Model_1 = BB_model(device,coordConv=True).to(device)\n",
    "\n",
    "regression_Model_2  = BB_model(device,coordConv=False).to(device)"
   ]
  },
  {
   "cell_type": "code",
   "execution_count": null,
   "metadata": {},
   "outputs": [],
   "source": [
    "# regression_Model_1(input_tensor)"
   ]
  },
  {
   "cell_type": "code",
   "execution_count": null,
   "metadata": {},
   "outputs": [],
   "source": []
  },
  {
   "cell_type": "code",
   "execution_count": null,
   "metadata": {},
   "outputs": [],
   "source": []
  },
  {
   "cell_type": "code",
   "execution_count": null,
   "metadata": {},
   "outputs": [],
   "source": [
    "pred_tensor = torch.randn(4,3,64,64).to(device)"
   ]
  },
  {
   "cell_type": "code",
   "execution_count": null,
   "metadata": {},
   "outputs": [],
   "source": [
    "loss_1 = nn.L1Loss(reduction='none')"
   ]
  },
  {
   "cell_type": "code",
   "execution_count": null,
   "metadata": {},
   "outputs": [],
   "source": [
    "loss_1(pred_tensor,input_tensor).sum(1).sum()"
   ]
  },
  {
   "cell_type": "code",
   "execution_count": null,
   "metadata": {},
   "outputs": [],
   "source": [
    "total_loss = 0 \n",
    "for j,k in zip(input_tensor,pred_tensor):\n",
    "    \n",
    "    \n",
    "    total_loss += loss_1(k,j).sum(1).sum()\n",
    "    # print(loss_1(k,j).sum(1).sum())"
   ]
  },
  {
   "cell_type": "code",
   "execution_count": null,
   "metadata": {},
   "outputs": [],
   "source": []
  },
  {
   "cell_type": "code",
   "execution_count": null,
   "metadata": {},
   "outputs": [],
   "source": []
  },
  {
   "cell_type": "code",
   "execution_count": null,
   "metadata": {},
   "outputs": [],
   "source": [
    "\n",
    "\n",
    "epoch_x"
   ]
  },
  {
   "cell_type": "code",
   "execution_count": null,
   "metadata": {},
   "outputs": [],
   "source": [
    "len(trainLossModel2)"
   ]
  },
  {
   "cell_type": "code",
   "execution_count": null,
   "metadata": {},
   "outputs": [],
   "source": [
    "trainLossModel1 = [68.28050513016551,\n",
    " 65.62488816913806,\n",
    " 59.81700656288549,\n",
    " 47.68163339715255,\n",
    " 23.58207727733411,\n",
    " 9.820071471364875,\n",
    " 7.343100547790527,\n",
    " 6.936299600099263,\n",
    " 6.561544142271343,\n",
    " 6.248961147509124,\n",
    " 5.921486227135909,\n",
    " 5.421173848603901,\n",
    " 4.664885972675524,\n",
    " 3.975954532623291,\n",
    " 3.5830030566767643,\n",
    " 3.2883990312877454,\n",
    " 3.0593762523249577,\n",
    " 2.8676067904422156,\n",
    " 2.7213477084511206,\n",
    " 2.547908155541671,\n",
    " 2.440237747995477,\n",
    " 2.3724605660689506,\n",
    " 2.3558950800644722,\n",
    " 2.3216646345038163,\n",
    " 2.3052869721462854,\n",
    " 2.2401248969529806,\n",
    " 2.3007123846756783,\n",
    " 2.305938858734934,\n",
    " 2.1972941411168954,\n",
    " 2.1649156746111418,\n",
    " 2.104501667775606,\n",
    " 2.1308251995789376,\n",
    " 2.084116032249049,\n",
    " 2.1654670050269678,\n",
    " 2.088952616641396,\n",
    " 2.0328448320689954,\n",
    " 2.036092237422341,\n",
    " 2.0027414372092798,\n",
    " 2.003695845603943,\n",
    " 1.9912696637605365,\n",
    " 1.9280576580449154,\n",
    " 1.9480871087626408,\n",
    " 2.0456484117006,\n",
    " 1.9850581758900692,\n",
    " 1.9068721595563387,\n",
    " 1.8830207837255377,\n",
    " 1.908837356065449,\n",
    " 1.964211476476569,\n",
    " 1.9530157540973865,\n",
    " 1.8911270405116833,\n",
    " 1.8899118461106952,\n",
    " 1.8800873066249646,\n",
    " 1.849120296930012,\n",
    " 1.8649798945376748,\n",
    " 1.8417292707844783,\n",
    " 1.8274180073487132,\n",
    " 1.8325849708757902,\n",
    " 1.8079830533579777,\n",
    " 1.8013163867749666,\n",
    " 1.8247320401041132,\n",
    " 1.80855215223212,\n",
    " 1.7555797100067139,\n",
    " 1.777278605260347,\n",
    " 1.7460961153632717,\n",
    " 1.7326714616072805,\n",
    " 1.7304664348301135,\n",
    " 1.7664734501587718,\n",
    " 1.757043951436093,\n",
    " 1.709508318650095,\n",
    " 1.7285376034284894,\n",
    " 1.6577842172823454,\n",
    " 1.6729020758679038,\n",
    " 1.7605895180451243,\n",
    " 1.7548707347167165,\n",
    " 1.7114581748058921,\n",
    " 1.6845240655698275,\n",
    " 1.7117109235964323,\n",
    " 1.7370394844757884,\n",
    " 1.714644614018892,\n",
    " 1.683782602611341,\n",
    " 1.6904316136711521,\n",
    " 1.650501433171724,\n",
    " 1.635898797135604,\n",
    " 1.6284060415468717,\n",
    " 1.6087490194722225,\n",
    " 1.6075890189722966,\n",
    " 1.601535401846233,\n",
    " 1.5595416332546033,\n",
    " 1.6115675976401882,\n",
    " 1.64955945391404,\n",
    " 1.5978446257741827,\n",
    " 1.5724606827685708,\n",
    " 1.5371948794314736,\n",
    " 1.5596598198539333,\n",
    " 1.5207288767162122,\n",
    " 1.4957340516542132,\n",
    " 1.5806434656444348,\n",
    " 1.5309730391753347,\n",
    " 1.600862415213334,\n",
    " 1.5464605657677901]\n"
   ]
  },
  {
   "cell_type": "code",
   "execution_count": null,
   "metadata": {},
   "outputs": [],
   "source": [
    "valLossModel1 =  [68.90546035766602, 61.56637477874756, 952.7806701660156, 810.3438720703125, 15.786891460418701, 13.454748392105103, 8.070767402648926, 6.924545049667358, 6.517513871192932, 6.228425979614258, 6.068917751312256, 5.536641240119934, 4.160773277282715, 3.6340972781181335, 3.5631832480430603, 3.0644643902778625, 2.78153458237648, 2.654276579618454, 2.45757132768631, 2.413040280342102, 2.308493971824646, 2.2595920860767365, 2.2240691781044006, 2.2414967119693756, 2.1230928897857666, 2.119713634252548, 2.120747923851013, 2.1427029967308044, 2.12529793381691, 2.0213115215301514, 2.0390857458114624, 2.1395826637744904, 1.9609893262386322, 2.0884757936000824, 1.9631588757038116, 1.9820888042449951, 1.914979100227356, 1.9358978867530823, 1.9396913945674896, 1.8884586691856384, 1.9031506776809692, 1.8951497077941895, 1.865460753440857, 1.876004308462143, 1.8659241199493408, 1.885868400335312, 1.8572442531585693, 1.8696589767932892, 1.8276720345020294, 1.9082961976528168, 1.85065758228302, 1.860484391450882, 1.824264407157898, 1.833799421787262, 1.9174040257930756, 1.864008367061615, 1.8715886175632477, 1.8427839279174805, 1.8189807832241058, 1.847440630197525, 1.812896192073822, 1.755580484867096, 1.760489672422409, 1.7367846369743347, 1.8441311419010162, 1.7706548273563385, 1.837672084569931, 1.7540681958198547, 1.7603263556957245, 1.7473979592323303, 1.7059321403503418, 1.7229499816894531, 1.8236200511455536, 1.9254466593265533, 1.7679736614227295, 1.7567171454429626, 1.9713301062583923, 1.7706826031208038, 1.7226713001728058, 1.7720273435115814, 1.7138517796993256, 1.7112639248371124, 1.7340607047080994, 1.6640256643295288, 1.7693849503993988, 1.690043866634369, 1.6531054079532623, 1.6595081388950348, 1.8031052947044373, 1.694405734539032, 1.700481116771698, 1.769815742969513, 1.6867660880088806, 1.6367439329624176, 1.689428985118866, 1.757577896118164, 1.707352727651596, 1.7181978821754456, 1.7547268271446228, 1.691870540380478]"
   ]
  },
  {
   "cell_type": "code",
   "execution_count": null,
   "metadata": {},
   "outputs": [],
   "source": []
  },
  {
   "cell_type": "code",
   "execution_count": null,
   "metadata": {},
   "outputs": [],
   "source": [
    "plt.ion()\n",
    "\n",
    "plt.plot(epoch_x, valLossModel2, label=\"Standard\", lw=3)\n",
    "plt.plot(epoch_x, valLossModel1, label=\"CoordConv\", lw=3)\n",
    "plt.legend()\n",
    "plt.title(\"Supervised  Validation Regression Error\")\n",
    "plt.xlabel(\"Epoch\")\n",
    "plt.ylabel(\"Error\")"
   ]
  },
  {
   "cell_type": "code",
   "execution_count": null,
   "metadata": {},
   "outputs": [],
   "source": []
  }
 ],
 "metadata": {
  "kernelspec": {
   "display_name": "LuminEye",
   "language": "python",
   "name": "python3"
  },
  "language_info": {
   "codemirror_mode": {
    "name": "ipython",
    "version": 3
   },
   "file_extension": ".py",
   "mimetype": "text/x-python",
   "name": "python",
   "nbconvert_exporter": "python",
   "pygments_lexer": "ipython3",
   "version": "3.10.6"
  },
  "orig_nbformat": 4
 },
 "nbformat": 4,
 "nbformat_minor": 2
}
