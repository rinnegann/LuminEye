{
 "cells": [
  {
   "cell_type": "code",
   "execution_count": 1,
   "metadata": {},
   "outputs": [],
   "source": [
    "\n",
    "# Dataclass Preparation\n",
    "import cv2\n",
    "import os\n",
    "import numpy as np\n",
    "import matplotlib.pyplot as plt\n",
    "import dlib\n",
    "from imutils import face_utils\n",
    "from torch.utils.data import Dataset\n",
    "import torch\n",
    "import torch.nn as nn\n",
    "import numpy as np\n",
    "import os\n",
    "from torch.utils.data import Dataset\n",
    "import torch\n",
    "from PIL import Image\n",
    "import matplotlib.pyplot as plt\n",
    "from albumentations.pytorch import ToTensorV2\n",
    "import albumentations as A\n",
    "import torch.nn as nn\n",
    "from torch.optim import Adam\n",
    "from tqdm import tqdm\n",
    "from glob import glob\n",
    "# import segmentation_models_pytorch as smp\n",
    "import torch.nn.functional as F\n",
    "import cv2\n",
    "import time \n",
    "import mediapipe\n",
    "from torchvision import transforms\n",
    "from mpl_toolkits.mplot3d import Axes3D\n",
    "import pandas as pd\n",
    "from torch.utils.data import DataLoader\n",
    "from sklearn.model_selection import train_test_split\n",
    "import math\n",
    "import albumentations as A\n",
    "from torchvision.models.feature_extraction import get_graph_node_names\n",
    "from torchvision import models\n",
    "import wandb\n",
    "import sys\n",
    "sys.path.append(\"../BaseModels\")\n",
    "from  unet_model import UNET\n",
    "device = 'cuda' if torch.cuda.is_available() else 'cpu'\n",
    "\n",
    "\n"
   ]
  },
  {
   "cell_type": "code",
   "execution_count": 2,
   "metadata": {},
   "outputs": [],
   "source": [
    "IMAGE_DIR = \"/home/nipun/Documents/Uni_Malta/Datasets/CenterRegression/MixDataset/images\"\n",
    "trn_df = pd.read_csv(\"/home/nipun/Documents/Uni_Malta/Datasets/CenterRegression/MixDataset/trainAll.csv\")\n",
    "val_df = pd.read_csv(\"/home/nipun/Documents/Uni_Malta/Datasets/CenterRegression/MixDataset/valAll.csv\")\n",
    "\n",
    "\n"
   ]
  },
  {
   "cell_type": "code",
   "execution_count": 3,
   "metadata": {},
   "outputs": [],
   "source": [
    "def double_conv(input_channels,output_channels):\n",
    "    return nn.Sequential(nn.Conv2d(input_channels,output_channels,kernel_size=3,stride=1,padding='same'),\n",
    "                         nn.BatchNorm2d(output_channels),\n",
    "                         nn.ReLU(),\n",
    "                         nn.Conv2d(output_channels,output_channels,kernel_size=3,stride=1,padding='same'),\n",
    "                         nn.BatchNorm2d(output_channels),\n",
    "                         nn.ReLU())"
   ]
  },
  {
   "cell_type": "code",
   "execution_count": 4,
   "metadata": {},
   "outputs": [],
   "source": [
    "class UNET(nn.Module):\n",
    "    def __init__(self,num_classes):\n",
    "        super().__init__()\n",
    "        \n",
    "        self.num_classes = num_classes\n",
    "        self.conv_1 = double_conv(3,64)\n",
    "        self.mx_1 = nn.MaxPool2d(kernel_size=(2,2))\n",
    "        \n",
    "        \n",
    "        self.conv_2 = double_conv(64,128)\n",
    "        self.mx_2 = nn.MaxPool2d(kernel_size=(2,2))\n",
    "        \n",
    "        \n",
    "        self.conv_3 = double_conv(128,256)\n",
    "        self.mx_3 = nn.MaxPool2d(kernel_size=(2,2))\n",
    "        \n",
    "        \n",
    "        \n",
    "        self.conv_4 = double_conv(256,512)\n",
    "        self.mx_4 = nn.MaxPool2d(kernel_size=(2,2))\n",
    "        \n",
    "        \n",
    "        \n",
    "        self.conv_5 = double_conv(512,1024)\n",
    "        \n",
    "        \n",
    "        \n",
    "        self.up_1 = nn.ConvTranspose2d(1024,512,kernel_size=2,stride=2)\n",
    "        \n",
    "        \n",
    "        \n",
    "        self.conv6 = double_conv(1024,512)\n",
    "       \n",
    "       \n",
    "        self.up_2 = nn.ConvTranspose2d(512,256,kernel_size=2,stride=2)\n",
    "        \n",
    "        \n",
    "        \n",
    "        self.conv7 = double_conv(512,256)\n",
    "        \n",
    "        \n",
    "        self.up_3 = nn.ConvTranspose2d(256,128,kernel_size=2,stride=2)\n",
    "        \n",
    "        \n",
    "        self.conv8 = double_conv(256,128)\n",
    "        \n",
    "\n",
    "        self.up_4 = nn.ConvTranspose2d(128,64,kernel_size=2,stride=2)\n",
    "        \n",
    "        self.conv9 = double_conv(128,64)\n",
    "        \n",
    "        self.out_conv = nn.Conv2d(64,self.num_classes,kernel_size=1)\n",
    "        \n",
    "    def forward(self,x):\n",
    "\n",
    "        \n",
    "        x1 = self.conv_1(x)  # 1, 64, 64,64\n",
    "        \n",
    "        x1_max = self.mx_1(x1)\n",
    "        \n",
    "        \n",
    "        \n",
    "        x2 = self.conv_2(x1_max)  # 1, 128, 32, 32\n",
    "        x2_max = self.mx_2(x2)\n",
    "        \n",
    "        x3 = self.conv_3(x2_max)  # 1, 256, 16,16\n",
    "        x3_max = self.mx_3(x3)\n",
    "        \n",
    "        \n",
    "        x4 = self.conv_4(x3_max) # 1, 512, 8, 8\n",
    "        x4_max = self.mx_4(x4)\n",
    "        \n",
    "        \n",
    "        \n",
    "        # Bridge\n",
    "        \n",
    "        x5 = self.conv_5(x4_max)  # 1, 1024, 4, 4\n",
    "       \n",
    "        \n",
    "        \n",
    "        x6 = self.up_1(x5) # [1, 512, 8, 8]\n",
    "      \n",
    "        \n",
    "        \n",
    "        decoder_1 = torch.concat([x6,x4],dim=1) # 1, 1024, 8, 8]\n",
    "        \n",
    "        \n",
    "        decoder_1 = self.conv6(decoder_1)  # [1, 512, 8, 8]\n",
    "        \n",
    "        \n",
    "        \n",
    "        \n",
    "        d_2 = self.up_2(decoder_1)\n",
    "        \n",
    "        decoder_2 = torch.concat([d_2,x3],dim=1) # [1, 512, 16, 16]\n",
    "        \n",
    "        decoder_2 = self.conv7(decoder_2) # [1, 256, 16, 16]\n",
    "        \n",
    "       \n",
    "        d_3 = self.up_3(decoder_2)\n",
    "        \n",
    "        decoder_3 = torch.concat([d_3,x2],dim=1)\n",
    "        \n",
    "        decoder_3 = self.conv8(decoder_3) # [1, 128, 32, 32]\n",
    "        \n",
    "        \n",
    "        d_4 = self.up_4(decoder_3)\n",
    "        decoder_4 = torch.concat([d_4,x1],dim=1)\n",
    "        \n",
    "        decoder_4 = self.conv9(decoder_4) # 1, 64, 64, 64\n",
    "        \n",
    "        output = self.out_conv(decoder_4)\n",
    "        return output"
   ]
  },
  {
   "cell_type": "code",
   "execution_count": 5,
   "metadata": {},
   "outputs": [],
   "source": [
    "def mean_squared_error(y_true,y_pred):\n",
    "    \"\"\" Return MSE for the Batch\"\"\"\n",
    "    return torch.sum(torch.square(y_pred-y_true),axis=-1).mean()"
   ]
  },
  {
   "cell_type": "code",
   "execution_count": 6,
   "metadata": {},
   "outputs": [],
   "source": [
    "\n",
    "\n",
    "class CenterDataset(torch.utils.data.Dataset):\n",
    "    def __init__(self,df,image_dir=IMAGE_DIR,RESIZE_AMT=256):\n",
    "        \n",
    "        self.RESIZE_AMT = RESIZE_AMT\n",
    "        self.image_dir = image_dir\n",
    "        self.df = df\n",
    "        self.image_ids = df.Image_Name.unique()\n",
    "        self.transforms = transforms\n",
    "        \n",
    "    # apply gaussian kernel to image\n",
    "    def _gaussian(self, xL, yL, sigma, H, W):\n",
    "\n",
    "        channel = [math.exp(-((c - xL) ** 2 + (r - yL) ** 2) / (2 * sigma ** 2)) for r in range(H) for c in range(W)]\n",
    "        channel = np.array(channel, dtype=np.float32)\n",
    "        channel = np.reshape(channel, newshape=(H, W))\n",
    "\n",
    "        return channel\n",
    "    \n",
    "    \n",
    "    \n",
    "    \n",
    "    # convert original image to heatmap\n",
    "    def _convertToHM(self, img, keypoints, sigma=10):\n",
    "\n",
    "        H = img.shape[0] \n",
    "        W =  img.shape[1]\n",
    "        nKeypoints = len(keypoints)\n",
    "        \n",
    "        \n",
    "\n",
    "        img_hm = np.zeros(shape=(H, W, nKeypoints // 2), dtype=np.float32)\n",
    "\n",
    "        for i in range(0, nKeypoints // 2):\n",
    "            x = keypoints[i * 2]\n",
    "            y = keypoints[1 + 2 * i]\n",
    "\n",
    "            channel_hm = self._gaussian(x, y, sigma, H, W)\n",
    "\n",
    "            img_hm[:, :, i] = channel_hm\n",
    "        \n",
    "\n",
    "        return img_hm\n",
    "    def __getitem__(self,ix):\n",
    "        \n",
    "        img_id = self.image_ids[ix]\n",
    "        img_path = os.path.join(self.image_dir,img_id)\n",
    "        \n",
    "        img = cv2.imread(img_path)[:,:,::-1]\n",
    "        \n",
    "        \n",
    "        img = cv2.resize(img,(self.RESIZE_AMT,self.RESIZE_AMT))\n",
    "        \n",
    "        img = img/255.0\n",
    "        \n",
    "        \n",
    "        \n",
    "        data = self.df[self.df[\"Image_Name\"]==img_id]\n",
    "        \n",
    "        \n",
    "        x1 = data[\"X1\"].values[0] * self.RESIZE_AMT\n",
    "        y1 = data[\"Y1\"].values[0] * self.RESIZE_AMT\n",
    "        \n",
    "        \n",
    "        # heatmap = torch.tensor(self._convertToHM(img,[x1,y1]),dtype=torch.float32).permute(2,0,1).view(1*self.RESIZE_AMT*self.RESIZE_AMT)\n",
    "        \n",
    "        \n",
    "        heatmap = torch.tensor(self._convertToHM(img,[x1,y1]),dtype=torch.float32).permute(2,0,1)\n",
    "        \n",
    "        image = torch.tensor(img,dtype=torch.float32).permute(2,0,1)\n",
    "        \n",
    "        \n",
    "        return image,heatmap,[x1,y1]\n",
    "        \n",
    "    def collate_fn(self,batch):\n",
    "        return tuple(zip(*batch))\n",
    "    \n",
    "    def __len__(self):\n",
    "        return len(self.image_ids)"
   ]
  },
  {
   "cell_type": "code",
   "execution_count": 7,
   "metadata": {},
   "outputs": [],
   "source": [
    "train_ds = CenterDataset(trn_df)\n",
    "test_ds = CenterDataset(val_df)"
   ]
  },
  {
   "cell_type": "code",
   "execution_count": 8,
   "metadata": {},
   "outputs": [],
   "source": [
    "img,hm,_ = train_ds[5]"
   ]
  },
  {
   "cell_type": "code",
   "execution_count": 9,
   "metadata": {},
   "outputs": [],
   "source": [
    "# heatmap2argmax(hm)"
   ]
  },
  {
   "cell_type": "code",
   "execution_count": 10,
   "metadata": {},
   "outputs": [],
   "source": [
    "def heatmap2argmax(heatmap, scale=False):\n",
    "    N, C, H, W = heatmap.shape\n",
    "    index = heatmap.view(N,C,1,-1).argmax(dim=-1)\n",
    "    pts = torch.cat([index%W, index//W], dim=2)\n",
    "    \n",
    "    if scale:\n",
    "        scale = torch.Tensor([W,H], device=heatmap.device)\n",
    "        pts = _scale(pts, scale)\n",
    "    \n",
    "    return pts\n",
    "\n",
    "\n",
    "def _scale(p, s): return 2 * (p / s) - 1"
   ]
  },
  {
   "cell_type": "code",
   "execution_count": 11,
   "metadata": {},
   "outputs": [
    {
     "name": "stdout",
     "output_type": "stream",
     "text": [
      "torch.Size([3, 256, 256])\n",
      "torch.Size([1, 256, 256])\n"
     ]
    },
    {
     "data": {
      "image/png": "[encoded data removed]",
      "text/plain": [
       "<Figure size 640x480 with 1 Axes>"
      ]
     },
     "metadata": {},
     "output_type": "display_data"
    },
    {
     "data": {
      "text/plain": [
       "<matplotlib.image.AxesImage at 0x7f1653e04730>"
      ]
     },
     "execution_count": 11,
     "metadata": {},
     "output_type": "execute_result"
    },
    {
     "data": {
      "image/png": "[encoded data removed]",
      "text/plain": [
       "<Figure size 640x480 with 1 Axes>"
      ]
     },
     "metadata": {},
     "output_type": "display_data"
    }
   ],
   "source": [
    "print(img.shape)\n",
    "print(hm.shape)\n",
    "\n",
    "plt.imshow(img.permute(1,2,0))\n",
    "plt.show()\n",
    "plt.imshow(hm.permute(1,2,0))"
   ]
  },
  {
   "cell_type": "code",
   "execution_count": 12,
   "metadata": {},
   "outputs": [],
   "source": [
    "def generate_gaussian(t, x, y, sigma=10):\n",
    "    \"\"\"\n",
    "    Generates a 2D Gaussian point at location x,y in tensor t.\n",
    "\n",
    "    x should be in range (-1, 1) to match the output of fastai's PointScaler.\n",
    "\n",
    "    sigma is the standard deviation of the generated 2D Gaussian.\n",
    "    \"\"\"\n",
    "    h,w = t.shape\n",
    "\n",
    "    # Heatmap pixel per output pixel\n",
    "    mu_x = int(0.5 * (x + 1.) * w)\n",
    "    mu_y = int(0.5 * (y + 1.) * h)\n",
    "\n",
    "    tmp_size = sigma * 3\n",
    "\n",
    "    # Top-left\n",
    "    x1,y1 = int(mu_x - tmp_size), int(mu_y - tmp_size)\n",
    "\n",
    "    # Bottom right\n",
    "    x2, y2 = int(mu_x + tmp_size + 1), int(mu_y + tmp_size + 1)\n",
    "    if x1 >= w or y1 >= h or x2 < 0 or y2 < 0:\n",
    "        return t\n",
    "\n",
    "    size = 2 * tmp_size + 1\n",
    "    tx = np.arange(0, size, 1, np.float32)\n",
    "    ty = tx[:, np.newaxis]\n",
    "    x0 = y0 = size // 2\n",
    "\n",
    "    # The gaussian is not normalized, we want the center value to equal 1\n",
    "    g = _gaussians[sigma] if sigma in _gaussians \\\n",
    "                else tensor(np.exp(- ((tx - x0) ** 2 + (ty - y0) ** 2) / (2 * sigma ** 2)))\n",
    "    _gaussians[sigma] = g\n",
    "\n",
    "    # Determine the bounds of the source gaussian\n",
    "    g_x_min, g_x_max = max(0, -x1), min(x2, w) - x1\n",
    "    g_y_min, g_y_max = max(0, -y1), min(y2, h) - y1\n",
    "\n",
    "    # Image range\n",
    "    img_x_min, img_x_max = max(0, x1), min(x2, w)\n",
    "    img_y_min, img_y_max = max(0, y1), min(y2, h)\n",
    "\n",
    "    t[img_y_min:img_y_max, img_x_min:img_x_max] = \\\n",
    "      g[g_y_min:g_y_max, g_x_min:g_x_max]\n",
    "\n",
    "    return t"
   ]
  },
  {
   "cell_type": "code",
   "execution_count": 13,
   "metadata": {},
   "outputs": [],
   "source": [
    "BACTH_SIZE = 1"
   ]
  },
  {
   "cell_type": "code",
   "execution_count": 14,
   "metadata": {},
   "outputs": [],
   "source": [
    "trainLoader = DataLoader(train_ds, batch_size=BACTH_SIZE,\n",
    "\tshuffle=True, num_workers=os.cpu_count(), pin_memory=True,drop_last=True)\n",
    "testLoader = DataLoader(test_ds, batch_size=BACTH_SIZE,\n",
    "\tnum_workers=os.cpu_count(), pin_memory=True,drop_last=True)\n",
    "\n"
   ]
  },
  {
   "cell_type": "code",
   "execution_count": 15,
   "metadata": {},
   "outputs": [],
   "source": [
    "x,y,z = next(iter(trainLoader))"
   ]
  },
  {
   "cell_type": "code",
   "execution_count": 18,
   "metadata": {},
   "outputs": [
    {
     "data": {
      "text/plain": [
       "tensor([[[[ 1.2893,  1.5197,  1.7037,  ...,  1.6448,  0.3327,  0.3438],\n",
       "          [ 1.0674,  1.7266,  1.4146,  ...,  1.3216, -0.9037, -1.0433],\n",
       "          [ 2.8433,  2.1897,  2.4110,  ...,  1.7747,  0.0745,  0.0047],\n",
       "          ...,\n",
       "          [ 2.3130,  3.5479,  1.5773,  ...,  0.8629,  1.8632,  0.6694],\n",
       "          [ 4.3177,  3.3494,  2.9328,  ...,  3.5455,  1.1581, -0.4087],\n",
       "          [ 2.3388,  0.3535,  0.9960,  ...,  0.1425,  1.0894,  0.2672]]]],\n",
       "       device='cuda:0', grad_fn=<ConvolutionBackward0>)"
      ]
     },
     "execution_count": 18,
     "metadata": {},
     "output_type": "execute_result"
    }
   ],
   "source": [
    "model(x.to('cuda'))"
   ]
  },
  {
   "cell_type": "code",
   "execution_count": 19,
   "metadata": {},
   "outputs": [
    {
     "name": "stderr",
     "output_type": "stream",
     "text": [
      "/tmp/ipykernel_20182/1495853360.py:4: UserWarning: __floordiv__ is deprecated, and its behavior will change in a future version of pytorch. It currently rounds toward 0 (like the 'trunc' function NOT 'floor'). This results in incorrect rounding for negative values. To keep the current behavior, use torch.div(a, b, rounding_mode='trunc'), or for actual floor division, use torch.div(a, b, rounding_mode='floor').\n",
      "  pts = torch.cat([index%W, index//W], dim=2)\n"
     ]
    },
    {
     "data": {
      "text/plain": [
       "tensor([[[171, 136]]])"
      ]
     },
     "execution_count": 19,
     "metadata": {},
     "output_type": "execute_result"
    }
   ],
   "source": [
    "heatmap2argmax(y)"
   ]
  },
  {
   "cell_type": "code",
   "execution_count": null,
   "metadata": {},
   "outputs": [],
   "source": [
    "print(x.shape)\n",
    "\n",
    "print(y.shape)"
   ]
  },
  {
   "cell_type": "code",
   "execution_count": null,
   "metadata": {},
   "outputs": [],
   "source": [
    "y_true = [[2,2],\n",
    "          [3,3]]\n",
    "\n",
    "y_pred = [[4,4],\n",
    "          [6,6]]"
   ]
  },
  {
   "cell_type": "code",
   "execution_count": null,
   "metadata": {},
   "outputs": [],
   "source": [
    "x1 = torch.tensor(y_true)\n",
    "\n",
    "x2 = torch.tensor(y_pred)"
   ]
  },
  {
   "cell_type": "code",
   "execution_count": null,
   "metadata": {},
   "outputs": [],
   "source": [
    "# torch.sum(torch.square(y_pred-y_true),axis=-1).mean()\n",
    "\n",
    "torch.square(x2-x1)"
   ]
  },
  {
   "cell_type": "code",
   "execution_count": null,
   "metadata": {},
   "outputs": [],
   "source": [
    "\n",
    "torch.sum(torch.square(x2-x1),axis=-1)"
   ]
  },
  {
   "cell_type": "code",
   "execution_count": null,
   "metadata": {},
   "outputs": [],
   "source": [
    "sigmoid = nn.Sigmoid()"
   ]
  },
  {
   "cell_type": "code",
   "execution_count": null,
   "metadata": {},
   "outputs": [],
   "source": [
    "import torch\n",
    "from torch import nn\n",
    "\n",
    "\n",
    "# torch.log  and math.log is e based\n",
    "class AdaptiveWingLoss(nn.Module):\n",
    "    def __init__(self, omega=14, theta=0.5, epsilon=1, alpha=2.1):\n",
    "        super(AdaptiveWingLoss, self).__init__()\n",
    "        self.omega = omega\n",
    "        self.theta = theta\n",
    "        self.epsilon = epsilon\n",
    "        self.alpha = alpha\n",
    "\n",
    "    def forward(self, pred, target):\n",
    "        '''\n",
    "        :param pred: BxNxHxH\n",
    "        :param target: BxNxHxH\n",
    "        :return:\n",
    "        '''\n",
    "\n",
    "        y = target\n",
    "        y_hat = pred\n",
    "        delta_y = (y - y_hat).abs()\n",
    "        delta_y1 = delta_y[delta_y < self.theta]\n",
    "        delta_y2 = delta_y[delta_y >= self.theta]\n",
    "        y1 = y[delta_y < self.theta]\n",
    "        y2 = y[delta_y >= self.theta]\n",
    "        loss1 = self.omega * torch.log(1 + torch.pow(delta_y1 / self.omega, self.alpha - y1))\n",
    "        A = self.omega * (1 / (1 + torch.pow(self.theta / self.epsilon, self.alpha - y2))) * (self.alpha - y2) * (\n",
    "            torch.pow(self.theta / self.epsilon, self.alpha - y2 - 1)) * (1 / self.epsilon)\n",
    "        C = self.theta * A - self.omega * torch.log(1 + torch.pow(self.theta / self.epsilon, self.alpha - y2))\n",
    "        loss2 = A * delta_y2 - C\n",
    "        return (loss1.sum() + loss2.sum()) / (len(loss1) + len(loss2))"
   ]
  },
  {
   "cell_type": "code",
   "execution_count": null,
   "metadata": {},
   "outputs": [],
   "source": [
    "criterion = AdaptiveWingLoss()"
   ]
  },
  {
   "cell_type": "code",
   "execution_count": null,
   "metadata": {},
   "outputs": [],
   "source": []
  },
  {
   "cell_type": "code",
   "execution_count": 17,
   "metadata": {},
   "outputs": [],
   "source": [
    "\n",
    "model = UNET(1).cuda()\n",
    "pred = model(x.cuda())\n",
    "\n",
    "\n",
    "# pred_sig = sigmoid(pred)\n",
    "\n",
    "# pred.shape"
   ]
  },
  {
   "cell_type": "code",
   "execution_count": null,
   "metadata": {},
   "outputs": [],
   "source": [
    "pred_1 = pred_sig[2].squeeze(0).detach().cpu().numpy()\n",
    "\n",
    "print(pred_1.shape)\n",
    "\n",
    "plt.imshow(pred_1)\n",
    "plt.show()"
   ]
  },
  {
   "cell_type": "code",
   "execution_count": null,
   "metadata": {},
   "outputs": [],
   "source": [
    "criterion(pred[0],y[0].cuda())"
   ]
  },
  {
   "cell_type": "code",
   "execution_count": null,
   "metadata": {},
   "outputs": [],
   "source": [
    "criterion(pred[1],y[1].cuda())"
   ]
  },
  {
   "cell_type": "code",
   "execution_count": null,
   "metadata": {},
   "outputs": [],
   "source": [
    "criterion(pred[2],y[2].cuda())"
   ]
  },
  {
   "cell_type": "code",
   "execution_count": null,
   "metadata": {},
   "outputs": [],
   "source": [
    "criterion(pred[3],y[3].cuda())"
   ]
  },
  {
   "cell_type": "code",
   "execution_count": null,
   "metadata": {},
   "outputs": [],
   "source": [
    "criterion(pred,y.cuda())"
   ]
  },
  {
   "cell_type": "code",
   "execution_count": null,
   "metadata": {},
   "outputs": [],
   "source": []
  },
  {
   "cell_type": "code",
   "execution_count": null,
   "metadata": {},
   "outputs": [],
   "source": [
    "def main(model,trainLoader,testLoader,optimizer,loss_fn,scheduler,epochs=100,):\n",
    "    \n",
    "        for epoch in range(epochs):\n",
    "            train_epoch_loss = trainStep(model,trainLoader,optimizer,loss_fn)\n",
    "            val_epoch_loss=valStep(model,testLoader,loss_fn)\n",
    "            \n",
    "            scheduler.step(val_epoch_loss)\n",
    "            \n",
    "            \n",
    "            # print(f\"Epoch {epoch+1}| Train AdaptiveWing Loss--> {train_epoch_loss}\")\n",
    "            # print(f\"Epoch {epoch+1}| VAL Adaptive Loss--> {val_epoch_loss}\")\n",
    "    \n",
    "            "
   ]
  },
  {
   "cell_type": "code",
   "execution_count": null,
   "metadata": {},
   "outputs": [],
   "source": [
    "def trainStep(model,trainLoader,optimizer,loss_fn):\n",
    "    \n",
    "    model.train()\n",
    "    \n",
    "    epoch_loss = 0\n",
    "    \n",
    "    total_step = 0\n",
    "    \n",
    "    for _,(x,y) in enumerate(trainLoader):\n",
    "        \n",
    "        x = x.to(device)\n",
    "        y = y.to(device)\n",
    "        \n",
    "        \n",
    "        optimizer.zero_grad()\n",
    "        \n",
    "        y_pred = model(x)\n",
    "        \n",
    "        \n",
    "        loss = loss_fn(y_pred,y)\n",
    "        # loss = mean_squared_error(y,y_pred)\n",
    "        \n",
    "        # print(loss.item())\n",
    "        loss.backward()\n",
    "        optimizer.step()\n",
    "        \n",
    "        \n",
    "        epoch_loss += loss.item()\n",
    "        \n",
    "        # total_step += 1\n",
    "        \n",
    "        \n",
    "        \n",
    "        total_step += x[0]\n",
    "        \n",
    "    return epoch_loss\n",
    "    # print(epoch_loss/total_step)\n",
    "    # return epoch_loss/total_step\n",
    "        \n",
    "        \n",
    "        "
   ]
  },
  {
   "cell_type": "code",
   "execution_count": null,
   "metadata": {},
   "outputs": [],
   "source": [
    "trainStep(model,testLoader,optimizer,criterion)"
   ]
  },
  {
   "cell_type": "code",
   "execution_count": null,
   "metadata": {},
   "outputs": [],
   "source": [
    "def valStep(model,testLoader,loss_fn,visualize=True):\n",
    "    model.eval()\n",
    "    \n",
    "    \n",
    "    total_val_loss = 0\n",
    "   \n",
    "    \n",
    "    total_step = 0\n",
    "    \n",
    "    for (x,y) in testLoader:\n",
    "        \n",
    "        x = x.to(device)\n",
    "        y = y.to(device)\n",
    "        \n",
    "        with torch.no_grad():\n",
    "            \n",
    "            y_pred = model(x)\n",
    "        \n",
    "        #MSE\n",
    "        # loss = mean_squared_error(y,y_pred).item()\n",
    "        \n",
    "        loss = loss_fn(y_pred,y)\n",
    "        \n",
    "        total_val_loss += loss.item()\n",
    "        \n",
    "        \n",
    "        \n",
    "        \n",
    "        total_step += x.shape[0]\n",
    "  \n",
    "    fig,axes = plt.subplots(x.shape[0],3)\n",
    "    axes[0][0].set_title(\"Image\")  \n",
    "    axes[0][1].set_title(\"GT HeatMap\")\n",
    "    axes[0][2].set_title(\"Pred HeatMap\")\n",
    "    for i in range(x.shape[0]):\n",
    "        \n",
    "        img = x[i].squeeze(0).permute(1,2,0).detach().cpu().numpy()\n",
    "        gt = y[i].squeeze(0).detach().cpu().numpy()\n",
    "        heatMap = y_pred[i].squeeze(0).detach().cpu().numpy()\n",
    "        \n",
    "        \n",
    "        axes[i][0].imshow(img)\n",
    "        axes[i][1].imshow(gt)\n",
    "        axes[i][2].imshow(heatMap)\n",
    "        \n",
    "        \n",
    "        axes[i][0].axis('off')\n",
    "        axes[i][1].axis('off')\n",
    "        axes[i][2].axis('off')\n",
    "        \n",
    "    plt.tight_layout()\n",
    "    plt.show()\n",
    "    plt.close(\"all\")\n",
    "    \n",
    "    return total_val_loss\n",
    "        "
   ]
  },
  {
   "cell_type": "code",
   "execution_count": null,
   "metadata": {},
   "outputs": [],
   "source": [
    "valStep(model,testLoader,criterion)"
   ]
  },
  {
   "cell_type": "code",
   "execution_count": null,
   "metadata": {},
   "outputs": [],
   "source": [
    "def maskToKeypoints(mask):\n",
    "    \n",
    "    \n",
    "    \n",
    "    kp = np.unravel_index(np.argmax(mask, axis=None), dims=(64,64))\n",
    "    return kp[1], kp[0]\n",
    "\n",
    "def findCoordinates(mask):\n",
    "\n",
    "    hm_sum = np.sum(mask)\n",
    "\n",
    "    index_map = [j for i in range(64) for j in range(64)]\n",
    "    index_map = np.reshape(index_map, newshape=(64,64))\n",
    "\n",
    "    x_score_map = mask * index_map / hm_sum\n",
    "    y_score_map = mask * np.transpose(index_map) / hm_sum\n",
    "\n",
    "    px = np.sum(np.sum(x_score_map, axis=None))\n",
    "    py = np.sum(np.sum(y_score_map, axis=None))\n",
    "\n",
    "    return px, py\n",
    "\n",
    "def calcRMSError(kps_gt, kps_preds):\n",
    "\n",
    "    N = kps_gt.shape[0] * (kps_gt.shape[-1] // 2)\n",
    "    error = np.sqrt(np.sum((kps_gt-kps_preds)**2)/N)\n",
    "\n",
    "    return error"
   ]
  },
  {
   "cell_type": "code",
   "execution_count": null,
   "metadata": {},
   "outputs": [],
   "source": [
    "model = UNET(1).to(device)\n",
    "\n",
    "lr = 0.001\n",
    "criterion = AdaptiveWingLoss()\n",
    "\n",
    "n_epoch = 100\n",
    "\n",
    "parameters = filter(lambda p: p.requires_grad,model.parameters())\n",
    "\n",
    "optimizer = torch.optim.Adam(parameters,lr=lr)\n",
    "\n",
    "\n",
    "\n",
    "scheduler = torch.optim.lr_scheduler.OneCycleLR(\n",
    "        optimizer,\n",
    "        lr,\n",
    "        n_epoch,\n",
    "        steps_per_epoch=len(train_ds)//BACTH_SIZE\n",
    "    )"
   ]
  },
  {
   "cell_type": "code",
   "execution_count": null,
   "metadata": {},
   "outputs": [],
   "source": [
    "main(model,trainLoader,testLoader,optimizer,loss_fn=criterion,scheduler=scheduler,epochs=n_epoch)\n",
    "\n"
   ]
  },
  {
   "cell_type": "code",
   "execution_count": null,
   "metadata": {},
   "outputs": [],
   "source": [
    "x,y = next(iter(testLoader))"
   ]
  },
  {
   "cell_type": "code",
   "execution_count": null,
   "metadata": {},
   "outputs": [],
   "source": [
    "pred_output = model(x.cuda())"
   ]
  },
  {
   "cell_type": "code",
   "execution_count": null,
   "metadata": {},
   "outputs": [],
   "source": [
    "unflatten = nn.Unflatten(-1,(1,64,64))"
   ]
  },
  {
   "cell_type": "code",
   "execution_count": null,
   "metadata": {},
   "outputs": [],
   "source": [
    "pred_output = unflatten(pred_output)\n",
    "\n",
    "\n"
   ]
  },
  {
   "cell_type": "code",
   "execution_count": null,
   "metadata": {},
   "outputs": [],
   "source": [
    "idx = 3"
   ]
  },
  {
   "cell_type": "code",
   "execution_count": null,
   "metadata": {},
   "outputs": [],
   "source": [
    "plt.imshow(pred_output[idx].permute(1,2,0).detach().cpu().numpy())"
   ]
  },
  {
   "cell_type": "code",
   "execution_count": null,
   "metadata": {},
   "outputs": [],
   "source": [
    "y_true = unflatten(y)\n",
    "\n",
    "plt.imshow(y_true[idx].permute(1,2,0).detach().cpu().numpy())"
   ]
  },
  {
   "cell_type": "code",
   "execution_count": null,
   "metadata": {},
   "outputs": [],
   "source": [
    "x = torch.tensor([[1.,2.],\n",
    "                  [3.,4.]])\n",
    "\n",
    "\n",
    "y =  torch.tensor([[4.,5.],\n",
    "                  [1.,2.]])"
   ]
  },
  {
   "cell_type": "code",
   "execution_count": null,
   "metadata": {},
   "outputs": [],
   "source": [
    "def calcKeypoints(model, gen):\n",
    "    kps_gt = []\n",
    "    kps_preds = []\n",
    "    \n",
    "    image_array = []\n",
    "    gt_mask_array =[]\n",
    "    pred_mask_array =[]\n",
    "    nbatches = len(gen)\n",
    "    \n",
    "    unflatter = nn.Unflatten(1,(64,64))\n",
    "    \n",
    "    model.eval()\n",
    "    \n",
    "    for (x,y) in gen:\n",
    "        \n",
    "        x = x.to(device)\n",
    "        y= y.to(device)\n",
    "        \n",
    "        with torch.no_grad():\n",
    "            y_pred = model(x)\n",
    "            \n",
    "        for i in range(x.shape[0]):\n",
    "            \n",
    "            \n",
    "            imgs = x[i].detach().cpu().permute(1,2,0).numpy()\n",
    "            \n",
    "            mask_gt = y[i]\n",
    "            \n",
    "            mask_gt = unflatten(mask_gt).detach().cpu().permute(1,2,0).numpy()\n",
    "            \n",
    "           \n",
    "            \n",
    "            mask_pred = y_pred[i]\n",
    "            \n",
    "            mask_pred = unflatten(mask_pred).detach().cpu().permute(1,2,0).numpy()\n",
    "\n",
    "\n",
    "            \n",
    "            xgt, ygt = findCoordinates(mask_gt[:, :,0])\n",
    "            \n",
    "            xpred, ypred = findCoordinates(mask_pred[:, :,0])\n",
    "            \n",
    "\n",
    "            image_array.append(imgs)\n",
    "            gt_mask_array.append(mask_gt)\n",
    "            pred_mask_array.append(mask_pred)\n",
    "                        \n",
    "            kps_gt.append([xgt,ygt])\n",
    "            kps_preds.append([xpred,ypred])\n",
    "    \n",
    "    \n",
    "    return image_array, gt_mask_array, pred_mask_array,kps_gt,kps_preds\n",
    "\n",
    "        "
   ]
  },
  {
   "cell_type": "code",
   "execution_count": null,
   "metadata": {},
   "outputs": [],
   "source": [
    "\n",
    "# len(testLoader)\n",
    "\n",
    "image_array, gt_mask_array, pred_mask_array,kps_gt,kps_preds = calcKeypoints(model, testLoader)\n"
   ]
  },
  {
   "cell_type": "code",
   "execution_count": null,
   "metadata": {},
   "outputs": [],
   "source": [
    "\n",
    "len(kps_preds)"
   ]
  },
  {
   "cell_type": "code",
   "execution_count": null,
   "metadata": {},
   "outputs": [],
   "source": []
  },
  {
   "cell_type": "code",
   "execution_count": null,
   "metadata": {},
   "outputs": [],
   "source": [
    "def showMasks(imgs, gt_masks, pred_masks, gt_coord, pred_coord, nrows=8, ncols=4):\n",
    "\n",
    "    fig, axs = plt.subplots(nrows=nrows, ncols=ncols, figsize=(25, 25))\n",
    "    plt.figure(figsize=(8, 8))\n",
    "\n",
    "    axs[0, 0].set_title(\"Original Image\")\n",
    "    axs[0, 1].set_title(\"GT Masks\")\n",
    "    axs[0, 2].set_title(\"Pred Masks\")\n",
    "    axs[0, 3].set_title(\"Pred & GT Coord\")\n",
    "\n",
    "\n",
    "    for i in range(len(imgs)):\n",
    "\n",
    "        axs[i, 0].imshow(imgs[i])\n",
    "        axs[i, 0].axis(\"off\")\n",
    "\n",
    "        axs[i, 1].imshow(gt_masks[i])\n",
    "        axs[i, 1].axis(\"off\")\n",
    "\n",
    "        axs[i, 2].imshow(pred_masks[i])\n",
    "        axs[i, 2].axis(\"off\")\n",
    "\n",
    "        axs[i, 3].imshow(imgs[i])\n",
    "        axs[i, 3].scatter(x=int(pred_coord[i][0]), y=int(\n",
    "            pred_coord[i][1]), color='blue')  # Prediction Blue\n",
    "        axs[i, 3].scatter(x=int(gt_coord[i][0]), y=int(\n",
    "            gt_coord[i][1]), color=\"red\")  # Ground Truth Red\n",
    "        axs[i, 3].axis(\"off\")\n",
    "\n",
    "    plt.show()\n",
    "    plt.close()\n"
   ]
  },
  {
   "cell_type": "code",
   "execution_count": null,
   "metadata": {},
   "outputs": [],
   "source": [
    "low_limit = 50\n",
    "upper_limit = 58"
   ]
  },
  {
   "cell_type": "code",
   "execution_count": null,
   "metadata": {},
   "outputs": [],
   "source": [
    "showMasks(image_array[low_limit:upper_limit], gt_mask_array[low_limit:upper_limit], pred_mask_array[low_limit:upper_limit],kps_gt[low_limit:upper_limit],kps_preds[low_limit:upper_limit])"
   ]
  },
  {
   "cell_type": "code",
   "execution_count": null,
   "metadata": {},
   "outputs": [],
   "source": [
    "class WingLoss(nn.Module):\n",
    "    def __init__(self, width=5, curvature=0.5):\n",
    "        super(WingLoss, self).__init__()\n",
    "        self.width = width\n",
    "        self.curvature = curvature\n",
    "        self.C = self.width - self.width * np.log(1 + self.width / self.curvature)\n",
    "\n",
    "    def forward(self, prediction, target):\n",
    "        diff = target - prediction\n",
    "        \n",
    "        diff_abs = diff.abs()\n",
    "        \n",
    "        loss = diff_abs.clone()\n",
    "        \n",
    "\n",
    "        idx_smaller = diff_abs < self.width\n",
    "        idx_bigger = diff_abs >= self.width\n",
    "        \n",
    "        \n",
    "        loss[idx_smaller] = self.width * torch.log(1 + diff_abs[idx_smaller] / self.curvature)\n",
    "        loss[idx_bigger]  = loss[idx_bigger] - self.C\n",
    "        \n",
    "        \n",
    "    \n",
    "        return  loss\n",
    "        \n",
    "        \n",
    "        \n",
    "        "
   ]
  },
  {
   "attachments": {
    "image.png": {
     "image/png": "[encoded data removed]"
    }
   },
   "cell_type": "markdown",
   "metadata": {},
   "source": [
    "![image.png](attachment:image.png)"
   ]
  },
  {
   "cell_type": "code",
   "execution_count": null,
   "metadata": {},
   "outputs": [],
   "source": [
    "x = torch.tensor([[1.,2.],\n",
    "                  [3.,4.]])\n",
    "\n",
    "\n",
    "y = torch.tensor([[4.,5.],\n",
    "                  [6.,8.]])"
   ]
  },
  {
   "cell_type": "code",
   "execution_count": null,
   "metadata": {},
   "outputs": [],
   "source": [
    "wingLoss = WingLoss()\n",
    "\n",
    "\n"
   ]
  },
  {
   "cell_type": "code",
   "execution_count": null,
   "metadata": {},
   "outputs": [],
   "source": [
    "loss = wingLoss(y,x)"
   ]
  },
  {
   "cell_type": "code",
   "execution_count": null,
   "metadata": {},
   "outputs": [],
   "source": [
    "# loss.sum(1).sum()"
   ]
  },
  {
   "cell_type": "code",
   "execution_count": null,
   "metadata": {},
   "outputs": [],
   "source": [
    "z<5"
   ]
  },
  {
   "cell_type": "code",
   "execution_count": null,
   "metadata": {},
   "outputs": [],
   "source": [
    "z>=5"
   ]
  },
  {
   "cell_type": "code",
   "execution_count": null,
   "metadata": {},
   "outputs": [],
   "source": []
  },
  {
   "cell_type": "markdown",
   "metadata": {},
   "source": [
    "#Adaptive Wing Loss analysis"
   ]
  },
  {
   "cell_type": "code",
   "execution_count": null,
   "metadata": {},
   "outputs": [],
   "source": [
    "import torch\n",
    "from torch.utils.data import  Dataset,DataLoader\n",
    "from torchvision import transforms \n",
    "from scipy import interpolate\n",
    "import numpy as np\n",
    "import pandas as pd\n",
    "import matplotlib.pyplot as plt\n",
    "import cv2\n",
    "import os\n",
    "from scipy import  ndimage\n",
    "from scipy.ndimage.morphology import  grey_dilation\n",
    "import math\n",
    "from PIL import  Image\n",
    "import  warnings\n",
    "warnings.filterwarnings(\"ignore\")\n",
    "\n",
    "\n",
    "class face300w(Dataset):\n",
    "    \n",
    "    def __init__(self,root):\n",
    "        self.root = root\n",
    "        entry_point = os.listdir(root)\n",
    "        print(entry_point)\n",
    "        self.ptsPath = list()\n",
    "        self.imgPath = list()\n",
    "        \n",
    "        self.crop_pad = 30\n",
    "        \n",
    "        \n",
    "        for i in entry_point:\n",
    "            files = os.listdir(root+\"/\"+i)\n",
    "            \n",
    "            for f in files:\n",
    "                \n",
    "                if (f[-3:] == \"png\"):\n",
    "                    self.imgPath.append(i+\"/\"+f)\n",
    "                    \n",
    "                elif (f[-3:] == \"pts\"):\n",
    "                    self.ptsPath.append(i+\"/\"+f)\n",
    "                else:\n",
    "                    print(\"WrongFormat\"\n",
    "                          )\n",
    "                    \n",
    "        self.ptsPath.sort()\n",
    "        self.imgPath.sort()\n",
    "        self.frame = True\n",
    "        self.resize = 256\n",
    "        \n",
    "        \n",
    "        \n",
    "    def __getitem__(self,idx):\n",
    "        imgPath = self.root + \"/\" + self.imgPath[idx]\n",
    "        ptsPath = self.root + \"/\" + self.ptsPath[idx]\n",
    "        \n",
    "        img = plt.imread(imgPath) #RGT\n",
    "        # print(img.shape)\n",
    "        # plt.imshow(img)\n",
    "        # plt.show()\n",
    "        \n",
    "        \n",
    "        if (len(img.shape)==2):\n",
    "            \n",
    "            # gray to RGB\n",
    "            img = img.reshape(img.shape[0],img.shape[1],1)\n",
    "            img = np.repeat(img,3,axis=2)\n",
    "            \n",
    "        w,h,c = img.shape\n",
    "        \n",
    "        with open(ptsPath) as ptsf:\n",
    "            rows = [rows.strip() for rows in ptsf][3:-1]\n",
    "            \n",
    "            if len(rows)!= 68:\n",
    "                print(\"points are not 68\")\n",
    "                return None\n",
    "            \n",
    "            toFloat = lambda lst: [float(i) for i in lst] \n",
    "            \n",
    "            rows =[toFloat(pair.split(\" \")) for pair in rows]\n",
    "            \n",
    "            rows = np.array(rows)\n",
    "            \n",
    "            \n",
    "            minx,maxx = rows[:,0].min(),rows[:,0].max()\n",
    "            miny,maxy = rows[:,1].min(),rows[:,1].max()\n",
    "            \n",
    "            face_h = maxx-minx\n",
    "            \n",
    "            # plt.imsho\n",
    "            \n",
    "            if(self.frame):\n",
    "                csh = img.shape #534 950\n",
    "                print(csh)\n",
    "                frame = np.zeros((max(csh[0],csh[1]),max(csh[0],csh[1]),3)) # 950 950\n",
    "                \n",
    "                \n",
    "                frame_ctr = np.array([max(csh[0],csh[1])//2,max(csh[0],csh[1])//2]) # [475,475]\n",
    "                \n",
    "                \n",
    "                frame[math.ceil(frame_ctr[0]-csh[0]/2.):math.ceil(frame_ctr[0]+csh[0]/2.),\n",
    "                  math.ceil(frame_ctr[1]-csh[1]/2.):math.ceil(frame_ctr[1]+csh[1]/2.),:] = img\n",
    "                \n",
    "                if(csh[1] != frame.shape[1]):\n",
    "              \n",
    "                    rows[:,0] += (frame.shape[0]-csh[1])/2.\n",
    "                else:\n",
    "                    #새로패딩\n",
    "                    rows[:,1] += (frame.shape[0]-csh[0])/2.\n",
    "\n",
    "\n",
    "                if(self.resize != None):\n",
    "                    rows /= frame.shape[0]\n",
    "                    frame = cv2.resize(frame, dsize=(self.resize, self.resize), interpolation=cv2.INTER_LINEAR)\n",
    "                    rows *= float(self.resize)\n",
    "                    \n",
    "                    \n",
    "                hmap = np.zeros((68+1,64,64),dtype=np.float32)\n",
    "                \n",
    "                M = np.zeros((68+1,64,64),dtype=np.float32)\n",
    "                \n",
    "                \n",
    "                for ind,xy in enumerate(rows):\n",
    "                    hmap[ind] = draw_umich_gaussian(hmap[ind], xy/256.*64, 7)\n",
    "                    \n",
    "                hmap[-1] = draw_boundary(hmap[-1],np.clip((rows/256.*64).astype(np.int),0,63))\n",
    "\n",
    "                for i in range(len(M)):\n",
    "                    \n",
    "                    M[i] = grey_dilation(hmap[i], size=(3,3))\n",
    "                M = np.where(M>=0.5, 1, 0)\n",
    "\n",
    "                return frame, hmap , M, rows\n",
    "    "
   ]
  },
  {
   "cell_type": "code",
   "execution_count": null,
   "metadata": {},
   "outputs": [],
   "source": []
  },
  {
   "cell_type": "code",
   "execution_count": null,
   "metadata": {},
   "outputs": [],
   "source": [
    "math.ceil(475 +950/2)"
   ]
  },
  {
   "cell_type": "code",
   "execution_count": null,
   "metadata": {},
   "outputs": [],
   "source": [
    "dataset_dir = \"/home/nipun/Downloads/300w/\"\n",
    "\n",
    "\n",
    "dataset = face300w(dataset_dir)\n",
    "\n",
    "img,hmap,M,pts = dataset[45]\n",
    "\n"
   ]
  },
  {
   "cell_type": "code",
   "execution_count": null,
   "metadata": {},
   "outputs": [],
   "source": [
    "# img.shape # (256, 256, 3)\n",
    "plt.imshow(hmap[68]) # (69,69)\n",
    "# hmap[9].shape"
   ]
  },
  {
   "cell_type": "code",
   "execution_count": null,
   "metadata": {},
   "outputs": [],
   "source": [
    "def gaussian2D(shape, sigma=1):\n",
    "    \n",
    "    m, n = [(ss - 1.) / 2. for ss in shape]\n",
    "    y, x = np.ogrid[-m:m + 1, -n:n + 1]\n",
    "\n",
    "    h = np.exp(-(x * x + y * y) / (2 * sigma * sigma))\n",
    "    h[h < np.finfo(h.dtype).eps * h.max()] = 0\n",
    "    return h\n",
    "\n",
    "def draw_umich_gaussian(heatmap, center, radius, k=1):\n",
    "    \n",
    "    diameter = 2 * radius + 1\n",
    "    gaussian = gaussian2D((diameter, diameter), sigma=diameter / 6)\n",
    "\n",
    "    x, y = int(center[0]), int(center[1])\n",
    "\n",
    "    height, width = heatmap.shape[0:2]\n",
    "\n",
    "    left, right = min(x, radius), min(width - x, radius + 1)\n",
    "    top, bottom = min(y, radius), min(height - y, radius + 1)\n",
    "\n",
    "    masked_heatmap = heatmap[y - top:y + bottom, x - left:x + right]\n",
    "    masked_gaussian = gaussian[radius - top:radius + bottom, radius - left:radius + right]\n",
    "    if min(masked_gaussian.shape) > 0 and min(masked_heatmap.shape) > 0:  # TODO debug\n",
    "        np.maximum(masked_heatmap, masked_gaussian * k, out=masked_heatmap)\n",
    "    return heatmap"
   ]
  },
  {
   "cell_type": "code",
   "execution_count": null,
   "metadata": {},
   "outputs": [],
   "source": [
    "plt.subplot(3,1,1)\n",
    "plt.imshow(img)\n",
    "plt.imshow(cv2.resize(hmap[-1], dsize=(256, 256), interpolation=cv2.INTER_AREA),alpha=0.3)\n",
    "plt.subplot(3,1,2)\n",
    "plt.imshow(np.max(hmap[:68], axis=0))\n",
    "plt.subplot(3,1,3)\n",
    "plt.imshow(np.max(M[:68], axis=0))\n",
    "\n",
    "plt.show()"
   ]
  },
  {
   "cell_type": "code",
   "execution_count": null,
   "metadata": {},
   "outputs": [],
   "source": [
    "def drawline(img,annots):\n",
    "    shape = img.shape\n",
    "    points_cnt = annots.shape[0]\n",
    "    heatmap = np.zeros((shape[0],shape[1]))\n",
    "    \n",
    "    heatmap[[list(annots[:,1]),list(annots[:,0])]] = 1\n",
    "    \"\"\"\n",
    "    for p in range(points_cnt-1):\n",
    "        heatmap = cv2.line(heatmap,tuple(annots[p,:]),tuple(annots[p+1,:]),(255,255,255),thickness=5)\n",
    "\n",
    "    heatmap = heatmap.astype(np.float32)\n",
    "    annots = annots.astype(np.int)\n",
    "    heatmap = cv2.polylines(heatmap, [annots], False, (255,255,255), thickness=3, lineType=cv2.LINE_AA)\n",
    "    \"\"\"\n",
    "\n",
    "    annots = annots.astype(np.float64)\n",
    "    x,y = annots[:,0],annots[:,1]\n",
    "    l=len(x)\n",
    "    t=np.linspace(0,1,l-2,endpoint=True)\n",
    "    t=np.append([0,0,0],t)\n",
    "    t=np.append(t,[1,1,1])\n",
    "    tck=[t,[x,y],3]\n",
    "    u3=np.linspace(0,1,(max(l*2,500)),endpoint=True)\n",
    "    out = interpolate.splev(u3,tck)\n",
    "    heatmap[[list(out[1].astype(np.int)),list(out[0].astype(np.int))]] = 1\n",
    "\n",
    "    return heatmap"
   ]
  },
  {
   "cell_type": "code",
   "execution_count": null,
   "metadata": {},
   "outputs": [],
   "source": [
    "def draw_boundary(img,annot):\n",
    "    heatmap = np.zeros((64,64))\n",
    "\n",
    "    heatmap += drawline(img,annot[0:17,:])\n",
    "    heatmap += drawline(img,annot[17:22,:])\n",
    "    heatmap += drawline(img,annot[22:27,:])\n",
    "    heatmap += drawline(img,annot[36:40,:])\n",
    "    heatmap += drawline(img, np.array([annot[i] for i in [36, 41, 40, 39]]))\n",
    "    heatmap += drawline(img,annot[42:46,:])\n",
    "    heatmap += drawline(img, np.array([annot[i] for i in [42, 47, 46, 45]]))\n",
    "    heatmap += drawline(img,annot[27:31,:])\n",
    "    heatmap += drawline(img,annot[31:36,:])\n",
    "    heatmap += drawline(img,annot[48:55,:])\n",
    "    heatmap += drawline(img, np.array([annot[i] for i in [60, 61, 62, 63, 64]]))\n",
    "    heatmap += drawline(img, np.array([annot[i] for i in [48, 59, 58, 57, 56, 55, 54]]))\n",
    "    heatmap += drawline(img, np.array([annot[i] for i in [60, 67, 66, 65, 64]]))\n",
    "    heatmap = np.clip(heatmap,0,1).astype(np.uint8)*255\n",
    "\n",
    "    heatmap = 255-heatmap\n",
    "    dist_transform = cv2.distanceTransform(heatmap, cv2.DIST_L2, cv2.DIST_MASK_PRECISE)\n",
    "    dist_transform = dist_transform.astype(np.float64)\n",
    "    sigma = 1\n",
    "    gt = np.where(dist_transform < 3*sigma, np.exp(-(dist_transform*dist_transform)/(2*sigma*sigma)), 0 )\n",
    "\n",
    "    return gt"
   ]
  },
  {
   "cell_type": "code",
   "execution_count": null,
   "metadata": {},
   "outputs": [],
   "source": [
    "x = [[1,2,3],\n",
    "     [4,5,6]]\n",
    "\n",
    "\n",
    "\n",
    "row = len(x) 2 3 --> 3 2\n",
    "column = len(x[0])\n"
   ]
  },
  {
   "cell_type": "code",
   "execution_count": null,
   "metadata": {},
   "outputs": [],
   "source": []
  },
  {
   "cell_type": "code",
   "execution_count": null,
   "metadata": {},
   "outputs": [],
   "source": [
    "zeros_array = [ [0] * row for _ in range(column)]\n",
    "\n"
   ]
  },
  {
   "cell_type": "code",
   "execution_count": null,
   "metadata": {},
   "outputs": [],
   "source": [
    "\n",
    "column = 0\n",
    "for row_idx,row in enumerate(x):\n",
    "    \n",
    "  \n",
    "\n",
    "    while column<=2:\n",
    "        print(column)\n",
    "        \n",
    "        zeros_array[column ][row_idx] = row[column]\n",
    "        column +=1\n",
    "    column = 0\n",
    "    "
   ]
  },
  {
   "cell_type": "code",
   "execution_count": null,
   "metadata": {},
   "outputs": [],
   "source": [
    "zeros_array"
   ]
  },
  {
   "cell_type": "code",
   "execution_count": null,
   "metadata": {},
   "outputs": [],
   "source": [
    "import torch\n",
    "import torch.nn as nn"
   ]
  },
  {
   "cell_type": "code",
   "execution_count": null,
   "metadata": {},
   "outputs": [],
   "source": [
    "conv2d = nn.Conv2d(3,6,kernel_size=3,padding=1\n",
    "                   )"
   ]
  },
  {
   "cell_type": "code",
   "execution_count": null,
   "metadata": {},
   "outputs": [],
   "source": [
    "conv2d"
   ]
  },
  {
   "cell_type": "code",
   "execution_count": null,
   "metadata": {},
   "outputs": [],
   "source": [
    "import tensorflow as tf"
   ]
  },
  {
   "cell_type": "code",
   "execution_count": null,
   "metadata": {},
   "outputs": [],
   "source": [
    "x_range = tf.expand_dims(tf.range([6]),0) # 1,6"
   ]
  },
  {
   "cell_type": "code",
   "execution_count": null,
   "metadata": {},
   "outputs": [],
   "source": [
    "xx_range = tf.tile(x_range,[2,1])"
   ]
  },
  {
   "cell_type": "code",
   "execution_count": null,
   "metadata": {},
   "outputs": [],
   "source": [
    "xx_range"
   ]
  },
  {
   "cell_type": "code",
   "execution_count": null,
   "metadata": {},
   "outputs": [],
   "source": [
    "x= tf.random.uniform(shape=[2,28,1])"
   ]
  },
  {
   "cell_type": "code",
   "execution_count": null,
   "metadata": {},
   "outputs": [],
   "source": [
    "y = tf.random.uniform(shape=[2,1,30])"
   ]
  },
  {
   "cell_type": "code",
   "execution_count": null,
   "metadata": {},
   "outputs": [],
   "source": [
    "out = tf.matmul(x,y)"
   ]
  },
  {
   "cell_type": "code",
   "execution_count": null,
   "metadata": {},
   "outputs": [],
   "source": [
    "out.shape"
   ]
  },
  {
   "cell_type": "code",
   "execution_count": null,
   "metadata": {},
   "outputs": [],
   "source": [
    "5!\n",
    "\n",
    "\n",
    "5--> 5*4*3*2*1"
   ]
  },
  {
   "cell_type": "code",
   "execution_count": null,
   "metadata": {},
   "outputs": [],
   "source": [
    "def factorial(n):\n",
    "    \n",
    "    if n==1:\n",
    "        return 1\n",
    "    return n *factorial(n-1)"
   ]
  },
  {
   "cell_type": "code",
   "execution_count": null,
   "metadata": {},
   "outputs": [],
   "source": [
    "class Node:\n",
    "    def __init__(self,val):\n",
    "        self.val = val\n",
    "        self.next = None"
   ]
  },
  {
   "cell_type": "code",
   "execution_count": null,
   "metadata": {},
   "outputs": [],
   "source": [
    "l1 = LinkedList()"
   ]
  },
  {
   "cell_type": "code",
   "execution_count": null,
   "metadata": {},
   "outputs": [],
   "source": [
    "l1.insert(1)"
   ]
  },
  {
   "cell_type": "code",
   "execution_count": null,
   "metadata": {},
   "outputs": [],
   "source": [
    "l1.insert(2)"
   ]
  },
  {
   "cell_type": "code",
   "execution_count": null,
   "metadata": {},
   "outputs": [],
   "source": [
    "l1.insert(3)"
   ]
  },
  {
   "cell_type": "code",
   "execution_count": null,
   "metadata": {},
   "outputs": [],
   "source": [
    "l1.addBegining(5)"
   ]
  },
  {
   "cell_type": "code",
   "execution_count": null,
   "metadata": {},
   "outputs": [],
   "source": []
  },
  {
   "cell_type": "code",
   "execution_count": null,
   "metadata": {},
   "outputs": [],
   "source": [
    "l1.addMiddle(1,6)"
   ]
  },
  {
   "cell_type": "code",
   "execution_count": null,
   "metadata": {},
   "outputs": [],
   "source": [
    "l1.print()"
   ]
  },
  {
   "cell_type": "code",
   "execution_count": null,
   "metadata": {},
   "outputs": [],
   "source": [
    "import cv2\n",
    "import os\n",
    "import numpy as np\n",
    "import matplotlib.pyplot as plt\n",
    "import dlib\n",
    "from imutils import face_utils\n",
    "from torch.utils.data import Dataset\n",
    "import torch\n",
    "import torch.nn as nn\n",
    "import numpy as np\n",
    "import os\n",
    "from torch.utils.data import Dataset\n",
    "import torch\n",
    "from PIL import Image\n",
    "import matplotlib.pyplot as plt\n",
    "from albumentations.pytorch import ToTensorV2\n",
    "import albumentations as A\n",
    "import torch.nn as nn\n",
    "from torch.optim import Adam\n",
    "from tqdm import tqdm\n",
    "from glob import glob\n",
    "import segmentation_models_pytorch as smp\n",
    "import torch.nn.functional as F\n",
    "import cv2\n",
    "import time \n",
    "import mediapipe\n",
    "from torchvision import transforms\n",
    "from mpl_toolkits.mplot3d import Axes3D\n",
    "import pandas as pd\n",
    "from torch.utils.data import DataLoader\n",
    "from sklearn.model_selection import train_test_split\n",
    "import math\n",
    "import albumentations as A\n",
    "from torchvision.models.feature_extraction import get_graph_node_names\n",
    "from torchvision import models\n",
    "import wandb\n",
    "import sys\n",
    "sys.path.append(\"../BaseModels\")\n",
    "from  unet_model import UNET\n",
    "device = 'cuda' if torch.cuda.is_available() else 'cpu'\n",
    "# device = \"cpu\"\n",
    "\n",
    "RESIZE_AMT = 64"
   ]
  },
  {
   "cell_type": "code",
   "execution_count": null,
   "metadata": {},
   "outputs": [],
   "source": [
    "import torch\n",
    "import torch.nn as nn\n",
    "\n",
    "# '''\n",
    "#      Instantiate the object like:\n",
    "#           criterion = AdaptiveWingLoss(whetherWeighted=True)\n",
    "#      #param whetherWeighted: whether use weighted loss map\n",
    "#      #param dilaStru: size of dilation structure\n",
    "# '''\n",
    "class AdaptiveWingLoss(nn.Module):\n",
    "  def __init__(self, alpha=2.1, omega=14.0, theta=0.5, epsilon=1.0,\\\n",
    "               whetherWeighted=False, dilaStru=3, w=10, device=device):\n",
    "    super(AdaptiveWingLoss, self).__init__()\n",
    "    self.device = device\n",
    "    self.alpha = torch.Tensor([alpha]).to(device)\n",
    "    self.omega = torch.Tensor([omega]).to(device)\n",
    "    self.theta = torch.Tensor([theta]).to(device)\n",
    "    self.epsilon = torch.Tensor([epsilon]).to(device)\n",
    "    self.dilationStru = dilaStru\n",
    "    self.w = torch.Tensor([w]).to(device)\n",
    "    self.tmp = torch.Tensor([self.theta / self.epsilon]).to(device)\n",
    "    self.wetherWeighted = whetherWeighted\n",
    "\n",
    "# '''\n",
    "#    #param predictions: predicted heat map with dimension of batchSize * landmarkNum * heatMapSize * heatMapSize  \n",
    "#    #param targets: ground truth heat map with dimension of batchSize * landmarkNum * heatMapSize * heatMapSize  \n",
    "# '''\n",
    "  def forward(self, predictions, targets):\n",
    "    \n",
    "    \n",
    "    deltaY = predictions - targets\n",
    "    deltaY = torch.abs(deltaY)\n",
    "    alphaMinusY = self.alpha - targets\n",
    "    \n",
    "    \n",
    "    a = self.omega / self.epsilon * alphaMinusY / (1 + self.tmp.pow(alphaMinusY))\\\n",
    "        * self.tmp.pow(alphaMinusY - 1)\n",
    "    c = self.theta * a - self.omega * torch.log(1 + self.tmp.pow(alphaMinusY))\n",
    "\n",
    "    l = torch.where(deltaY < self.theta,\n",
    "                    self.omega * torch.log(1 + (deltaY / self.epsilon).pow(alphaMinusY)),\n",
    "                    a * deltaY - c)\n",
    "    if self.wetherWeighted:\n",
    "      weightMap = self.grayDilation(targets, self.dilationStru)\n",
    "      weightMap = torch.where(weightMap >= 0.2, torch.Tensor([1]).to(self.device),\\\n",
    "                              torch.Tensor([0]).to(self.device))\n",
    "      l = l * (self.w * weightMap + 1)\n",
    "\n",
    "    l = torch.mean(l)\n",
    "\n",
    "    return l\n",
    "    \n",
    "  def grayDilation(self, heatmapGt, structureSize):\n",
    "    batchSize, landmarkNum, heatmapSize, _ = heatmapGt.shape\n",
    "    weightMap = heatmapGt.clone()\n",
    "    step = structureSize // 2\n",
    "    for i in range(1, heatmapSize-1, 1):\n",
    "      for j in range(1, heatmapSize-1, 1):\n",
    "        weightMap[:, :, i, j] = torch.max(heatmapGt[:, :, i - step: i + step + 1,\\\n",
    "                                j - step: j + step + 1].contiguous().view(batchSize,\\\n",
    "                                landmarkNum, structureSize * structureSize), dim=2)[0]\n",
    "\n",
    "    return weightMap"
   ]
  },
  {
   "cell_type": "code",
   "execution_count": null,
   "metadata": {},
   "outputs": [],
   "source": [
    "\n",
    "IMAGE_DIR = \"/home/nipun/Documents/Uni_Malta/Datasets/CenterRegression/MixDataset/images\"\n",
    "trn_df = pd.read_csv(\"/home/nipun/Documents/Uni_Malta/Datasets/CenterRegression/MixDataset/trainAll.csv\")\n",
    "val_df = pd.read_csv(\"/home/nipun/Documents/Uni_Malta/Datasets/CenterRegression/MixDataset/valAll.csv\")\n",
    "\n"
   ]
  },
  {
   "cell_type": "code",
   "execution_count": null,
   "metadata": {},
   "outputs": [],
   "source": [
    "class CenterDataset(torch.utils.data.Dataset):\n",
    "    def __init__(self,df,image_dir=IMAGE_DIR,RESIZE_AMT=RESIZE_AMT):\n",
    "        \n",
    "        self.RESIZE_AMT = RESIZE_AMT\n",
    "        self.image_dir = image_dir\n",
    "        self.df = df\n",
    "        self.image_ids = df.Image_Name.unique()\n",
    "        self.transforms = transforms\n",
    "        \n",
    "    # apply gaussian kernel to image\n",
    "    def _gaussian(self, xL, yL, sigma, H, W):\n",
    "\n",
    "        channel = [math.exp(-((c - xL) ** 2 + (r - yL) ** 2) / (2 * sigma ** 2)) for r in range(H) for c in range(W)]\n",
    "        channel = np.array(channel, dtype=np.float32)\n",
    "        channel = np.reshape(channel, newshape=(H, W))\n",
    "\n",
    "        return channel\n",
    "    \n",
    "    \n",
    "    \n",
    "    \n",
    "    # convert original image to heatmap\n",
    "    def _convertToHM(self, img, keypoints, sigma=2):\n",
    "\n",
    "        H = img.shape[0] \n",
    "        W =  img.shape[1]\n",
    "        nKeypoints = len(keypoints)\n",
    "\n",
    "        img_hm = np.zeros(shape=(H, W, nKeypoints // 2), dtype=np.float32)\n",
    "\n",
    "        for i in range(0, nKeypoints // 2):\n",
    "            x = keypoints[i * 2]\n",
    "            y = keypoints[1 + 2 * i]\n",
    "\n",
    "            channel_hm = self._gaussian(x, y, sigma, H, W)\n",
    "\n",
    "            img_hm[:, :, i] = channel_hm\n",
    "            \n",
    "        return img_hm\n",
    "    def __getitem__(self,ix):\n",
    "        \n",
    "        img_id = self.image_ids[ix]\n",
    "        img_path = os.path.join(self.image_dir,img_id)\n",
    "        \n",
    "        img = cv2.imread(img_path)[:,:,::-1]\n",
    "        \n",
    "        \n",
    "        img = cv2.resize(img,(self.RESIZE_AMT,self.RESIZE_AMT))\n",
    "        \n",
    "        img = img/255.0\n",
    "        \n",
    "        \n",
    "        \n",
    "        data = self.df[self.df[\"Image_Name\"]==img_id]\n",
    "        \n",
    "        \n",
    "        x1 = data[\"X1\"].values[0] * self.RESIZE_AMT\n",
    "        y1 = data[\"Y1\"].values[0] * self.RESIZE_AMT\n",
    "        \n",
    "        \n",
    "        heatmap = torch.tensor(self._convertToHM(img,[x1,y1]),dtype=torch.float32).permute(2,0,1)#.view(1*self.RESIZE_AMT*self.RESIZE_AMT)\n",
    "        \n",
    "        image = torch.tensor(img,dtype=torch.float32).permute(2,0,1)\n",
    "        \n",
    "        \n",
    "        return image,heatmap\n",
    "        \n",
    "    def collate_fn(self,batch):\n",
    "        return tuple(zip(*batch))\n",
    "    \n",
    "    def __len__(self):\n",
    "        return len(self.image_ids) "
   ]
  },
  {
   "cell_type": "code",
   "execution_count": null,
   "metadata": {},
   "outputs": [],
   "source": [
    "BACTH_SIZE = 512\n",
    "train_ds = CenterDataset(trn_df)\n",
    "test_ds = CenterDataset(val_df)\n",
    "\n",
    "trainLoader = DataLoader(train_ds, batch_size=BACTH_SIZE,\n",
    "\tshuffle=True, num_workers=os.cpu_count(), pin_memory=True,drop_last=True)\n",
    "testLoader = DataLoader(test_ds, batch_size=BACTH_SIZE,\n",
    "\tnum_workers=os.cpu_count(), pin_memory=True,drop_last=True)"
   ]
  },
  {
   "cell_type": "code",
   "execution_count": null,
   "metadata": {},
   "outputs": [],
   "source": [
    "x,y = next(iter(trainLoader))"
   ]
  },
  {
   "cell_type": "code",
   "execution_count": null,
   "metadata": {},
   "outputs": [],
   "source": [
    "# heatmap = y[0].permute(1,2,0).detach().cpu().numpy()\n",
    "\n",
    "\n"
   ]
  },
  {
   "cell_type": "code",
   "execution_count": null,
   "metadata": {},
   "outputs": [],
   "source": [
    "batchSize, landmarkNum, heatmapSize, _ = y.shape\n",
    "\n",
    "weightMap = y.clone()\n",
    "structureSize=3\n",
    "step = structureSize // 2\n",
    "for i in range(1, heatmapSize-1, 1):\n",
    "  for j in range(1, heatmapSize-1, 1):\n",
    "    weightMap[:, :, i, j] = torch.max(y[:, :, i - step: i + step + 1,\\\n",
    "                            j - step: j + step + 1].contiguous().view(batchSize,\\\n",
    "                            landmarkNum, structureSize * structureSize), dim=2)[0]"
   ]
  },
  {
   "cell_type": "code",
   "execution_count": null,
   "metadata": {},
   "outputs": [],
   "source": [
    "\n",
    "dilated_mask = weightMap[1].permute(1,2,0).detach().cpu().numpy()\n",
    "\n",
    "\n",
    "plt.imshow(dilated_mask)"
   ]
  },
  {
   "cell_type": "code",
   "execution_count": null,
   "metadata": {},
   "outputs": [],
   "source": [
    "\n",
    "def double_conv(input_channels,output_channels):\n",
    "    return nn.Sequential(nn.Conv2d(input_channels,output_channels,kernel_size=3,stride=1,padding='same'),\n",
    "                         nn.BatchNorm2d(output_channels),\n",
    "                         nn.ReLU(),\n",
    "                         nn.Conv2d(output_channels,output_channels,kernel_size=3,stride=1,padding='same'),\n",
    "                         nn.BatchNorm2d(output_channels),\n",
    "                         nn.ReLU())\n",
    "    \n",
    "    \n",
    "class UNET(nn.Module):\n",
    "    def __init__(self,num_classes):\n",
    "        super().__init__()\n",
    "        \n",
    "        self.num_classes = num_classes\n",
    "        self.conv_1 = double_conv(3,64)\n",
    "        self.mx_1 = nn.MaxPool2d(kernel_size=(2,2))\n",
    "        \n",
    "        \n",
    "        self.conv_2 = double_conv(64,128)\n",
    "        self.mx_2 = nn.MaxPool2d(kernel_size=(2,2))\n",
    "        \n",
    "        \n",
    "        self.conv_3 = double_conv(128,256)\n",
    "        self.mx_3 = nn.MaxPool2d(kernel_size=(2,2))\n",
    "        \n",
    "        \n",
    "        \n",
    "        self.conv_4 = double_conv(256,512)\n",
    "        self.mx_4 = nn.MaxPool2d(kernel_size=(2,2))\n",
    "        \n",
    "        \n",
    "        \n",
    "        self.conv_5 = double_conv(512,1024)\n",
    "        \n",
    "        \n",
    "        \n",
    "        self.up_1 = nn.ConvTranspose2d(1024,512,kernel_size=2,stride=2)\n",
    "        \n",
    "        \n",
    "        \n",
    "        self.conv6 = double_conv(1024,512)\n",
    "       \n",
    "       \n",
    "        self.up_2 = nn.ConvTranspose2d(512,256,kernel_size=2,stride=2)\n",
    "        \n",
    "        \n",
    "        \n",
    "        self.conv7 = double_conv(512,256)\n",
    "        \n",
    "        \n",
    "        self.up_3 = nn.ConvTranspose2d(256,128,kernel_size=2,stride=2)\n",
    "        \n",
    "        \n",
    "        self.conv8 = double_conv(256,128)\n",
    "        \n",
    "\n",
    "        self.up_4 = nn.ConvTranspose2d(128,64,kernel_size=2,stride=2)\n",
    "        \n",
    "        self.conv9 = double_conv(128,64)\n",
    "        \n",
    "        self.out_conv = nn.Conv2d(64,self.num_classes,kernel_size=1)\n",
    "        \n",
    "    def forward(self,x):\n",
    "\n",
    "        \n",
    "        x1 = self.conv_1(x)  # 1, 64, 64,64\n",
    "        \n",
    "        x1_max = self.mx_1(x1)\n",
    "        \n",
    "        #################\n",
    "        \n",
    "        x2 = self.conv_2(x1_max)  # 1, 128, 32, 32\n",
    "        x2_max = self.mx_2(x2)\n",
    "        #################\n",
    "        x3 = self.conv_3(x2_max)  # 1, 256, 16,16\n",
    "        x3_max = self.mx_3(x3)\n",
    "        ################\n",
    "        \n",
    "        x4 = self.conv_4(x3_max) # 1, 512, 8, 8\n",
    "        x4_max = self.mx_4(x4)\n",
    "        \n",
    "        #################\n",
    "        \n",
    "        # Bridge\n",
    "        \n",
    "        x5 = self.conv_5(x4_max)  # 1, 1024, 4, 4\n",
    "       \n",
    "        ####################\n",
    "        \n",
    "        x6 = self.up_1(x5) # [1, 512, 8, 8]\n",
    "      \n",
    "        \n",
    "        \n",
    "        decoder_1 = torch.concat([x6,x4],dim=1) # 1, 1024, 8, 8\n",
    "        \n",
    "        \n",
    "        decoder_1 = self.conv6(decoder_1)  # [1, 512, 8, 8]\n",
    "        \n",
    "        \n",
    "        \n",
    "        \n",
    "        d_2 = self.up_2(decoder_1)\n",
    "        \n",
    "        decoder_2 = torch.concat([d_2,x3],dim=1) # [1, 512, 16, 16]\n",
    "        \n",
    "        decoder_2 = self.conv7(decoder_2) # [1, 256, 16, 16]\n",
    "        \n",
    "       \n",
    "        d_3 = self.up_3(decoder_2)\n",
    "        \n",
    "        decoder_3 = torch.concat([d_3,x2],dim=1)\n",
    "        \n",
    "        decoder_3 = self.conv8(decoder_3) # [1, 128, 32, 32]\n",
    "        \n",
    "        \n",
    "        d_4 = self.up_4(decoder_3)\n",
    "        decoder_4 = torch.concat([d_4,x1],dim=1)\n",
    "        \n",
    "        decoder_4 = self.conv9(decoder_4) # 1, 64, 64, 64\n",
    "        \n",
    "        output = self.out_conv(decoder_4)\n",
    "        \n",
    "        return output"
   ]
  },
  {
   "cell_type": "code",
   "execution_count": null,
   "metadata": {},
   "outputs": [],
   "source": [
    "unet= UNET(num_classes=1)"
   ]
  },
  {
   "cell_type": "code",
   "execution_count": null,
   "metadata": {},
   "outputs": [],
   "source": [
    "pred = unet(x)\n",
    "\n",
    "pred.shape"
   ]
  },
  {
   "cell_type": "code",
   "execution_count": null,
   "metadata": {},
   "outputs": [],
   "source": [
    "# pred.device\n",
    "\n",
    "# y.device"
   ]
  },
  {
   "cell_type": "code",
   "execution_count": null,
   "metadata": {},
   "outputs": [],
   "source": [
    "criterion = AdaptiveWingLoss(whetherWeighted=True)\n"
   ]
  },
  {
   "cell_type": "code",
   "execution_count": null,
   "metadata": {},
   "outputs": [],
   "source": [
    "criterion(x,y)"
   ]
  },
  {
   "cell_type": "code",
   "execution_count": null,
   "metadata": {},
   "outputs": [],
   "source": [
    "# 1.4971\n",
    "# 1.1691"
   ]
  },
  {
   "cell_type": "code",
   "execution_count": null,
   "metadata": {},
   "outputs": [],
   "source": [
    "def trainStep(model,trainLoader,optimizer,loss_fn):\n",
    "    \n",
    "    model.train()\n",
    "    \n",
    "    epoch_loss = 0\n",
    "    \n",
    "    total_step = 0\n",
    "    \n",
    "    for _,(x,y) in enumerate(trainLoader):\n",
    "        \n",
    "        x = x.to(device)\n",
    "        y = y.to(device)\n",
    "        \n",
    "        \n",
    "        optimizer.zero_grad()\n",
    "        \n",
    "        y_pred = model(x)\n",
    "        \n",
    "        loss = loss_fn(y_pred,y)\n",
    "        \n",
    "        \n",
    "        loss.backward()\n",
    "        optimizer.step()\n",
    "        \n",
    "        \n",
    "        epoch_loss += loss.item()\n",
    "        \n",
    "        total_step += 1\n",
    "        \n",
    "    return epoch_loss/len(trainLoader)"
   ]
  },
  {
   "cell_type": "code",
   "execution_count": null,
   "metadata": {},
   "outputs": [],
   "source": [
    "def valStep(model,testLoader,loss_fn):\n",
    "    model.eval()\n",
    "    \n",
    "    \n",
    "    total_val_mse_loss = 0\n",
    "    total_val_jaccard_index = 0\n",
    "    \n",
    "    total_step = 0\n",
    "    \n",
    "    for (x,y) in testLoader:\n",
    "        \n",
    "        x = x.to(device)\n",
    "        y = y.to(device)\n",
    "        \n",
    "        with torch.no_grad():\n",
    "            \n",
    "            y_pred = model(x)\n",
    "        \n",
    "    \n",
    "        loss = loss_fn(y_pred,y).item()\n",
    "        \n",
    "        total_val_mse_loss += loss\n",
    "        \n",
    "       \n",
    "        \n",
    "    return total_val_mse_loss/len(testLoader)"
   ]
  },
  {
   "cell_type": "code",
   "execution_count": null,
   "metadata": {},
   "outputs": [],
   "source": []
  },
  {
   "cell_type": "code",
   "execution_count": null,
   "metadata": {},
   "outputs": [],
   "source": [
    "def main(model,trainLoader,testLoader,optimizer,loss_fn,epochs=100):\n",
    "    \n",
    "    \n",
    "    val_loss = 0\n",
    "    \n",
    "    for epoch in range(epochs):\n",
    "        \n",
    "        \n",
    "        \n",
    "        \n",
    "        trainLoss=trainStep(model,trainLoader,optimizer,loss_fn)\n",
    "        valLoss=valStep(model,testLoader,loss_fn)\n",
    "        \n",
    "        \n",
    "        if epoch==0:\n",
    "            val_loss = valLoss\n",
    "            \n",
    "        elif val_loss<valLoss  and abs(val_loss-valLoss) > 0.2:\n",
    "            \n",
    "            model_name = f\"hm_model_{str(val_loss)}.pth\"\n",
    "            torch.save(model, model_name)\n",
    "\n",
    "            \n",
    "        \n",
    "        \n",
    "        \n",
    "        \n",
    "        print(f\"Epoch {epoch+1}| Train MSE Loss--> {train_epoch_mse_loss}\")\n",
    "        print(f\"Epoch {epoch+1}| VAL MSE Loss--> {val_mse}\")\n",
    "        print(f\"Epoch {epoch+1}| VAL Jaccard Loss--> {val_jaccard}\\n\")"
   ]
  },
  {
   "cell_type": "code",
   "execution_count": null,
   "metadata": {},
   "outputs": [],
   "source": [
    "model = UNET(num_classes=1)\n",
    "parameters = filter(lambda p: p.requires_grad,model.parameters())\n",
    "\n",
    "optimizer = torch.optim.Adam(parameters,lr=0.006)\n",
    "\n",
    "main(model,trainLoader,testLoader,optimizer,criterion,epochs=100)"
   ]
  },
  {
   "cell_type": "code",
   "execution_count": null,
   "metadata": {},
   "outputs": [],
   "source": []
  },
  {
   "cell_type": "code",
   "execution_count": null,
   "metadata": {},
   "outputs": [],
   "source": []
  },
  {
   "cell_type": "code",
   "execution_count": null,
   "metadata": {},
   "outputs": [],
   "source": []
  },
  {
   "cell_type": "code",
   "execution_count": null,
   "metadata": {},
   "outputs": [],
   "source": []
  },
  {
   "cell_type": "code",
   "execution_count": null,
   "metadata": {},
   "outputs": [],
   "source": []
  },
  {
   "cell_type": "code",
   "execution_count": null,
   "metadata": {},
   "outputs": [],
   "source": []
  },
  {
   "cell_type": "code",
   "execution_count": null,
   "metadata": {},
   "outputs": [],
   "source": []
  },
  {
   "cell_type": "code",
   "execution_count": null,
   "metadata": {},
   "outputs": [],
   "source": []
  },
  {
   "cell_type": "code",
   "execution_count": null,
   "metadata": {},
   "outputs": [],
   "source": []
  },
  {
   "cell_type": "code",
   "execution_count": null,
   "metadata": {},
   "outputs": [],
   "source": [
    "import torch\n",
    "import torch.nn as nn\n",
    "\n",
    "class AddCoords(nn.Module):\n",
    "\n",
    "    def __init__(self, with_r=False, with_boundary=False):\n",
    "        super().__init__()\n",
    "        self.with_r = with_r\n",
    "        self.with_boundary = with_boundary\n",
    "\n",
    "    def forward(self, input_tensor, boundary_map):\n",
    "        \"\"\"\n",
    "        Args:\n",
    "            input_tensor: shape(batch, channel, x_dim, y_dim)\n",
    "        \"\"\"\n",
    "        batch_size, _, x_dim, y_dim = input_tensor.size()\n",
    "\n",
    "        xx_channel = torch.arange(x_dim).repeat(1, y_dim, 1)\n",
    "        yy_channel = torch.arange(y_dim).repeat(1, x_dim, 1).transpose(1, 2)\n",
    "\n",
    "        xx_channel = xx_channel.float() / (x_dim - 1)\n",
    "        yy_channel = yy_channel.float() / (y_dim - 1)\n",
    "\n",
    "        xx_channel = xx_channel * 2 - 1\n",
    "        yy_channel = yy_channel * 2 - 1\n",
    "\n",
    "        xx_channel = xx_channel.repeat(batch_size, 1, 1, 1).transpose(2, 3).cuda()\n",
    "        yy_channel = yy_channel.repeat(batch_size, 1, 1, 1).transpose(2, 3).cuda()\n",
    "\n",
    "        ret = torch.cat([\n",
    "            input_tensor,\n",
    "            xx_channel.type_as(input_tensor),\n",
    "            yy_channel.type_as(input_tensor)], dim=1)\n",
    "\n",
    "        if self.with_r:\n",
    "            rr = torch.sqrt(torch.pow(xx_channel.type_as(input_tensor) - 0.5, 2) + torch.pow(yy_channel.type_as(input_tensor) - 0.5, 2))\n",
    "            ret = torch.cat([ret, rr], dim=1)\n",
    "\n",
    "        if self.with_boundary and (boundary_map is not None):\n",
    "            # B, 64(H), 64(W)\n",
    "            boundary_map = boundary_map.view(boundary_map.shape[0],1,boundary_map.shape[1],boundary_map.shape[2])\n",
    "            boundary_channel = torch.clamp(boundary_map,0.0, 1.0)\n",
    "            zero_tensor = torch.zeros_like(xx_channel)\n",
    "            xx_boundary_channel = torch.where(boundary_channel>0.05, xx_channel, zero_tensor)\n",
    "            yy_boundary_channel = torch.where(boundary_channel>0.05, yy_channel, zero_tensor)\n",
    "\n",
    "            ret = torch.cat([ret, xx_boundary_channel, yy_boundary_channel], dim=1)\n",
    "\n",
    "        return ret\n",
    "\n",
    "\n",
    "class CoordConv(nn.Module):\n",
    "\n",
    "    def __init__(self, in_channels, out_channels, with_r=True, with_boundary=False,**kwargs):\n",
    "        super().__init__()\n",
    "        self.addcoords = AddCoords(with_r=with_r,with_boundary=with_boundary)\n",
    "        in_size = in_channels+2\n",
    "        if with_r:\n",
    "            in_size += 1\n",
    "        if with_boundary:\n",
    "            in_size += 2\n",
    "        self.conv = nn.Conv2d(in_size, out_channels, **kwargs)\n",
    "\n",
    "    def forward(self, x, boundary_map=None):\n",
    "        ret = self.addcoords(x, boundary_map)\n",
    "        ret = self.conv(ret)\n",
    "        return ret\n",
    "\n",
    "\n"
   ]
  },
  {
   "cell_type": "code",
   "execution_count": null,
   "metadata": {},
   "outputs": [],
   "source": [
    " x = torch.randn(1,3,633,357)\n",
    "coordconv1 = CoordConv(3,64,kernel_size=3,padding=1)\n",
    "out = coordconv1(x)\n",
    "print(out.shape)"
   ]
  },
  {
   "cell_type": "code",
   "execution_count": null,
   "metadata": {},
   "outputs": [],
   "source": [
    "import math\n",
    "import torch\n",
    "import torch.nn as nn\n",
    "import torch.nn.functional as F\n",
    "import torch.utils.model_zoo as model_zoo\n",
    "\n",
    "\n",
    "__all__ = ['MobileNetV2', 'mobilenetv2']\n",
    "\n",
    "\n",
    "DEBUG=False\n",
    "\n",
    "class Block(nn.Module):\n",
    "    \"\"\" \n",
    "    Bottleneck Residual Block\n",
    "    \n",
    "    \"\"\"\n",
    "    def __init__(self, in_channels, out_channels, expansion=1, stride=1):\n",
    "        super(Block, self).__init__()\n",
    "        if expansion == 1:\n",
    "            self.conv = nn.Sequential(\n",
    "                nn.Conv2d(in_channels, in_channels, 3, stride, 1, groups=in_channels, bias=False),\n",
    "                nn.BatchNorm2d(in_channels),\n",
    "                nn.ReLU6(inplace=True),\n",
    "                nn.Conv2d(in_channels, out_channels, 1, 1, 0, bias=False),\n",
    "                nn.BatchNorm2d(out_channels),\n",
    "            )\n",
    "        else:\n",
    "            channels = expansion * in_channels\n",
    "            self.conv = nn.Sequential(\n",
    "                nn.Conv2d(in_channels, channels, 1, 1, 0, bias=False),\n",
    "                nn.BatchNorm2d(channels),\n",
    "                nn.ReLU6(inplace=True),\n",
    "                nn.Conv2d(channels, channels, 3, stride, 1, groups=channels, bias=False),\n",
    "                nn.BatchNorm2d(channels),\n",
    "                nn.ReLU6(inplace=True),\n",
    "                nn.Conv2d(channels, out_channels, 1, 1, 0, bias=False),\n",
    "                nn.BatchNorm2d(out_channels),\n",
    "            )\n",
    "        self.residual = (stride == 1) and (in_channels == out_channels)\n",
    "\n",
    "    def forward(self, x):\n",
    "        out = self.conv(x)\n",
    "        if self.residual:\n",
    "            out = out + x\n",
    "        return out\n",
    "\n",
    "\n",
    "class MobileNetV2(nn.Module):\n",
    "    def __init__(self, config):\n",
    "        super(MobileNetV2, self).__init__()\n",
    "        in_channels = config[0][1]\n",
    "        features = [nn.Sequential(\n",
    "            nn.Conv2d(3, in_channels, 3, 2, 1, bias=False),\n",
    "            nn.BatchNorm2d(in_channels),\n",
    "            nn.ReLU6(inplace=True)\n",
    "        )]\n",
    "        for expansion, out_channels, blocks, stride in config[1:]:\n",
    "            for i in range(blocks):\n",
    "                features.append(Block(in_channels, out_channels, expansion, stride if i == 0 else 1))\n",
    "                in_channels = out_channels\n",
    "        self.features = nn.Sequential(*features)\n",
    "\n",
    "    def forward(self, x):\n",
    "        c2 = self.features[:4](x)\n",
    "        c3 = self.features[4:7](c2)\n",
    "        c4 = self.features[7:14](c3)\n",
    "        kwargs = {'size': c2.shape[-2:],'mode': 'bilinear','align_corners': False}\n",
    "        features =  torch.cat([F.interpolate(xx,**kwargs) for xx in [c2,c3,c4]], 1)\n",
    "\n",
    "        if DEBUG:\n",
    "            print(f'------------------------- \\nFeatures shape mobilev2: {features.shape}\\n---------------------------------')\n",
    "\n",
    "        return features\n",
    "\n",
    "def mobilenetv2(pretrained=False, **kwargs):\n",
    "    \"\"\"Constructs a MobileNetv2 model.\n",
    "    Args:\n",
    "        pretrained (bool): If True, returns a model pre-trained on ImageNet\n",
    "    \"\"\"\n",
    "    config = [\n",
    "        (1,  32, 1, 1),\n",
    "        (1,  16, 1, 1),\n",
    "        (6,  24, 2, 2), \n",
    "        (6,  32, 3, 2),\n",
    "        (6,  64, 4, 2),\n",
    "        (6,  96, 3, 1),\n",
    "    ]\n",
    "    model = MobileNetV2(config=config)\n",
    "    if pretrained:\n",
    "        assert kwargs[\"model_url\"] is not None, f'Model url should not be  None'\n",
    "        model.load_state_dict(model_zoo.load_url(kwargs[\"model_url\"]), strict=False)\n",
    "    return model\n"
   ]
  },
  {
   "cell_type": "code",
   "execution_count": null,
   "metadata": {},
   "outputs": [],
   "source": [
    "x = torch.rand((1, 3, 64,64))\n",
    "model = mobilenetv2()\n",
    "a = model(x)\n",
    "print(a.shape)"
   ]
  },
  {
   "cell_type": "code",
   "execution_count": null,
   "metadata": {},
   "outputs": [],
   "source": [
    "import torch\n",
    "import torch.nn as nn\n",
    "import torch.nn.functional as F\n",
    "from torchvision import transforms\n",
    "import random\n",
    "import numpy as np\n",
    "import cv2"
   ]
  },
  {
   "cell_type": "code",
   "execution_count": null,
   "metadata": {},
   "outputs": [],
   "source": [
    "def heatmap2coord(heatmap, topk=7):\n",
    "    N, C, H, W = heatmap.shape\n",
    "    score, index = heatmap.view(N,C,1,-1).topk(topk, dim=-1)\n",
    "    coord = torch.cat([index%W, index//W], dim=2)\n",
    "    return (coord*F.softmax(score, dim=-1)).sum(-1)"
   ]
  },
  {
   "cell_type": "code",
   "execution_count": null,
   "metadata": {},
   "outputs": [],
   "source": [
    "def heatmap2coord(heatmap, topk=7):\n",
    "    N, C, H, W = heatmap.shape\n",
    "    score, index = heatmap.view(N,C,1,-1).topk(topk, dim=-1)\n",
    "    coord = torch.cat([index%W, index//W], dim=2)\n",
    "    return (coord*F.softmax(score, dim=-1)).sum(-1)\n",
    "\n"
   ]
  },
  {
   "cell_type": "code",
   "execution_count": null,
   "metadata": {},
   "outputs": [],
   "source": [
    "\"\"\"\n",
    "\\ Predicted heatmap to topk softmax heatmap\n",
    " Used when training model. After the decode step, we ave the heatmap \n",
    " then we get only topk points in that and get softmax of those\n",
    "\"\"\"\n",
    "def heatmap2topkheatmap(heatmap, topk=7):\n",
    "    \"\"\"\n",
    "    \\ Find topk value in each heatmap and calculate softmax for them.\n",
    "    \\ Another non topk points will be zero.\n",
    "    \\Based on that https://discuss.pytorch.org/t/how-to-keep-only-top-k-percent-values/83706\n",
    "    \"\"\"\n",
    "    N, C, H, W = heatmap.shape\n",
    "   \n",
    "    # Get topk points in each heatmap\n",
    "    # And using softmax for those score\n",
    "    heatmap = heatmap.view(N,C,1,-1)\n",
    "    \n",
    "    score, index = heatmap.topk(topk, dim=-1)\n",
    "    score = F.softmax(score, dim=-1)\n",
    "    heatmap = F.softmax(heatmap, dim=-1)\n",
    "\n",
    "\n",
    "    # Assign non-topk zero values\n",
    "    # Assign topk with calculated softmax value\n",
    "    res = torch.zeros(heatmap.shape)\n",
    "    res = res.scatter(-1, index, score)\n",
    "\n",
    "    # Reshape to the original size\n",
    "    heatmap = res.view(N, C, H, W)\n",
    "    # heatmap = heatmap.view(N, C, H, W)\n",
    "\n",
    "\n",
    "    return heatmap"
   ]
  },
  {
   "cell_type": "code",
   "execution_count": null,
   "metadata": {},
   "outputs": [],
   "source": [
    "def mean_topk_activation(heatmap, topk=7):\n",
    "    \"\"\"\n",
    "    \\ Find topk value in each heatmap and calculate softmax for them.\n",
    "    \\ Another non topk points will be zero.\n",
    "    \\Based on that https://discuss.pytorch.org/t/how-to-keep-only-top-k-percent-values/83706\n",
    "    \"\"\"\n",
    "    N, C, H, W = heatmap.shape\n",
    "   \n",
    "    # Get topk points in each heatmap\n",
    "    # And using softmax for those score\n",
    "    heatmap = heatmap.view(N,C,1,-1)\n",
    "    \n",
    "    score, index = heatmap.topk(topk, dim=-1)\n",
    "    score = F.sigmoid(score)\n",
    "\n",
    "    return score"
   ]
  },
  {
   "cell_type": "code",
   "execution_count": null,
   "metadata": {},
   "outputs": [],
   "source": [
    "def heatmap2softmaxheatmap(heatmap):\n",
    "    N, C, H, W = heatmap.shape\n",
    "   \n",
    "    # Get topk points in each heatmap\n",
    "    # And using softmax for those score\n",
    "    heatmap = heatmap.view(N,C,1,-1)\n",
    "    heatmap = F.softmax(heatmap, dim=-1)\n",
    "\n",
    "\n",
    "    # Reshape to the original size\n",
    "    heatmap = heatmap.view(N, C, H, W)\n",
    "\n",
    "    return heatmap"
   ]
  },
  {
   "cell_type": "code",
   "execution_count": null,
   "metadata": {},
   "outputs": [],
   "source": [
    "def heatmap2sigmoidheatmap(heatmap):\n",
    "    heatmap = F.sigmoid(heatmap)\n",
    "\n",
    "    return heatmap"
   ]
  },
  {
   "cell_type": "code",
   "execution_count": null,
   "metadata": {},
   "outputs": [],
   "source": [
    "def generate_gaussian(t, x, y, sigma=10):\n",
    "    \"\"\"\n",
    "    Generates a 2D Gaussian point at location x,y in tensor t.\n",
    "    \n",
    "    x should be in range (-1, 1) to match the output of fastai's PointScaler.\n",
    "    \n",
    "    sigma is the standard deviation of the generated 2D Gaussian.\n",
    "    \"\"\"\n",
    "    _gaussians = {}\n",
    "\n",
    "\n",
    "    h,w = t.shape\n",
    "    \n",
    "    # Heatmap pixel per output pixel\n",
    "    mu_x = int(0.5 * (x + 1.) * w)\n",
    "    mu_y = int(0.5 * (y + 1.) * h)\n",
    "    \n",
    "    tmp_size = sigma * 3\n",
    "    \n",
    "    # Top-left\n",
    "    x1,y1 = int(mu_x - tmp_size), int(mu_y - tmp_size)\n",
    "    \n",
    "    # Bottom right\n",
    "    x2, y2 = int(mu_x + tmp_size + 1), int(mu_y + tmp_size + 1)\n",
    "    if x1 >= w or y1 >= h or x2 < 0 or y2 < 0:\n",
    "        return t\n",
    "    \n",
    "    size = 2 * tmp_size + 1\n",
    "    tx = np.arange(0, size, 1, np.float32)\n",
    "    ty = tx[:, np.newaxis]\n",
    "    x0 = y0 = size // 2\n",
    "    \n",
    "    # The gaussian is not normalized, we want the center value to equal 1\n",
    "    g = _gaussians[sigma] if sigma in _gaussians \\\n",
    "                else torch.Tensor(np.exp(- ((tx - x0) ** 2 + (ty - y0) ** 2) / (2 * sigma ** 2)))\n",
    "    _gaussians[sigma] = g\n",
    "    \n",
    "    # Determine the bounds of the source gaussian\n",
    "    g_x_min, g_x_max = max(0, -x1), min(x2, w) - x1\n",
    "    g_y_min, g_y_max = max(0, -y1), min(y2, h) - y1\n",
    "    \n",
    "    # Image range\n",
    "    img_x_min, img_x_max = max(0, x1), min(x2, w)\n",
    "    img_y_min, img_y_max = max(0, y1), min(y2, h)\n",
    "    \n",
    "    t[img_y_min:img_y_max, img_x_min:img_x_max] = \\\n",
    "      g[g_y_min:g_y_max, g_x_min:g_x_max]\n",
    "    \n",
    "    return t"
   ]
  },
  {
   "cell_type": "code",
   "execution_count": null,
   "metadata": {},
   "outputs": [],
   "source": [
    "def coord2heatmap(w, h, ow, oh, x, y, random_round=False, random_round_with_gaussian=False):\n",
    "    \"\"\"\n",
    "    Inserts a coordinate (x,y) from a picture with \n",
    "    original size (w x h) into a heatmap, by randomly assigning \n",
    "    it to one of its nearest neighbor coordinates, with a probability\n",
    "    proportional to the coordinate error.\n",
    "    \n",
    "    Arguments:\n",
    "    x: x coordinate\n",
    "    y: y coordinate\n",
    "    w: original width of picture with x coordinate\n",
    "    h: original height of picture with y coordinate\n",
    "    \"\"\"\n",
    "    # Get scale\n",
    "    sx = ow / w\n",
    "    sy = oh / h\n",
    "    \n",
    "    # Unrounded target points\n",
    "    px = x * sx\n",
    "    py = y * sy\n",
    "    \n",
    "    # Truncated coordinates\n",
    "    nx,ny = int(px), int(py)\n",
    "    \n",
    "    # Coordinate error\n",
    "    ex,ey = px - nx, py - ny\n",
    "\n",
    "    # Heatmap    \n",
    "    heatmap = torch.zeros(ow, oh)\n",
    "\n",
    "    if random_round_with_gaussian:\n",
    "        xyr = torch.rand(2)\n",
    "        xx = (ex >= xyr[0]).long()\n",
    "        yy = (ey >= xyr[1]).long()\n",
    "        row = min(ny + yy, heatmap.shape[0] - 1)\n",
    "        col = min(nx+xx, heatmap.shape[1] - 1)\n",
    "\n",
    "        # Normalize into - 1, 2\n",
    "        col = (col/float(ow)) * (2) + (-1)\n",
    "        row = (row/float(oh)) * (2) + (-1)\n",
    "        heatmap = generate_gaussian(heatmap, col, row, sigma=1.5)\n",
    "\n",
    "\n",
    "    elif random_round:\n",
    "        xyr = torch.rand(2)\n",
    "        xx = (ex >= xyr[0]).long()\n",
    "        yy = (ey >= xyr[1]).long()\n",
    "        heatmap[min(ny + yy, heatmap.shape[0] - 1), \n",
    "                min(nx+xx, heatmap.shape[1] - 1)] = 1\n",
    "    else:\n",
    "        nx = min(nx, ow-1)\n",
    "        ny = min(ny, oh-1)\n",
    "        heatmap[ny][nx] = (1-ex) * (1-ey)\n",
    "        if (ny+1<oh-1):\n",
    "            heatmap[ny+1][nx] = (1-ex) * ey\n",
    "        \n",
    "        if (nx+1<ow-1):\n",
    "            heatmap[ny][nx+1] = ex * (1-ey)\n",
    "        \n",
    "        if (nx+1<ow-1 and ny+1<oh-1):\n",
    "            heatmap[ny+1][nx+1] = ex * ey\n",
    "    \n",
    "    return heatmap"
   ]
  },
  {
   "cell_type": "code",
   "execution_count": null,
   "metadata": {},
   "outputs": [],
   "source": [
    "def lmks2heatmap(lmks, random_round=False, random_round_with_gaussian=False):\n",
    "    w,h,ow,oh=256,256,64,64\n",
    "    heatmap = torch.rand((lmks.shape[0],lmks.shape[1], ow, oh))\n",
    "    for i in range(lmks.shape[0]):  # num_lmks\n",
    "        for j in range(lmks.shape[1]):\n",
    "            heatmap[i][j] = coord2heatmap(w, h, ow, oh, lmks[i][j][0], lmks[i][j][1], random_round=random_round, random_round_with_gaussian=random_round_with_gaussian)\n",
    "    \n",
    "    return heatmap"
   ]
  },
  {
   "cell_type": "code",
   "execution_count": null,
   "metadata": {},
   "outputs": [],
   "source": []
  },
  {
   "cell_type": "code",
   "execution_count": null,
   "metadata": {},
   "outputs": [],
   "source": [
    "from fastai.vision.models import resnet34\n",
    "from fastai.vision.models import  *"
   ]
  },
  {
   "cell_type": "code",
   "execution_count": null,
   "metadata": {},
   "outputs": [],
   "source": [
    "m = resnet34()\n",
    "tst = DynamicUnet(m, 5, (128,128), norm_type=None)"
   ]
  },
  {
   "cell_type": "code",
   "execution_count": null,
   "metadata": {},
   "outputs": [],
   "source": []
  }
 ],
 "metadata": {
  "kernelspec": {
   "display_name": "tf_gpu",
   "language": "python",
   "name": "python3"
  },
  "language_info": {
   "codemirror_mode": {
    "name": "ipython",
    "version": 3
   },
   "file_extension": ".py",
   "mimetype": "text/x-python",
   "name": "python",
   "nbconvert_exporter": "python",
   "pygments_lexer": "ipython3",
   "version": "3.10.6"
  },
  "orig_nbformat": 4
 },
 "nbformat": 4,
 "nbformat_minor": 2
}
