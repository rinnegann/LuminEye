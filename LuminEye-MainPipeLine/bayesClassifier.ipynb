{
 "cells": [
  {
   "cell_type": "code",
   "execution_count": null,
   "metadata": {},
   "outputs": [],
   "source": [
    "# Read Image\n",
    "# Load Likelihood values stored into 64 bin histograrms\n",
    "\n",
    "# if  likelihood is  higher that means that pixel is belongs to iris or pupil region"
   ]
  },
  {
   "cell_type": "code",
   "execution_count": 1,
   "metadata": {},
   "outputs": [],
   "source": [
    "import numpy as np\n",
    "import cv2\n",
    "import os\n",
    "import pandas as pd\n",
    "import matplotlib.pyplot as plt"
   ]
  },
  {
   "cell_type": "code",
   "execution_count": 20,
   "metadata": {},
   "outputs": [],
   "source": [
    "def BayesEstimation(img,histogramBinValuesPath,thresh=0.9):\n",
    "    \n",
    "    r_img = img[:,:,::-1][:,:,0]\n",
    "    \n",
    "    imgGauss = cv2.GaussianBlur(r_img,(3,3),1)\n",
    "    \n",
    "    with open(histogramBinValuesPath,\"r\") as f:\n",
    "        hist = [float(j.rstrip()) for j in f.readlines()]\n",
    "        \n",
    "    imgR_bin = np.zeros((r_img.shape[0],r_img.shape[1])).astype(np.uint8)\n",
    "    \n",
    "    \n",
    "    \n",
    "    for row in range(r_img.shape[0]):\n",
    "    \n",
    "        for column in range(r_img.shape[1]):\n",
    "            \n",
    "            binNo = (imgGauss[row,column]) // 4\n",
    "            \n",
    "            \n",
    "            # print(binNo)\n",
    "            likelihood = hist[binNo]\n",
    "            \n",
    "            \n",
    "            if likelihood >= thresh:\n",
    "                imgR_bin[row,column] = 1\n",
    "                \n",
    "                \n",
    "    plt.imshow(imgR_bin)\n",
    "    plt.show()\n",
    "    \n",
    "    \n",
    "    \n",
    "    analysis = cv2.connectedComponentsWithStats(imgR_bin,\n",
    "                                           4,\n",
    "                                            cv2.CV_32S)\n",
    "    (totalLabels, label_ids, values, centroid) = analysis\n",
    "    \n",
    "    \n",
    "    return centroid[-1]\n",
    "    \n",
    "    "
   ]
  },
  {
   "cell_type": "code",
   "execution_count": 22,
   "metadata": {},
   "outputs": [
    {
     "data": {
      "image/png": "[encoded data removed]",
      "text/plain": [
       "<Figure size 640x480 with 1 Axes>"
      ]
     },
     "metadata": {},
     "output_type": "display_data"
    },
    {
     "name": "stdout",
     "output_type": "stream",
     "text": [
      "[17.4751773  10.94680851]\n"
     ]
    }
   ],
   "source": [
    "print(BayesEstimation(img=img,histogramBinValuesPath=text_path,thresh=0.9))"
   ]
  },
  {
   "cell_type": "code",
   "execution_count": 18,
   "metadata": {},
   "outputs": [],
   "source": [
    "# Read Image\n",
    "img = cv2.imread(\"/home/nipun/Documents/Uni_Malta/Datasets/CenterRegression/BIOID/eyes/BioID_0103_left.png\")"
   ]
  },
  {
   "cell_type": "code",
   "execution_count": 3,
   "metadata": {},
   "outputs": [],
   "source": [
    "# Histogram Path\n",
    "\n",
    "# % likelihood values of range of intensity values belonging to the iris and pupil class\n",
    "text_path = \"/home/nipun/Documents/Uni_Malta/LuminEye/LuminEye-MainPipeLine/BayesClassifier/MatLab/ScleraSkinIris.txt\"\n",
    "\n",
    "with open(text_path,\"r\") as f:\n",
    "    hist = [float(j.rstrip()) for j in f.readlines()]\n",
    "    \n",
    "r_img = img[:,:,0]\n",
    "\n",
    "# plt.imshow(r_img)\n",
    "# plt.show()"
   ]
  },
  {
   "cell_type": "code",
   "execution_count": 4,
   "metadata": {},
   "outputs": [],
   "source": [
    "imgGauss = cv2.GaussianBlur(r_img,(3,3),1)\n",
    "\n",
    "# plt.imshow(imgGauss)\n",
    "\n",
    "# imgGauss = r_img"
   ]
  },
  {
   "cell_type": "code",
   "execution_count": 5,
   "metadata": {},
   "outputs": [],
   "source": [
    "imgR_bin = np.zeros((r_img.shape[0],r_img.shape[1])).astype(np.uint8)\n",
    "\n",
    "\n"
   ]
  },
  {
   "cell_type": "code",
   "execution_count": 10,
   "metadata": {},
   "outputs": [],
   "source": [
    "thresh = 2.0\n",
    "for row in range(r_img.shape[0]):\n",
    "    \n",
    "    for column in range(r_img.shape[1]):\n",
    "        \n",
    "        binNo = (imgGauss[row,column]) // 4\n",
    "        \n",
    "        \n",
    "        # print(binNo)\n",
    "        likelihood = hist[binNo]\n",
    "        \n",
    "        \n",
    "        if likelihood >= thresh:\n",
    "            imgR_bin[row,column] = 1\n",
    "    "
   ]
  },
  {
   "cell_type": "code",
   "execution_count": 11,
   "metadata": {},
   "outputs": [
    {
     "data": {
      "text/plain": [
       "<matplotlib.image.AxesImage at 0x7f15185d6b60>"
      ]
     },
     "execution_count": 11,
     "metadata": {},
     "output_type": "execute_result"
    },
    {
     "data": {
      "image/png": "[encoded data removed]",
      "text/plain": [
       "<Figure size 640x480 with 1 Axes>"
      ]
     },
     "metadata": {},
     "output_type": "display_data"
    }
   ],
   "source": [
    "plt.imshow(imgR_bin)"
   ]
  },
  {
   "cell_type": "code",
   "execution_count": 12,
   "metadata": {},
   "outputs": [
    {
     "name": "stdout",
     "output_type": "stream",
     "text": [
      "(26, 38)\n"
     ]
    },
    {
     "ename": "NameError",
     "evalue": "name 'totalLabels' is not defined",
     "output_type": "error",
     "traceback": [
      "\u001b[0;31m---------------------------------------------------------------------------\u001b[0m",
      "\u001b[0;31mNameError\u001b[0m                                 Traceback (most recent call last)",
      "\u001b[1;32m/home/nipun/Documents/Uni_Malta/LuminEye/LuminEye-MainPipeLine/bayesClassifier.ipynb Cell 9\u001b[0m in \u001b[0;36m5\n\u001b[1;32m      <a href='vscode-notebook-cell:/home/nipun/Documents/Uni_Malta/LuminEye/LuminEye-MainPipeLine/bayesClassifier.ipynb#X11sZmlsZQ%3D%3D?line=0'>1</a>\u001b[0m \u001b[39mprint\u001b[39m(imgR_bin\u001b[39m.\u001b[39mshape)\n\u001b[1;32m      <a href='vscode-notebook-cell:/home/nipun/Documents/Uni_Malta/LuminEye/LuminEye-MainPipeLine/bayesClassifier.ipynb#X11sZmlsZQ%3D%3D?line=2'>3</a>\u001b[0m \u001b[39m# np.unique(imgR_bin)\u001b[39;00m\n\u001b[0;32m----> <a href='vscode-notebook-cell:/home/nipun/Documents/Uni_Malta/LuminEye/LuminEye-MainPipeLine/bayesClassifier.ipynb#X11sZmlsZQ%3D%3D?line=4'>5</a>\u001b[0m \u001b[39mfor\u001b[39;00m i \u001b[39min\u001b[39;00m \u001b[39mrange\u001b[39m(\u001b[39m0\u001b[39m,totalLabels):\n\u001b[1;32m      <a href='vscode-notebook-cell:/home/nipun/Documents/Uni_Malta/LuminEye/LuminEye-MainPipeLine/bayesClassifier.ipynb#X11sZmlsZQ%3D%3D?line=5'>6</a>\u001b[0m     x\u001b[39m=\u001b[39m values[i,cv2\u001b[39m.\u001b[39mCC_STAT_LEFT]\n\u001b[1;32m      <a href='vscode-notebook-cell:/home/nipun/Documents/Uni_Malta/LuminEye/LuminEye-MainPipeLine/bayesClassifier.ipynb#X11sZmlsZQ%3D%3D?line=6'>7</a>\u001b[0m     y\u001b[39m=\u001b[39m values[i,cv2\u001b[39m.\u001b[39mCC_STAT_TOP]\n",
      "\u001b[0;31mNameError\u001b[0m: name 'totalLabels' is not defined"
     ]
    }
   ],
   "source": [
    "print(imgR_bin.shape)\n",
    "\n",
    "# np.unique(imgR_bin)\n",
    "\n",
    "for i in range(0,totalLabels):\n",
    "    x= values[i,cv2.CC_STAT_LEFT]\n",
    "    y= values[i,cv2.CC_STAT_TOP]\n",
    "    w= values[i,cv2.CC_STAT_WIDTH]\n",
    "    h= values[i,cv2.CC_STAT_HEIGHT]\n",
    "    \n",
    "    print(x,y,w,h)\n",
    "\n"
   ]
  },
  {
   "cell_type": "code",
   "execution_count": 14,
   "metadata": {},
   "outputs": [],
   "source": [
    "analysis = cv2.connectedComponentsWithStats(imgR_bin,\n",
    "                                            4,\n",
    "                                            cv2.CV_32S)\n",
    "(totalLabels, label_ids, values, centroid) = analysis"
   ]
  },
  {
   "cell_type": "code",
   "execution_count": 15,
   "metadata": {},
   "outputs": [
    {
     "data": {
      "text/plain": [
       "array([0, 1, 2, 3, 4, 5], dtype=int32)"
      ]
     },
     "execution_count": 15,
     "metadata": {},
     "output_type": "execute_result"
    }
   ],
   "source": [
    "# label_ids\n",
    "np.unique(label_ids)"
   ]
  },
  {
   "cell_type": "code",
   "execution_count": 16,
   "metadata": {},
   "outputs": [
    {
     "name": "stdout",
     "output_type": "stream",
     "text": [
      "[36.6 24.2]\n"
     ]
    }
   ],
   "source": [
    "# label_ids\n",
    "\n",
    "print(centroid[-1])"
   ]
  },
  {
   "cell_type": "code",
   "execution_count": null,
   "metadata": {},
   "outputs": [],
   "source": [
    "output = np.zeros(imgR_bin.shape,dtype='uint8')\n",
    "\n",
    "\n",
    "for i in range(totalLabels):\n",
    "    \n",
    "    area = values[i,cv2.CC_STAT_AREA]\n",
    "    \n",
    "    if area < 200:\n",
    "        componentMask =  (label_ids ==i).astype('uint8') * 255\n",
    "        \n",
    "        output  = cv2.bitwise_or(output,componentMask)"
   ]
  },
  {
   "cell_type": "markdown",
   "metadata": {},
   "source": []
  },
  {
   "cell_type": "code",
   "execution_count": null,
   "metadata": {},
   "outputs": [],
   "source": [
    "plt.imshow(output)"
   ]
  },
  {
   "cell_type": "code",
   "execution_count": 80,
   "metadata": {},
   "outputs": [
    {
     "name": "stdout",
     "output_type": "stream",
     "text": [
      "16 10\n"
     ]
    }
   ],
   "source": [
    "contours, hierarchy = cv2.findContours(imgR_bin, cv2.RETR_TREE, cv2.CHAIN_APPROX_SIMPLE)\n",
    "\n",
    "\n",
    "cnt = max(contours, key = cv2.contourArea) # finding contour with #maximum area\n",
    "M = cv2.moments(cnt)\n",
    "cx = int(M['m10']/M['m00'])\n",
    "cy = int(M['m01']/M['m00'])\n",
    "\n",
    "\n",
    "\n",
    "print(cx,cy)"
   ]
  },
  {
   "cell_type": "code",
   "execution_count": null,
   "metadata": {},
   "outputs": [],
   "source": [
    "def EuclideanDistance(centerArray,img):\n",
    "    \n",
    "    centerX,centerY = img.shape[1]/2,img.shape[0]/2\n",
    "    \n",
    "    \n",
    "\n",
    "    return np.argmin((((centerArray[:,0]- centerX) ** 2 + (centerArray[:,1]- centerY))**0.5))\n",
    "\n"
   ]
  },
  {
   "cell_type": "code",
   "execution_count": null,
   "metadata": {},
   "outputs": [],
   "source": [
    "centroids[EuclideanDistance(centroids,imgR_bin)]"
   ]
  },
  {
   "cell_type": "code",
   "execution_count": null,
   "metadata": {},
   "outputs": [],
   "source": [
    "output = cv2.connectedComponentsWithStats(imgR_bin,4,cv2.CV_32SC1)"
   ]
  },
  {
   "cell_type": "code",
   "execution_count": null,
   "metadata": {},
   "outputs": [],
   "source": [
    "numLabels,labeles,stats,centroids = output"
   ]
  },
  {
   "cell_type": "code",
   "execution_count": null,
   "metadata": {},
   "outputs": [],
   "source": [
    "\n",
    "imgCenterX, imgCenterY = imgR_bin.shape[1]/2,imgR_bin.shape[0]/2\n",
    "\n",
    "\n",
    "print(imgCenterX)\n",
    "print(imgCenterY)"
   ]
  },
  {
   "cell_type": "code",
   "execution_count": null,
   "metadata": {},
   "outputs": [],
   "source": [
    "np.argmin(((centroids[:,0] - imgCenterX) **2 +(centroids[:,1] - imgCenterY) **2 ) **2)"
   ]
  },
  {
   "cell_type": "code",
   "execution_count": null,
   "metadata": {},
   "outputs": [],
   "source": []
  },
  {
   "cell_type": "markdown",
   "metadata": {},
   "source": [
    "# Bayes Classifier Iris Center Estimation"
   ]
  },
  {
   "cell_type": "markdown",
   "metadata": {},
   "source": []
  },
  {
   "cell_type": "code",
   "execution_count": null,
   "metadata": {},
   "outputs": [],
   "source": []
  }
 ],
 "metadata": {
  "kernelspec": {
   "display_name": "LuminEye",
   "language": "python",
   "name": "python3"
  },
  "language_info": {
   "codemirror_mode": {
    "name": "ipython",
    "version": 3
   },
   "file_extension": ".py",
   "mimetype": "text/x-python",
   "name": "python",
   "nbconvert_exporter": "python",
   "pygments_lexer": "ipython3",
   "version": "3.10.6"
  },
  "orig_nbformat": 4
 },
 "nbformat": 4,
 "nbformat_minor": 2
}
