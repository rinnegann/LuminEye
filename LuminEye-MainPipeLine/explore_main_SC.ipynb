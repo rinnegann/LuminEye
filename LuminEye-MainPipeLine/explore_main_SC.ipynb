{
 "cells": [
  {
   "cell_type": "markdown",
   "metadata": {},
   "source": [
    "## Changes made to the *irisX* and *irisY* functions:"
   ]
  },
  {
   "cell_type": "code",
   "execution_count": null,
   "metadata": {},
   "outputs": [],
   "source": [
    "# Compute the rotated iris centre x-coordinate, for each eye\n",
    "def irisX(innerEyeCorner_x, outerEyeCorner_x, symmAxis_x, r, R, iris_x, theta):\n",
    "    \n",
    "    # Calculate the centre point of the eyeball with respect to the symmetry axis of the face\n",
    "    eyeMid_x = ((innerEyeCorner_x + outerEyeCorner_x) / 2) - symmAxis_x\n",
    "    eyeMid_y = r - R\n",
    "    \n",
    "    # Calculate the radius, Re\n",
    "    Re = math.sqrt(eyeMid_x ** 2 + eyeMid_y ** 2)\n",
    "    \n",
    "    # Calculate the angle, omega_h\n",
    "    wh = math.asin(eyeMid_x / Re)\n",
    "    \n",
    "    # Calculate the angle, omega_e\n",
    "    we = math.asin(((iris_x - symmAxis_x) - eyeMid_x) / r)\n",
    "    \n",
    "    # Calculate the new centre point of the eyeball with respect to the symmetry axis of the\n",
    "    # face, after a head rotation by the yaw angle, theta\n",
    "    eyeMidRot_x = Re * math.sin(wh + math.radians(theta))\n",
    "    \n",
    "    # Calculate the new image position of the iris centre after rotating by the head yaw angle\n",
    "    irisRot_x = (r * math.sin(we + math.radians(theta))) + eyeMidRot_x\n",
    "\n",
    "    return irisRot_x\n",
    "\n",
    "\n",
    "# Compute the rotated iris centre y-coordinate, for each eye\n",
    "def irisY(innerEyeCorner_y, outerEyeCorner_y, pivot_y, r, iris_y, phi):\n",
    "    \n",
    "    # Calculate the centre point of the eyeball with respect to a pivot point\n",
    "    eyeMid_y = ((innerEyeCorner_y + outerEyeCorner_y) / 2) - pivot_y\n",
    "    \n",
    "    # Calculate the angle between the projection of the point on the eyeball sphere and the\n",
    "    # eyeball centre\n",
    "    we = math.asin((eyeMid_y - (iris_y - pivot_y)) / r)\n",
    "    \n",
    "    # Calculate the new image position of the iris centre after rotating by the head pitch angle\n",
    "    irisRot_y = (eyeMid_y * math.cos(math.radians(phi))) - (r * math.sin(we + math.radians(phi)))\n",
    "    \n",
    "    return irisRot_y"
   ]
  },
  {
   "cell_type": "markdown",
   "metadata": {},
   "source": [
    "## Changes made to the *cornerX* and *cornerY* functions:"
   ]
  },
  {
   "cell_type": "code",
   "execution_count": null,
   "metadata": {},
   "outputs": [],
   "source": [
    "# Compute the rotated inner eye corner x-coordinate, for each eye\n",
    "def cornerX(innerEyeCorner_x, symmAxis_x, R, theta):\n",
    "    \n",
    "    # Calculate the eye corner position with respect to the symmetry axis of the face\n",
    "    x = innerEyeCorner_x - symmAxis_x\n",
    "    \n",
    "    # Calculate the angle between the eye corner and the symmetry axis of the face\n",
    "    wc = math.asin(x / R)\n",
    "    \n",
    "    # Calculate the new image position of the eye corner after rotating by the head yaw angle\n",
    "    innerEyeCornerRot_x = R * math.sin(wc + math.radians(theta))\n",
    "    \n",
    "    return innerEyeCornerRot_x\n",
    "\n",
    "\n",
    "# Compute the rotated inner eye corner y-coordinate, for each eye\n",
    "def cornerY(innerEyeCorner_y, pivot_y, phi):\n",
    "    \n",
    "    # Calculate the eye corner position with respect to a pivot point\n",
    "    y = innerEyeCorner_y - pivot_y\n",
    "    \n",
    "    # Calculate the new image position of the eye corner after rotating by the head pitch angle\n",
    "    innerEyeCornerRot_y = y * math.cos(math.radians(phi))\n",
    "    \n",
    "    return innerEyeCornerRot_y"
   ]
  },
  {
   "cell_type": "markdown",
   "metadata": {},
   "source": [
    "## Included the left inner and outer eye corners in addition to the right: "
   ]
  },
  {
   "cell_type": "code",
   "execution_count": null,
   "metadata": {},
   "outputs": [],
   "source": [
    "# Inner Iris X and Y coordinate of Right eye\n",
    "innerEyeCorner_right_x = shape_arr[42][0]\n",
    "innerEyeCorner_right_y = shape_arr[42][1]\n",
    "\n",
    "# Outer Iris X and Y coordinate of Right eye\n",
    "outerEyeCorner_right_x = shape_arr[45][0]\n",
    "outerEyeCorner_right_y = shape_arr[45][1]\n",
    "\n",
    "# Inner Iris X and Y coordinate of Left eye\n",
    "innerEyeCorner_left_x = shape_arr[39][0]\n",
    "innerEyeCorner_left_y = shape_arr[39][1]\n",
    "\n",
    "# Outer Iris X and Y coordinate of Left eye\n",
    "outerEyeCorner_left_x = shape_arr[36][0]\n",
    "outerEyeCorner_left_y = shape_arr[36][1]"
   ]
  },
  {
   "cell_type": "markdown",
   "metadata": {},
   "source": [
    "## Rotating both left and right eye corners:"
   ]
  },
  {
   "cell_type": "code",
   "execution_count": null,
   "metadata": {},
   "outputs": [],
   "source": [
    "innerEyeCornerRot_right_x = cornerX(innerEyeCorner_x=innerEyeCorner_right_x, symmAxis_x=symmAxis_x, R=R, theta=theta)\n",
    "innerEyeCornerRot_right_y = cornerY(innerEyeCorner_y=innerEyeCorner_right_y, pivot_y=piyot_y, phi=phi)\n",
    "\n",
    "innerEyeCornerRot_left_x = cornerX(innerEyeCorner_x=innerEyeCorner_left_x, symmAxis_x=symmAxis_x, R=R, theta=theta)\n",
    "innerEyeCornerRot_left_y = cornerY(innerEyeCorner_y=innerEyeCorner_left_y, pivot_y=piyot_y, phi=phi)"
   ]
  },
  {
   "cell_type": "markdown",
   "metadata": {},
   "source": [
    "## Rotating both left and right iris centres:"
   ]
  },
  {
   "cell_type": "code",
   "execution_count": null,
   "metadata": {},
   "outputs": [],
   "source": [
    "irisRot_right_x = irisX(innerEyeCorner_x=innerEyeCorner_right_x, outerEyeCorner_x=outerEyeCorner_right_x, symmAxis_x=symmAxis_x, r=eyeBallRadius, R=R, iris_x=cx_right, theta=theta)\n",
    "irisRot_right_y = irisY(innerEyeCorner_y=innerEyeCorner_right_y, outerEyeCorner_y=outerEyeCorner_right_y, pivot_y=piyot_y, r=eyeBallRadius, iris_y=cy_right, phi=phi)\n",
    "\n",
    "irisRot_left_x = irisX(innerEyeCorner_x=innerEyeCorner_left_x, outerEyeCorner_x=outerEyeCorner_left_x, symmAxis_x=symmAxis_x, r=eyeBallRadius, R=R, iris_x=cx_left, theta=theta)\n",
    "irisRot_left_y = irisY(innerEyeCorner_y=innerEyeCorner_left_y, outerEyeCorner_y=outerEyeCorner_left_y, pivot_y=piyot_y, r=eyeBallRadius, iris_y=cy_left, phi=phi)"
   ]
  },
  {
   "cell_type": "markdown",
   "metadata": {},
   "source": [
    "## To include at the end to estimate the rotation angles of the right eye:"
   ]
  },
  {
   "cell_type": "code",
   "execution_count": null,
   "metadata": {},
   "outputs": [],
   "source": [
    "# Calculate the distance between the coordinates of the currently observed inner eye corner and iris centre\n",
    "delta_right_x_new = innerEyeCorner_right_x - cx_right\n",
    "delta_right_y_new = innerEyeCorner_right_y - cy_right\n",
    "\n",
    "# Calculate the distance between the coordinates of the rotated inner eye corner and iris centre\n",
    "delta_right_x0 = innerEyeCornerRot_right_x - irisRot_right_x\n",
    "delta_right_y0 = innerEyeCornerRot_right_y - irisRot_right_y\n",
    "\n",
    "# Calculate the distance between the rotated and observed iris centre coordinates\n",
    "delta_right_x = (delta_right_x0 + (eyeBallRadius * math.sin(math.radians(theta)))) - delta_right_x_new\n",
    "delta_right_y = delta_right_y_new - (delta_right_y0 - (eyeBallRadius * math.sin(math.radians(phi))))\n",
    "\n",
    "# Calculate the eyeball yaw and pitch angles\n",
    "alpha_right = math.asin(delta_right_x / eyeBallRadius) - math.radians(theta)\n",
    "beta_right = math.asin(delta_right_y / eyeBallRadius) - math.radians(phi)"
   ]
  },
  {
   "cell_type": "markdown",
   "metadata": {},
   "source": [
    "## To include at the end to estimate the rotation angles of the left eye:"
   ]
  },
  {
   "cell_type": "code",
   "execution_count": null,
   "metadata": {},
   "outputs": [],
   "source": [
    "# Calculate the distance between the coordinates of the currently observed inner eye corner and iris centre\n",
    "delta_left_x_new = innerEyeCorner_left_x - cx_left\n",
    "delta_left_y_new = innerEyeCorner_left_y - cy_left\n",
    "\n",
    "# Calculate the distance between the coordinates of the rotated inner eye corner and iris centre\n",
    "delta_left_x0 = innerEyeCornerRot_left_x - irisRot_left_x\n",
    "delta_left_y0 = innerEyeCornerRot_left_y - irisRot_left_y\n",
    "\n",
    "# Calculate the distance between the rotated and observed iris centre coordinates\n",
    "delta_left_x = (delta_left_x0 + (eyeBallRadius * math.sin(math.radians(theta)))) - delta_left_x_new\n",
    "delta_left_y = delta_left_y_new - (delta_left_y0 - (eyeBallRadius * math.sin(math.radians(phi))))\n",
    "\n",
    "# Calculate the eyeball yaw and pitch angles\n",
    "alpha_left = math.asin(delta_left_x / eyeBallRadius) - math.radians(theta)\n",
    "beta_left = math.asin(delta_left_y / eyeBallRadius) - math.radians(phi)"
   ]
  }
 ],
 "metadata": {
  "kernelspec": {
   "display_name": "Python 3 (ipykernel)",
   "language": "python",
   "name": "python3"
  },
  "language_info": {
   "codemirror_mode": {
    "name": "ipython",
    "version": 3
   },
   "file_extension": ".py",
   "mimetype": "text/x-python",
   "name": "python",
   "nbconvert_exporter": "python",
   "pygments_lexer": "ipython3",
   "version": "3.7.11"
  },
  "vscode": {
   "interpreter": {
    "hash": "e0a565227b7b463d99e303b82d66a46fc21535ffbac57e09021a6b5954f09e13"
   }
  }
 },
 "nbformat": 4,
 "nbformat_minor": 2
}
